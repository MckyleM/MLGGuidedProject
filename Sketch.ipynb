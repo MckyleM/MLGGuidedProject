{
 "cells": [
  {
   "cell_type": "markdown",
   "metadata": {},
   "source": [
    "# Problem Statement\n",
    "\n",
    "BC Finance company seeks to streamline its loan eligibility assessment process by implementing real-time automation.The task at hand involves leveraging a partial dataset provided by the company to devise an algorithm or model that accurately identifies distinct customer segments eligible for targeted loan offerings."
   ]
  },
  {
   "cell_type": "markdown",
   "metadata": {},
   "source": [
    "# Getting the system ready and loading the data"
   ]
  },
  {
   "cell_type": "code",
   "execution_count": 22,
   "metadata": {},
   "outputs": [],
   "source": [
    "import pandas as pd\n",
    "import matplotlib.pyplot as plt\n",
    "import plotly.express as px\n",
    "import seaborn as sns\n",
    "import numpy as np\n",
    "import matplotlib.pyplot as plt\n",
    "from sklearn.linear_model import LinearRegression\n",
    "from sklearn.model_selection import train_test_split\n",
    "from sklearn.metrics import mean_squared_error, r2_score"
   ]
  },
  {
   "cell_type": "code",
   "execution_count": 23,
   "metadata": {},
   "outputs": [
    {
     "data": {
      "text/html": [
       "<div>\n",
       "<style scoped>\n",
       "    .dataframe tbody tr th:only-of-type {\n",
       "        vertical-align: middle;\n",
       "    }\n",
       "\n",
       "    .dataframe tbody tr th {\n",
       "        vertical-align: top;\n",
       "    }\n",
       "\n",
       "    .dataframe thead th {\n",
       "        text-align: right;\n",
       "    }\n",
       "</style>\n",
       "<table border=\"1\" class=\"dataframe\">\n",
       "  <thead>\n",
       "    <tr style=\"text-align: right;\">\n",
       "      <th></th>\n",
       "      <th>Loan_ID</th>\n",
       "      <th>Gender</th>\n",
       "      <th>Married</th>\n",
       "      <th>Dependents</th>\n",
       "      <th>Education</th>\n",
       "      <th>Self_Employed</th>\n",
       "      <th>ApplicantIncome</th>\n",
       "      <th>CoapplicantIncome</th>\n",
       "      <th>LoanAmount</th>\n",
       "      <th>Loan_Amount_Term</th>\n",
       "      <th>Credit_History</th>\n",
       "      <th>Property_Area</th>\n",
       "      <th>Loan_Status</th>\n",
       "    </tr>\n",
       "  </thead>\n",
       "  <tbody>\n",
       "    <tr>\n",
       "      <th>0</th>\n",
       "      <td>LP001002</td>\n",
       "      <td>Male</td>\n",
       "      <td>No</td>\n",
       "      <td>0</td>\n",
       "      <td>Graduate</td>\n",
       "      <td>No</td>\n",
       "      <td>5849</td>\n",
       "      <td>0.0</td>\n",
       "      <td>NaN</td>\n",
       "      <td>360.0</td>\n",
       "      <td>1.0</td>\n",
       "      <td>Urban</td>\n",
       "      <td>Y</td>\n",
       "    </tr>\n",
       "    <tr>\n",
       "      <th>1</th>\n",
       "      <td>LP001003</td>\n",
       "      <td>Male</td>\n",
       "      <td>Yes</td>\n",
       "      <td>1</td>\n",
       "      <td>Graduate</td>\n",
       "      <td>No</td>\n",
       "      <td>4583</td>\n",
       "      <td>1508.0</td>\n",
       "      <td>128.0</td>\n",
       "      <td>360.0</td>\n",
       "      <td>1.0</td>\n",
       "      <td>Rural</td>\n",
       "      <td>N</td>\n",
       "    </tr>\n",
       "    <tr>\n",
       "      <th>2</th>\n",
       "      <td>LP001005</td>\n",
       "      <td>Male</td>\n",
       "      <td>Yes</td>\n",
       "      <td>0</td>\n",
       "      <td>Graduate</td>\n",
       "      <td>Yes</td>\n",
       "      <td>3000</td>\n",
       "      <td>0.0</td>\n",
       "      <td>66.0</td>\n",
       "      <td>360.0</td>\n",
       "      <td>1.0</td>\n",
       "      <td>Urban</td>\n",
       "      <td>Y</td>\n",
       "    </tr>\n",
       "    <tr>\n",
       "      <th>3</th>\n",
       "      <td>LP001006</td>\n",
       "      <td>Male</td>\n",
       "      <td>Yes</td>\n",
       "      <td>0</td>\n",
       "      <td>Not Graduate</td>\n",
       "      <td>No</td>\n",
       "      <td>2583</td>\n",
       "      <td>2358.0</td>\n",
       "      <td>120.0</td>\n",
       "      <td>360.0</td>\n",
       "      <td>1.0</td>\n",
       "      <td>Urban</td>\n",
       "      <td>Y</td>\n",
       "    </tr>\n",
       "    <tr>\n",
       "      <th>4</th>\n",
       "      <td>LP001008</td>\n",
       "      <td>Male</td>\n",
       "      <td>No</td>\n",
       "      <td>0</td>\n",
       "      <td>Graduate</td>\n",
       "      <td>No</td>\n",
       "      <td>6000</td>\n",
       "      <td>0.0</td>\n",
       "      <td>141.0</td>\n",
       "      <td>360.0</td>\n",
       "      <td>1.0</td>\n",
       "      <td>Urban</td>\n",
       "      <td>Y</td>\n",
       "    </tr>\n",
       "  </tbody>\n",
       "</table>\n",
       "</div>"
      ],
      "text/plain": [
       "    Loan_ID Gender Married Dependents     Education Self_Employed  \\\n",
       "0  LP001002   Male      No          0      Graduate            No   \n",
       "1  LP001003   Male     Yes          1      Graduate            No   \n",
       "2  LP001005   Male     Yes          0      Graduate           Yes   \n",
       "3  LP001006   Male     Yes          0  Not Graduate            No   \n",
       "4  LP001008   Male      No          0      Graduate            No   \n",
       "\n",
       "   ApplicantIncome  CoapplicantIncome  LoanAmount  Loan_Amount_Term  \\\n",
       "0             5849                0.0         NaN             360.0   \n",
       "1             4583             1508.0       128.0             360.0   \n",
       "2             3000                0.0        66.0             360.0   \n",
       "3             2583             2358.0       120.0             360.0   \n",
       "4             6000                0.0       141.0             360.0   \n",
       "\n",
       "   Credit_History Property_Area Loan_Status  \n",
       "0             1.0         Urban           Y  \n",
       "1             1.0         Rural           N  \n",
       "2             1.0         Urban           Y  \n",
       "3             1.0         Urban           Y  \n",
       "4             1.0         Urban           Y  "
      ]
     },
     "execution_count": 23,
     "metadata": {},
     "output_type": "execute_result"
    }
   ],
   "source": [
    "#Import raw data \n",
    "bl_csv= pd.read_csv(r\"raw_data.csv\")\n",
    "bl_csv.head()"
   ]
  },
  {
   "cell_type": "code",
   "execution_count": 24,
   "metadata": {},
   "outputs": [
    {
     "data": {
      "text/html": [
       "<div>\n",
       "<style scoped>\n",
       "    .dataframe tbody tr th:only-of-type {\n",
       "        vertical-align: middle;\n",
       "    }\n",
       "\n",
       "    .dataframe tbody tr th {\n",
       "        vertical-align: top;\n",
       "    }\n",
       "\n",
       "    .dataframe thead th {\n",
       "        text-align: right;\n",
       "    }\n",
       "</style>\n",
       "<table border=\"1\" class=\"dataframe\">\n",
       "  <thead>\n",
       "    <tr style=\"text-align: right;\">\n",
       "      <th></th>\n",
       "      <th>Loan_ID</th>\n",
       "      <th>Gender</th>\n",
       "      <th>Married</th>\n",
       "      <th>Dependents</th>\n",
       "      <th>Education</th>\n",
       "      <th>Self_Employed</th>\n",
       "      <th>ApplicantIncome</th>\n",
       "      <th>CoapplicantIncome</th>\n",
       "      <th>LoanAmount</th>\n",
       "      <th>Loan_Amount_Term</th>\n",
       "      <th>Credit_History</th>\n",
       "      <th>Property_Area</th>\n",
       "    </tr>\n",
       "  </thead>\n",
       "  <tbody>\n",
       "    <tr>\n",
       "      <th>0</th>\n",
       "      <td>LP001015</td>\n",
       "      <td>Male</td>\n",
       "      <td>Yes</td>\n",
       "      <td>0</td>\n",
       "      <td>Graduate</td>\n",
       "      <td>No</td>\n",
       "      <td>5720</td>\n",
       "      <td>0</td>\n",
       "      <td>110.0</td>\n",
       "      <td>360.0</td>\n",
       "      <td>1.0</td>\n",
       "      <td>Urban</td>\n",
       "    </tr>\n",
       "    <tr>\n",
       "      <th>1</th>\n",
       "      <td>LP001022</td>\n",
       "      <td>Male</td>\n",
       "      <td>Yes</td>\n",
       "      <td>1</td>\n",
       "      <td>Graduate</td>\n",
       "      <td>No</td>\n",
       "      <td>3076</td>\n",
       "      <td>1500</td>\n",
       "      <td>126.0</td>\n",
       "      <td>360.0</td>\n",
       "      <td>1.0</td>\n",
       "      <td>Urban</td>\n",
       "    </tr>\n",
       "    <tr>\n",
       "      <th>2</th>\n",
       "      <td>LP001031</td>\n",
       "      <td>Male</td>\n",
       "      <td>Yes</td>\n",
       "      <td>2</td>\n",
       "      <td>Graduate</td>\n",
       "      <td>No</td>\n",
       "      <td>5000</td>\n",
       "      <td>1800</td>\n",
       "      <td>208.0</td>\n",
       "      <td>360.0</td>\n",
       "      <td>1.0</td>\n",
       "      <td>Urban</td>\n",
       "    </tr>\n",
       "    <tr>\n",
       "      <th>3</th>\n",
       "      <td>LP001035</td>\n",
       "      <td>Male</td>\n",
       "      <td>Yes</td>\n",
       "      <td>2</td>\n",
       "      <td>Graduate</td>\n",
       "      <td>No</td>\n",
       "      <td>2340</td>\n",
       "      <td>2546</td>\n",
       "      <td>100.0</td>\n",
       "      <td>360.0</td>\n",
       "      <td>NaN</td>\n",
       "      <td>Urban</td>\n",
       "    </tr>\n",
       "    <tr>\n",
       "      <th>4</th>\n",
       "      <td>LP001051</td>\n",
       "      <td>Male</td>\n",
       "      <td>No</td>\n",
       "      <td>0</td>\n",
       "      <td>Not Graduate</td>\n",
       "      <td>No</td>\n",
       "      <td>3276</td>\n",
       "      <td>0</td>\n",
       "      <td>78.0</td>\n",
       "      <td>360.0</td>\n",
       "      <td>1.0</td>\n",
       "      <td>Urban</td>\n",
       "    </tr>\n",
       "  </tbody>\n",
       "</table>\n",
       "</div>"
      ],
      "text/plain": [
       "    Loan_ID Gender Married Dependents     Education Self_Employed  \\\n",
       "0  LP001015   Male     Yes          0      Graduate            No   \n",
       "1  LP001022   Male     Yes          1      Graduate            No   \n",
       "2  LP001031   Male     Yes          2      Graduate            No   \n",
       "3  LP001035   Male     Yes          2      Graduate            No   \n",
       "4  LP001051   Male      No          0  Not Graduate            No   \n",
       "\n",
       "   ApplicantIncome  CoapplicantIncome  LoanAmount  Loan_Amount_Term  \\\n",
       "0             5720                  0       110.0             360.0   \n",
       "1             3076               1500       126.0             360.0   \n",
       "2             5000               1800       208.0             360.0   \n",
       "3             2340               2546       100.0             360.0   \n",
       "4             3276                  0        78.0             360.0   \n",
       "\n",
       "   Credit_History Property_Area  \n",
       "0             1.0         Urban  \n",
       "1             1.0         Urban  \n",
       "2             1.0         Urban  \n",
       "3             NaN         Urban  \n",
       "4             1.0         Urban  "
      ]
     },
     "execution_count": 24,
     "metadata": {},
     "output_type": "execute_result"
    }
   ],
   "source": [
    "#Import validation data\n",
    "bv_csv= pd.read_csv(r\"validation.csv\")\n",
    "bv_csv.head()"
   ]
  },
  {
   "cell_type": "code",
   "execution_count": 4,
   "metadata": {},
   "outputs": [
    {
     "data": {
      "text/html": [
       "<div>\n",
       "<style scoped>\n",
       "    .dataframe tbody tr th:only-of-type {\n",
       "        vertical-align: middle;\n",
       "    }\n",
       "\n",
       "    .dataframe tbody tr th {\n",
       "        vertical-align: top;\n",
       "    }\n",
       "\n",
       "    .dataframe thead th {\n",
       "        text-align: right;\n",
       "    }\n",
       "</style>\n",
       "<table border=\"1\" class=\"dataframe\">\n",
       "  <thead>\n",
       "    <tr style=\"text-align: right;\">\n",
       "      <th></th>\n",
       "      <th>Loan_ID</th>\n",
       "      <th>Gender</th>\n",
       "      <th>Married</th>\n",
       "      <th>Dependents</th>\n",
       "      <th>Education</th>\n",
       "      <th>Self_Employed</th>\n",
       "      <th>ApplicantIncome</th>\n",
       "      <th>CoapplicantIncome</th>\n",
       "      <th>LoanAmount</th>\n",
       "      <th>Loan_Amount_Term</th>\n",
       "      <th>Credit_History</th>\n",
       "      <th>Property_Area</th>\n",
       "      <th>Loan_Status</th>\n",
       "    </tr>\n",
       "  </thead>\n",
       "  <tbody>\n",
       "    <tr>\n",
       "      <th>0</th>\n",
       "      <td>LP001002</td>\n",
       "      <td>Male</td>\n",
       "      <td>No</td>\n",
       "      <td>0</td>\n",
       "      <td>Graduate</td>\n",
       "      <td>No</td>\n",
       "      <td>5849</td>\n",
       "      <td>0.0</td>\n",
       "      <td>NaN</td>\n",
       "      <td>360.0</td>\n",
       "      <td>1.0</td>\n",
       "      <td>Urban</td>\n",
       "      <td>Y</td>\n",
       "    </tr>\n",
       "    <tr>\n",
       "      <th>1</th>\n",
       "      <td>LP001003</td>\n",
       "      <td>Male</td>\n",
       "      <td>Yes</td>\n",
       "      <td>1</td>\n",
       "      <td>Graduate</td>\n",
       "      <td>No</td>\n",
       "      <td>4583</td>\n",
       "      <td>1508.0</td>\n",
       "      <td>128.0</td>\n",
       "      <td>360.0</td>\n",
       "      <td>1.0</td>\n",
       "      <td>Rural</td>\n",
       "      <td>N</td>\n",
       "    </tr>\n",
       "    <tr>\n",
       "      <th>2</th>\n",
       "      <td>LP001005</td>\n",
       "      <td>Male</td>\n",
       "      <td>Yes</td>\n",
       "      <td>0</td>\n",
       "      <td>Graduate</td>\n",
       "      <td>Yes</td>\n",
       "      <td>3000</td>\n",
       "      <td>0.0</td>\n",
       "      <td>66.0</td>\n",
       "      <td>360.0</td>\n",
       "      <td>1.0</td>\n",
       "      <td>Urban</td>\n",
       "      <td>Y</td>\n",
       "    </tr>\n",
       "    <tr>\n",
       "      <th>3</th>\n",
       "      <td>LP001006</td>\n",
       "      <td>Male</td>\n",
       "      <td>Yes</td>\n",
       "      <td>0</td>\n",
       "      <td>Not Graduate</td>\n",
       "      <td>No</td>\n",
       "      <td>2583</td>\n",
       "      <td>2358.0</td>\n",
       "      <td>120.0</td>\n",
       "      <td>360.0</td>\n",
       "      <td>1.0</td>\n",
       "      <td>Urban</td>\n",
       "      <td>Y</td>\n",
       "    </tr>\n",
       "    <tr>\n",
       "      <th>4</th>\n",
       "      <td>LP001008</td>\n",
       "      <td>Male</td>\n",
       "      <td>No</td>\n",
       "      <td>0</td>\n",
       "      <td>Graduate</td>\n",
       "      <td>No</td>\n",
       "      <td>6000</td>\n",
       "      <td>0.0</td>\n",
       "      <td>141.0</td>\n",
       "      <td>360.0</td>\n",
       "      <td>1.0</td>\n",
       "      <td>Urban</td>\n",
       "      <td>Y</td>\n",
       "    </tr>\n",
       "  </tbody>\n",
       "</table>\n",
       "</div>"
      ],
      "text/plain": [
       "    Loan_ID Gender Married Dependents     Education Self_Employed  \\\n",
       "0  LP001002   Male      No          0      Graduate            No   \n",
       "1  LP001003   Male     Yes          1      Graduate            No   \n",
       "2  LP001005   Male     Yes          0      Graduate           Yes   \n",
       "3  LP001006   Male     Yes          0  Not Graduate            No   \n",
       "4  LP001008   Male      No          0      Graduate            No   \n",
       "\n",
       "   ApplicantIncome  CoapplicantIncome  LoanAmount  Loan_Amount_Term  \\\n",
       "0             5849                0.0         NaN             360.0   \n",
       "1             4583             1508.0       128.0             360.0   \n",
       "2             3000                0.0        66.0             360.0   \n",
       "3             2583             2358.0       120.0             360.0   \n",
       "4             6000                0.0       141.0             360.0   \n",
       "\n",
       "   Credit_History Property_Area Loan_Status  \n",
       "0             1.0         Urban           Y  \n",
       "1             1.0         Rural           N  \n",
       "2             1.0         Urban           Y  \n",
       "3             1.0         Urban           Y  \n",
       "4             1.0         Urban           Y  "
      ]
     },
     "execution_count": 4,
     "metadata": {},
     "output_type": "execute_result"
    }
   ],
   "source": [
    "# Convert raw data to DataFrame\n",
    "df = pd.DataFrame(data = bl_csv)\n",
    "df.head()\n",
    "df.info()"
   ]
  },
  {
   "cell_type": "markdown",
   "metadata": {},
   "source": [
    "# Missing value and outlier treatment"
   ]
  },
  {
   "cell_type": "code",
   "execution_count": 26,
   "metadata": {},
   "outputs": [
    {
     "name": "stdout",
     "output_type": "stream",
     "text": [
      "<class 'pandas.core.frame.DataFrame'>\n",
      "Index: 480 entries, 1 to 613\n",
      "Data columns (total 13 columns):\n",
      " #   Column             Non-Null Count  Dtype  \n",
      "---  ------             --------------  -----  \n",
      " 0   Loan_ID            480 non-null    object \n",
      " 1   Gender             480 non-null    object \n",
      " 2   Married            480 non-null    object \n",
      " 3   Dependents         480 non-null    object \n",
      " 4   Education          480 non-null    object \n",
      " 5   Self_Employed      480 non-null    object \n",
   "execution_count": 23,
      " 6   ApplicantIncome    480 non-null    int64  \n",
      " 7   CoapplicantIncome  480 non-null    float64\n",
      " 8   LoanAmount         480 non-null    float64\n",
      " 9   Loan_Amount_Term   480 non-null    float64\n",
      " 10  Credit_History     480 non-null    float64\n",
      " 11  Property_Area      480 non-null    object \n",
      " 12  Loan_Status        480 non-null    object \n",
      "dtypes: float64(4), int64(1), object(8)\n",
      "memory usage: 52.5+ KB\n"
     ]
    }
   ],
   "source": [
    "df.dropna(inplace=True)\n",
    "df.info()"
   ]
  },
  {
   "cell_type": "code",
   "execution_count": 27,
   "metadata": {},
   "outputs": [
    {
     "name": "stdout",
     "output_type": "stream",
     "text": [
      "<class 'pandas.core.frame.DataFrame'>\n",
      "Index: 279 entries, 1 to 613\n",
      "Data columns (total 13 columns):\n",
      " #   Column             Non-Null Count  Dtype  \n",
      "---  ------             --------------  -----  \n",
      " 0   Loan_ID            279 non-null    object \n",
      " 1   Gender             279 non-null    object \n",
      " 2   Married            279 non-null    object \n",
      " 3   Dependents         279 non-null    object \n",
      " 4   Education          279 non-null    object \n",
      " 5   Self_Employed      279 non-null    object \n",
      " 6   ApplicantIncome    279 non-null    int64  \n",
      " 7   CoapplicantIncome  279 non-null    float64\n",
      " 8   LoanAmount         279 non-null    float64\n",
      " 9   Loan_Amount_Term   279 non-null    float64\n",
      " 10  Credit_History     279 non-null    float64\n",
      " 11  Property_Area      279 non-null    object \n",
      " 12  Loan_Status        279 non-null    object \n",
      "dtypes: float64(4), int64(1), object(8)\n",
      "memory usage: 30.5+ KB\n"
     ]
    }
   ],
   "source": [
    "#remove outliers\n",
    "for col in [\"ApplicantIncome\",\"CoapplicantIncome\",\"LoanAmount\"]:\n",
    "    low, high = df[col].quantile([0.1,0.9])\n",
    "    outliers = df[col].between(low,high)\n",
    "    df = df.loc[outliers]\n",
    "df.info()"
   ]
  },
  {
   "cell_type": "markdown",
   "metadata": {},
   "source": [
    "# Exploratory Data Analysis"
   ]
  },
  {
   "cell_type": "code",
   "execution_count": 45,
   "metadata": {},
   "outputs": [
    {
     "data": {
      "image/png": "iVBORw0KGgoAAAANSUhEUgAAAjAAAAGwCAYAAAC3qV8qAAAAOXRFWHRTb2Z0d2FyZQBNYXRwbG90bGliIHZlcnNpb24zLjcuNSwgaHR0cHM6Ly9tYXRwbG90bGliLm9yZy/xnp5ZAAAACXBIWXMAAA9hAAAPYQGoP6dpAACwS0lEQVR4nO2deZwU1dX3f9Xd07MAM8MiMyC7KIsCIhgct2AgjkiMJjyJGqK4xDwayCNiFHlUXIjBxx0TRJMY0USCy6tGQUFEQEUWQQcQEBVBUBhGgZlhmLW77/tHz62uqq7l1tJLDef7+YzYXberblV1V50653fOkRhjDARBEARBED4ikOkJEARBEARB2IUMGIIgCIIgfAcZMARBEARB+A4yYAiCIAiC8B1kwBAEQRAE4TvIgCEIgiAIwneQAUMQBEEQhO8IZXoCqSIWi2Hfvn3o0KEDJEnK9HQIgiAIghCAMYYjR46ge/fuCASM/Sxt1oDZt28fevbsmelpEARBEAThgL1796JHjx6Gy9usAdOhQwcA8QNQWFiY4dkQBEEQBCFCbW0tevbsKd/HjWizBgwPGxUWFpIBQxAEQRA+w0r+QSJegiAIgiB8BxkwBEEQBEH4DjJgCIIgCILwHW1WA0MQmSIajaKlpSXT0yAIT8jJyUEwGMz0NAgiCTJgCMIjGGOorKxEdXV1pqdCEJ5SXFyM0tJSqqlFZBVkwBCER3DjpWvXrigoKKCLPeF7GGOor69HVVUVAKBbt24ZnhFBJCADhiA8IBqNysZL586dMz0dgvCM/Px8AEBVVRW6du1K4SQiayARL0F4ANe8FBQUZHgmBOE9/HtN2i4imyADhiA8hMJGRFuEvtdENkIGDEEQBEEQvoMMGIIgCIIgfAcZMARB+Ibdu3dDkiRUVFQAAFauXAlJkih1nSCOQciAyQDV9c2ZngJBqKisrMTvf/979OvXD7m5uejZsycuuugiLF++PNNTM+XMM8/E/v37UVRUlLZtzp8/H8XFxUnvjx49GlOnTk3bPAjiWIfSqNPM/W99hidX7UT/ru3xzrQfZno6BIHdu3fjrLPOQnFxMR588EEMGTIELS0tWLp0KSZPnozPPvss01M0JBwOo7S0NNPTIAgiA5AHJs28tGEvAODLqroMz4RINYwx1DdH0v7HGLM1z9/97neQJAnr16/HhAkTcNJJJ+Hkk0/GtGnTsHbtWgDAnj17cPHFF6N9+/YoLCzEL3/5Sxw4cEBex86dO3HxxRejpKQE7du3x+mnn4533nlHtZ0+ffpg1qxZuPzyy9GuXTscf/zxmDt3rmqMJEmYN28exo0bh/z8fPTr1w8vv/yy4dz1QkirV6/G6NGjUVBQgI4dO6K8vByHDx8GACxZsgRnn302iouL0blzZ/zkJz/Bzp075c/yENUrr7yC8847DwUFBRg2bBjWrFkjb+/qq69GTU0NJEmCJEm4++67defWp08f/OlPf8I111yDDh06oFevXvjrX/+qGvPNN9/g8ssvR6dOndCuXTuMHDkS69atk5fPmzcPJ5xwAsLhMAYMGIB//vOfScfrqaeewk9+8hMUFBRg0KBBWLNmDb788kuMHj0a7dq1w5lnnqnaRwD4z3/+g9NOOw15eXno168f7rnnHkQiEcPjTBDZCHlgCCJFNLREMXjm0rRvd9u95SgIi/20Dx06hCVLluC+++5Du3btkpYXFxcjFovJxsuqVasQiUQwefJkXHrppVi5ciUAoK6uDhdeeCHuu+8+5Obm4rnnnsNFF12EHTt2oFevXvL6HnzwQfzv//4v7rnnHixduhQ33ngjTjrpJPz4xz+Wx9x55524//77MWfOHPzzn//EZZddhi1btmDQoEGW+1NRUYExY8bgmmuuwZw5cxAKhbBixQpEo1EAwNGjRzFt2jQMHToUdXV1mDlzJn72s5+hoqICgUDiee7222/HQw89hBNPPBG33347Lr/8cnz55Zc488wz8dhjj2HmzJnYsWMHAKB9+/aG83n44Ycxa9Ys/O///i9efvll3HDDDfjhD3+IAQMGoK6uDj/84Q9x/PHH4/XXX0dpaSk+/vhjxGIxAMCrr76KG2+8EY899hjGjh2LRYsW4eqrr0aPHj1w3nnnyduYNWsWHnnkETzyyCOYPn06fvWrX6Ffv36YMWMGevXqhWuuuQZTpkzBW2+9BQB4//33ceWVV+Lxxx/HOeecg507d+K3v/0tAOCuu+6yPMYEkS2QAZMlxGIMgQDVWiDSy5dffgnGGAYOHGg4Zvny5diyZQt27dqFnj17AgCee+45nHzyyfjoo49w+umnY9iwYRg2bJj8mVmzZuHVV1/F66+/jilTpsjvn3XWWbjtttsAACeddBJWr16NRx99VGXA/OIXv8BvfvMbeT3Lli3Dn//8ZzzxxBOW+/PAAw9g5MiRqrEnn3yy/P8TJkxQjf/HP/6B4447Dtu2bcMpp5wiv/+HP/wB48ePBwDcc889OPnkk/Hll19i4MCBKCoqgiRJQqGrCy+8EL/73e8AANOnT8ejjz6KFStWYMCAAViwYAG+++47fPTRR+jUqRMAoH///vJnH3roIVx11VXy57lH7KGHHlIZMFdffTV++ctfytsoKyvDnXfeifLycgDAjTfeiKuvvloef8899+C2227DpEmTAAD9+vXDrFmzcOutt5IBo4CuydkPGTBZwDOrd+HRZZ9jwXVn4JTj0ydGJFJLfk4Q2+4tz8h2RREJN23fvh09e/aUjRcAGDx4MIqLi7F9+3acfvrpqKurw913343Fixdj//79iEQiaGhowJ49e1TrKisrS3r92GOPWY7hWUdWVFRU4Be/+IXh8i+++AIzZ87EunXr8P3338vejj179qgMmKFDh8r/z/v/VFVVmRp6eijXw40e3leooqICw4cPl40XLdu3b5c9I5yzzjoLc+bMMdxGSUkJAGDIkCGq9xobG1FbW4vCwkJs2rQJq1evxn333SePiUajaGxsRH19PVWTBvDihr2YtWgb/nHV6Ti9j/75ITIPGTBZwOovv0dtYwSbvqkmA6YNIUmScCgnU5x44omQJMm1UPcPf/gDli1bhoceegj9+/dHfn4+/uu//gvNzenNuON9e4y46KKL0Lt3b/ztb39D9+7dEYvFcMoppyTNMycnR/5/XoWWGzt2UK6Hr4uvx2quTrbB52o2/7q6Otxzzz34+c9/nrSuvLw8T+bkd9bsPIgjjRF8/PVhMmCyGBLxZgEt0fhTsE3tJUG4plOnTigvL8fcuXNx9OjRpOXV1dUYNGgQ9u7di71798rvb9u2DdXV1Rg8eDCAuHD2qquuws9+9jMMGTIEpaWl2L17d9L6uChY+VqrbREZY8TQoUMNU78PHjyIHTt24I477sCYMWMwaNAgWdxrh3A4LGtq3DB06FBUVFTg0KFDussHDRqE1atXq95bvXq1fMydctppp2HHjh3o379/0p9SB3QsY1cIT2SG7H48PEaItD4Z0U+GyARz587FWWedhR/84Ae49957MXToUEQiESxbtgzz5s3Dtm3bMGTIEEycOBGPPfYYIpEIfve73+GHP/whRo4cCSDuyXnllVdw0UUXQZIk3Hnnnboei9WrV+OBBx7AJZdcgmXLluGll17C4sWLVWNeeukljBw5EmeffTaef/55rF+/Hk8//bTQvsyYMQNDhgzB7373O1x//fUIh8NYsWIFfvGLX6BTp07o3Lkz/vrXv6Jbt27Ys2ePrMexQ58+fVBXV4fly5dj2LBhKCgocBR2ufzyy/GnP/0Jl1xyCWbPno1u3brhk08+Qffu3VFWVoZbbrkFv/zlLzF8+HCMHTsWb7zxBl555ZWk7C67zJw5Ez/5yU/Qq1cv/Nd//RcCgQA2bdqETz/9FH/84x9drbutEKOLsS8gczsLiETp10Jkjn79+uHjjz/Geeedh5tvvhmnnHIKfvzjH2P58uWYN28eJEnCf/7zH3Ts2BHnnnsuxo4di379+uGFF16Q1/HII4+gY8eOOPPMM3HRRRehvLwcp512WtK2br75ZmzYsAHDhw/HH//4RzzyyCOy2JRzzz33YOHChRg6dCiee+45/Pvf/xb2Opx00kl4++23sWnTJvzgBz9AWVkZ/vOf/yAUCiEQCGDhwoXYuHEjTjnlFNx000148MEHbR+vM888E9dffz0uvfRSHHfccXjggQdsrwOIe3LefvttdO3aFRdeeCGGDBmC+++/H8FgXMN0ySWXYM6cOXjooYdw8skn46mnnsIzzzyD0aNHO9oep7y8HIsWLcLbb7+N008/HWeccQYeffRR9O7d29V62xJ0RfYHEmujvrLa2loUFRWhpqYGhYWFmZ6OzIhZy3DwaDzevvv+eJbDhHkfYuPXhzHr4pNxRVmfDM6OcEpjYyN27dqFvn37ko7AgD59+mDq1Kmm1WolScKrr76KSy65JG3zIqw51r7fkxd8jMWb92PGuIH47x+ekOnpHHOI3r/JA5MFRFr9lW3SkiQIgvAbdDH2BWTAZAGRqP3sBoIgCCI1xNpmYKLNQSLeLCBCWUjEMYBeVpKWNhrRJnwGGTD+gDwwWYCchUQ/Gt9D55Boixxr3+tjbHd9CxkwWUCEcvZ8Dy8cVl9fn+GZEIT38O+1tjBfW4Uuyf6AQkhZgBxCyvA8COcEg0EUFxfLZeILCgrkCqgE4VcYY6ivr0dVVRWKi4vlFO+2D12N/QAZMFlAIoSU4YkQruDN/bgRQxBtheLiYqHmlW0F8sD4AzJgsgAqZNc2kCQJ3bp1Q9euXdHS0pLp6RCEJ+Tk5BxDnpc4x5rmx6+QAZMFtESplUBbIhgMHnMXfIJoS5AHxh+QiDcLiPJCdmT1EwRBZBxKo/YHZMBkAS1k7hMEQRCELciAyQKoEi9BEET2QB4Yf0AGTIaJxZgcb6XfDEEQROaha7E/IAMmw1ARO4IgiOyCPDD+wJYBM2/ePAwdOhSFhYUoLCxEWVkZ3nrrLXn56NGjIUmS6u/6669XrWPPnj0YP348CgoK0LVrV9xyyy2IRCKqMStXrsRpp52G3Nxc9O/fH/Pnz3e+h1kOrwEDAIzykAiCIDIOPVf6A1tp1D169MD999+PE088EYwxPPvss7j44ovxySef4OSTTwYAXHfddbj33nvlzxQUFMj/H41GMX78eJSWluLDDz/E/v37ceWVVyInJwd/+tOfAAC7du3C+PHjcf311+P555/H8uXL8Zvf/AbdunVDeXm5F/ucVSg9MGT0EwRBZAFM9Q+RpdgyYC666CLV6/vuuw/z5s3D2rVrZQOmoKDAsGLj22+/jW3btuGdd95BSUkJTj31VMyaNQvTp0/H3XffjXA4jCeffBJ9+/bFww8/DAAYNGgQPvjgAzz66KOmBkxTUxOamprk17W1tXZ2LWP4uYjdEyu/xLJtB/Cva0ehXS6VFCIIom1AISR/4FgDE41GsXDhQhw9ehRlZWXy+88//zy6dOmCU045BTNmzFA1t1uzZg2GDBmCkpIS+b3y8nLU1tZi69at8pixY8eqtlVeXo41a9aYzmf27NkoKiqS/3r27Ol019KKOoTkLx5YsgOf7KnG8+u+zvRUCIIgPMNv1+JjFduPzVu2bEFZWRkaGxvRvn17vPrqqxg8eDAA4Fe/+hV69+6N7t27Y/PmzZg+fTp27NiBV155BQBQWVmpMl4AyK8rKytNx9TW1qKhoQH5+fm685oxYwamTZsmv66trfWFEaP0wPjV6G9qoTRwgiDaDuSB8Qe2DZgBAwagoqICNTU1ePnllzFp0iSsWrUKgwcPxm9/+1t53JAhQ9CtWzeMGTMGO3fuxAknnODpxLXk5uYiNzc3pdtIBX4OIREEQbRFyH7xB7ZDSOFwGP3798eIESMwe/ZsDBs2DHPmzNEdO2rUKADAl19+CSDerffAgQOqMfw1180YjSksLDT0vvgZZQjpcH0zlm8/ILcW8Av+mm0Cxhj2HqqnFg4EQaiga4I/cF0HJhaLqcSzSioqKgAA3bp1AwCUlZVhy5YtqKqqkscsW7YMhYWFchiqrKwMy5cvV61n2bJlKp1NW0KZhfTX977Ctc9uwKPLPscjb+/A1wePZnBm4vj1t/7Sxm9wzgMr8OyHuzM9FYIgsgifPUMes9gKIc2YMQPjxo1Dr169cOTIESxYsAArV67E0qVLsXPnTixYsAAXXnghOnfujM2bN+Omm27Cueeei6FDhwIAzj//fAwePBhXXHEFHnjgAVRWVuKOO+7A5MmT5fDP9ddfj7/85S+49dZbcc011+Ddd9/Fiy++iMWLF3u/91lAi04bgb+siHusnlv7NSpmnp/uKdnGrH7NwbomvPrJt7hk+PHo0j67Qnw7q+oAALsP1luMJAjiWIJqcvkDWwZMVVUVrrzySuzfvx9FRUUYOnQoli5dih//+MfYu3cv3nnnHTz22GM4evQoevbsiQkTJuCOO+6QPx8MBrFo0SLccMMNKCsrQ7t27TBp0iRV3Zi+ffti8eLFuOmmmzBnzhz06NEDf//739tkDRgApuGi6vqWNM4kNdzwr4+xfvchvPVpJf7fDWdmejoqmiJx45HcxQRBKIlRXoIvsGXAPP3004bLevbsiVWrVlmuo3fv3njzzTdNx4wePRqffPKJnan5lpY2IOI1u/+v330IALDx68Npmo043IAhdzFBEErokuAPqBdShmkLnaj9+mNv5h4Y3+4BQRCpgLyy/oAMmAzjt4yjtkRTJAqAPDAEQagh+8UfkAGTYVrawt3Tp7922QPjz+kTBJEiqJCdPyADJsNQCClzNEdJxEsQRDJkwPgDMmAyTKQteGB8Cm+BQNcqgiCU0CXBH5ABkwKiMYZvqxvk1/XNEcOn/LbQSsCvBgD3wNDTFkEQSuiS4A/IgEkB976xFWfd/y427D6Eb6sbMHjmUlz5j/W6YyNtoOCAX7N4uIjXn7MnCCJVUFjZH9hu5khY89X38RYAuw/WY83OgwCA97/4XncseWAyR3OEPDAEQSRDkX1/QB6YFMCNkhhjCAQk87FtwAOTaQ7WNaGxJWr7c9yAIRcMQRBK6KHGH5ABkwJ4bRfGGAKSlQHj/x9KJvfg+7omjPjjOzj9j+/Y/mwTeWAIgtCBLgn+gAyYFMC9KjEGBC2O8LESQrKw4xyzYXe8RcGRpojtzyYq8RIEQSQgDYw/IAMmBXAPTEzAA6PXjbotYnUcMkEz9UIiCEIHfkkgOya7IQMmBUQZN2AAyeLGfay0ErCQAmUEu92oP9z5PcY8vBJrvzqYymkRBJFhKKzsD8iASQE8LMQYQ9Dixt0WNDBPrtqJoxYhHCtDLt0wxhSVeMU+86u/rcPO747isr+uTeHMCILINGS/+AMyYFKAHEKKMQQtXA9tJYT01KqdpsuzzQPDvS+Af+vYEASRGtrAc+UxARkwKYAbMFGXIaQsc1qY8v3RZtPlwSzbmWaF4UiZ7ARBKCERrz8gAyYFRBRp1NYeGOMfSijb3BYuyDYRbzN5YAiCMICuCP6ADJgUoM5CMh9r1o062276bsi2XVGGkMhdTBCEEhLx+gMyYFJAwoCxDiGZiXitvDd+wqoicbpReWDoWkUQhAK6JvgDMmBSQEThgbHSfpi1EmhTBkyWuWDUBgxdrQiCSEAeGH9ABkwKiMYS6bkBF5V4/aSBsfq9Z9uu8E7UAF2sCILQQJcEX0AGTAqIKNKo3fRCaksemGyrA6MW8dqjLZ0XgiCSoYcaf0AGTApQamCUBoxeqMJMxOuvG6X5Dz7bdsWNiDfb9oUgCG8hYb8/IAMmBag0MIq7nd6PosXMA5NlXgs3ZNu+uNHAZJuehyAIb6HSCv6ADJgUEFPUgVE+resVrYuaaGCyLXPHDdkWQmpykYXkL88YQRB2IQ+MPyADxmMYYwoPjPppXS+uapaF5CcRrxVWYuZ0oxTx2n3aIg8MQbRxyIDxBVl2W/E/Sss9XsgucbPT88C0FRGvdRZSdu2LMoRkt5WAj04LQRAOIBGvPyADxmOUHpUYg0YDoyfibRsGjBXZZsC4aebYls4LQRDJkAHjD8iA8RillyXGmKqEvt6Tvlk36mC2xV1MsPq9p85+cXahaXaRhUQGDEG0bch88Qf+uUP6BGVIKBZTZyFFde7yZt2og1lwdqrrm/GvtV+jut6827QV2eaBUXajtnu1yrZ9IQjCW8gB4w+y4BbZtoipPDCABPMQUjamUdc3R7D2q4OIxhhueqECd7z2KX73/Meu1pltToumFqUHhkJIBEHEodYi/iGU6Qm0NSKaEJKSmJ6INwsL2V0z/yOs/eoQ/nD+SVix4zsAwIc7D7paZ7Z5LZqjyiwke2TbvhAE4R2UQu0fyAPjMcqQkNaStxtCCmVIA7P2q0MAgH+v3+vZOrPtpq/WwNi7YmXZrhAE4SHK6zYVtMtubN0h582bh6FDh6KwsBCFhYUoKyvDW2+9JS9vbGzE5MmT0blzZ7Rv3x4TJkzAgQMHVOvYs2cPxo8fj4KCAnTt2hW33HILIpGIaszKlStx2mmnITc3F/3798f8+fOd72GaiWhCSEp0K/FmoQeG8211g/BYqx96tumRqZAdQRB6kAfGP9i6rfTo0QP3338/Nm7ciA0bNuBHP/oRLr74YmzduhUAcNNNN+GNN97ASy+9hFWrVmHfvn34+c9/Ln8+Go1i/PjxaG5uxocffohnn30W8+fPx8yZM+Uxu3btwvjx43HeeeehoqICU6dOxW9+8xssXbrUo11OLcrKujHGVDd23RBSG6kDY0U2e2DsxryzrS0CQRDeQSnU/sGWBuaiiy5Svb7vvvswb948rF27Fj169MDTTz+NBQsW4Ec/+hEA4JlnnsGgQYOwdu1anHHGGXj77bexbds2vPPOOygpKcGpp56KWbNmYfr06bj77rsRDofx5JNPom/fvnj44YcBAIMGDcIHH3yARx99FOXl5YZza2pqQlNTk/y6trbWzq55hrYOjBLdQnbUSiAjNLnoRt2WzgtBEIRfcezYj0ajWLhwIY4ePYqysjJs3LgRLS0tGDt2rDxm4MCB6NWrF9asWQMAWLNmDYYMGYKSkhJ5THl5OWpra2Uvzpo1a1Tr4GP4OoyYPXs2ioqK5L+ePXs63TVXKK137ZP9Md1KIMt2xY0GJtv2hSAI7yAPjH+wbcBs2bIF7du3R25uLq6//nq8+uqrGDx4MCorKxEOh1FcXKwaX1JSgsrKSgBAZWWlynjhy/kyszG1tbVoaDDWZMyYMQM1NTXy39693glQ7WCahWSzEm+2hV3M8FsrATcaGIIg2i50PfAPttOoBwwYgIqKCtTU1ODll1/GpEmTsGrVqlTMzRa5ubnIzc3N9DRUBklyCElnvGkWUnbd9N2QbboRZTNHu6I9usARRNuFPDD+wbYBEw6H0b9/fwDAiBEj8NFHH2HOnDm49NJL0dzcjOrqapUX5sCBAygtLQUAlJaWYv369ar18Swl5Rht5tKBAwdQWFiI/Px8u9NNO9pWAsrfgr4GJnuzkLwky+wXVyJeurwRRNuFft/+wXVyaywWQ1NTE0aMGIGcnBwsX75cXrZjxw7s2bMHZWVlAICysjJs2bIFVVVV8phly5ahsLAQgwcPlsco18HH8HVkOxFVHRj1MruVeLPtpu+mQmW2hZCUrQTogYsgCA6z2Z2eyBy2PDAzZszAuHHj0KtXLxw5cgQLFizAypUrsXTpUhQVFeHaa6/FtGnT0KlTJxQWFuL3v/89ysrKcMYZZwAAzj//fAwePBhXXHEFHnjgAVRWVuKOO+7A5MmT5fDP9ddfj7/85S+49dZbcc011+Ddd9/Fiy++iMWLF3u/9ylA64FRomfAmBWyy7bMncaWGPLDQd1lVjZA1tWBaXHejZpKjRNE24VCSP7BlgFTVVWFK6+8Evv370dRURGGDh2KpUuX4sc//jEA4NFHH0UgEMCECRPQ1NSE8vJyPPHEE/Lng8EgFi1ahBtuuAFlZWVo164dJk2ahHvvvVce07dvXyxevBg33XQT5syZgx49euDvf/+7aQp1NqE0SLTGifY1Y8zUgMk26psjhgaMFdnsgbGtgfF4LgRBZA/0+/YPtgyYp59+2nR5Xl4e5s6di7lz5xqO6d27N958803T9YwePRqffPKJnallDVFNCEn5Y9DeKM0EvNlIfXMUnQ2WWT20ZJs3SSniJY8KQRAc8sD4hyxz7PsfdSE78xCSWQq1l/xx0TbMfmu76/XUN0etBxmQbXrkZkqjJghCB7oe+AfqRu0xZhoYbbioxaSIHeCNZ+BIYwv+/sEuAMB15/RDl/bOU82PNkesBxmQdSEkF5V4ycdMEG0X8sj6B/LAeIx5M0eNQZMGD4wydPN9XZPJSGsaXHlgUmPAOL3WNLmoxEuXN4Jou/gssn9MQwaMx6g1MJoQksbhYuWB8ZpDdc2uPn+0ydgDU13frNuskkMhJIIg/IDdrEQic5AB4zFRjQdGacREM6SB4Xx/1J0B09Bi7IFZ/lkVJj2z3nB5NoWQojFm2vLBCnIxE0TbhTww/oEMGI+xUwcm3SnUh1yGkI42mYeQ3v/ie8Nl2VQHRul9Aex7YLw6a/9v4zf48SOrsPv7ox6tkSAIt9ADin/IottK28BUA6MV8Zq0EQC811occumBqXch4s2mNOpkAyYzF6ybX9qEL6rqcMdrn2Zk+wRBJEP2i38gA8ZjojHjHjtaj0u668C4DSG5S6POHgNGWQMGsG8oen2BMwvNEQSRXsiA8Q9kwHiMVlthWsguzRoY1yJeV2nUrjbtKU0aD0ymC1eRy5ogsgfl9YB+mtkNGTAeowwTaZOMkgrZpTsLya2It414YJqj7jQwBEG0XTL9QEOIQwaMx5hltyQVskt7FlJqRbxalJ6FbDJglI0cASe9kLw9b3S5JIjsgX6P/oEMGI/xNAvJ419SowsPCgA0tNgLISl3L5tCSFoPjN0DTQ9oBNF2oZCufyADxmPsVOKNWGQheU2LS9GwXQ9MLGs9MOr9sO2B8fj6RtdLgsge6PfoH8iA8ZgkDwxTLlOPdWtQ2MVt3Rm7GhiVAZNF3zTugckJxo0qeuIiCIJDhez8QxbdVtoGyswiqzow0TSLeK3qzlhhNwtJaRdkYx2YvFAQAF2wCIJIQK0E/AMZMB4TVaXgmWtg0i3ide2BsVmvRB1CcrVpT+Fp1Lk5cQPGrgfGa48NXS4JIntI83Ml4QIyYDxG6VVJEu3aFPF6/STgtu6M3fu2WsSbPRYM98DkhuJff4ogEQTBoTRq/0AGjMdEzOrA2Gwl4AVKb0G6684oDbRsNGDycloNmExOBiALiiAIwgFkwHhMVKWBYSovSqYr8brVergJtWSTAcNbCeTlcA2Mzf3yfEYEQWQL5IHxD2TAeIzSA6P9HWhDRunuRg2402/Y/WS21oFpkj0wXANj7/Oep1F7uzqCIFxA9ot/IAPGY+wUsmvJgFosnUaTcn9T5YBR7s2HX36PuibrTKkmTQiJnrgIguDQ9cA/kAHjMUqhrpUBk+4QEuCuA7Z9EW969+9Xf1+Hh5busBynTaO23Y2afCYE0Wahsgr+gQwYj1FqYBhT3/S1ml0rYyIV939XBowPSu5XHWm0HMML2eVyEa9tbY/9eREE4RfoB+4XyIDxGLNmjpluJQCoDaxUkwlXrMgmeTNH2QOT4etVprdPEEQC8sD4BzJgPEZdB0a9TJtG7cYb4hQ3uhu7N9pMiJRFaI7Gs5ByKQuJIAgN9EDhH8iA8RilUZKUdZQNGhgX28x0to5X25Q9MFlSB4Y0NQSRPZCI1z+QAeMxUVUatSaElOSBid9I01kiJZ3F7DISQhIwBrgGJlvSqAmCyB7o9+0fyIDxGHUatUbEa9ALKSeofxpSIuJNqwYmbZuSETlm2iyk+Ocyd9WiCyZBZA/Und4/hDI9gbaGeR0Y7dj4jTQnIKE55TOLY+aBWfvVQSxcv8dwud0fdmY8MNZo68AA8XMTFPaE0QWOINoqWSrdI3QgD4zHRDQeGCXJvZDir0MGHphUYCYcnr96N16r2OfZttw+ydTUt+Cfa7/GoaPi5p0tD0xOwgNjx9iiBzSCaLuQJs0/kAHjMWYaGK2ol3tDjEJIqcAshMR7BBnhppWAE/5n4Se487VP8d//3GDjUwIaGE03aoCMEoIg4pAHxj+QAeMxEVUatVUIiWtg0qfiNfPAWMlj0l2Jd9Xn3wEAPtp9WPgzQllImmaOgE0PjPBIwfWl8IKp9foRBGEOaWD8AxkwHpMk4lUsS+qFJIeQ9A2YVLgyzYrneX2zy9Y6MHoaGDv45QK3aPM+9PvfN3H2/72b6akQhG/wyc+bgE0DZvbs2Tj99NPRoUMHdO3aFZdccgl27FD3nhk9ejQkSVL9XX/99aoxe/bswfjx41FQUICuXbvilltuQSSibsK3cuVKnHbaacjNzUX//v0xf/58Z3voMa9v2ofZb23Hht2HdJebiXiNulHnBFJnR2p/iy0mbhYrg8MPrQRENimHkBx6YLwmVVt+7sOvAQDfHG5I0RYIou1BGhj/YOvOuWrVKkyePBlr167FsmXL0NLSgvPPPx9Hjx5Vjbvuuuuwf/9++e+BBx6Ql0WjUYwfPx7Nzc348MMP8eyzz2L+/PmYOXOmPGbXrl0YP348zjvvPFRUVGDq1Kn4zW9+g6VLl7rcXfcs23YAT636Cpu/qdFdrtbAqJcle2DSr4ExM1K0ad5asr2ZIyDmHWnSTaNO2ZQIgvARaSyVRbjEVhr1kiVLVK/nz5+Prl27YuPGjTj33HPl9wsKClBaWqq7jrfffhvbtm3DO++8g5KSEpx66qmYNWsWpk+fjrvvvhvhcBhPPvkk+vbti4cffhgAMGjQIHzwwQd49NFHUV5ebncfPSUnEA/3GKUj2+uFZB5CSgUtsRiiMYY7XtuCEb074b9G9EjMz4OQT21jC9Z/dQjnnnRcZurA6LwXicaw6vPvMKJ3RxQXhBWF7JRp1JnUwJD1RBDZAlXi9Q+uHv1rauJeiE6dOqnef/7559GlSxeccsopmDFjBurr6+Vla9aswZAhQ1BSUiK/V15ejtraWmzdulUeM3bsWNU6y8vLsWbNGsO5NDU1oba2VvWXCrixYRSK0YaQlDen5CykDKRRRxkWbd6Hf6/fiz+8tEm1zNIDI7D+Sf9Yj988twEPL9uRNc0cn1y1E9c+uwG/fCr+/WlqSRbx2pkpXd8Iou1CP2//4LiQXSwWw9SpU3HWWWfhlFNOkd//1a9+hd69e6N79+7YvHkzpk+fjh07duCVV14BAFRWVqqMFwDy68rKStMxtbW1aGhoQH5+ftJ8Zs+ejXvuucfp7gjDjY0WAzGsaR0Yph0bX0c4jR6YaCyGmoYW3WVWHhiRG/cne6oBAK98/C3OH1xiPjgF6E3x9U3x2jafH6gDkNxKAAAYuY0JggB5RP2EYwNm8uTJ+PTTT/HBBx+o3v/tb38r//+QIUPQrVs3jBkzBjt37sQJJ5zgfKYWzJgxA9OmTZNf19bWomfPnp5vJ9xqwBjVUzGrA9PQHMVBRVG2SAZaCbREGYzMJSsPjF3SEULSTlnv4qM9J806WUh2hHt0gSOItgv9vP2Do9jFlClTsGjRIqxYsQI9evQwHTtq1CgAwJdffgkAKC0txYEDB1Rj+GuumzEaU1hYqOt9AYDc3FwUFhaq/lJBqFUD02KggVHeLLUho8Vb9qtecw9MeivxxiAZdI80ybBuxWYrgSxJo1ZekCIxJhtWShGvnanyodwQIgii7ZAlly1CAFt3TsYYpkyZgldffRXvvvsu+vbta/mZiooKAEC3bt0AAGVlZdiyZQuqqqrkMcuWLUNhYSEGDx4sj1m+fLlqPcuWLUNZWZmd6aaEkA0PjNUPQfbABNJYyC7KDLtfRy3k93afTLz26DhFqcVRGh2qEJLNufa5bTFOuuMtLN9+wHowQRC+gUS8/sGWATN58mT861//woIFC9ChQwdUVlaisrISDQ3xOhM7d+7ErFmzsHHjRuzevRuvv/46rrzySpx77rkYOnQoAOD888/H4MGDccUVV2DTpk1YunQp7rjjDkyePBm5ubkAgOuvvx5fffUVbr31Vnz22Wd44okn8OKLL+Kmm27yePftw6vmGhWE02YnmRkxLTHzEFIqiMQYAoYeGG9/uBmpA6OzTeVuNSkMmHAooDvGeiOJ/732WTttDgxWR9dLgsga6OfoH2zdOefNm4eamhqMHj0a3bp1k/9eeOEFAEA4HMY777yD888/HwMHDsTNN9+MCRMm4I033pDXEQwGsWjRIgSDQZSVleHXv/41rrzyStx7773ymL59+2Lx4sVYtmwZhg0bhocffhh///vfM55CDQCh1qJzLTp3vGiMJRkBZk/2UTmElN5WAkZbs7qJ2/lhS8hUN+rkbep5YEIBCcGAJHujqHgVQRAAadz8hC0Rr9WJ7dmzJ1atWmW5nt69e+PNN980HTN69Gh88skndqaXFkIGHpi7X9+KVz/5NinDx8wosBTxupin8TZjyA0mTvsTK7/Eyxu/wYv/XWZdidfmDzsjdWB0tql8r7E1hZo3cgxIEqKM2fKCeF4HhowngsgayH7xD46zkI5VEiEk9bd8/oe7dcebeSESlXhT44GZsuBjbN+vrocTiTIoXTAPLIm3gnhixU7PQ0jZUgdGOY/65rgBkx+Of/X5oaCLFkEQAGlg/AQZMDYxCyHpYfZj4AZDqrKQFm3en/SeUQipORq1/OHa/VlnwhWr581QGmYNLfGeWwXhuIA3rgdi9irx0gWOINos9PP2D9SN2ibcW9IimEJr7oHJRBaSfho1YwLNHO32QspAlrGViJd7YLgBA1kDY2MbzqZGEIQPIA+MfyADxiZcr2LUC0mL2bBUe2D0aIkxGNlLXv5wJSl7LgRMJ4SU8MDE389kzZosOUwEQYB+j36CDBibJFoJuA8hcSMonZV4o7GYSR0Yr0W8mQghmc+jvpmHkLgGxr73iy5wBNF2IVG9fyADxiayiFfQA1N1pMlwmRxCSmcaddR5HRi7P+uMODUEQ0j5Wg+MrW7UHtfL8XRtBEG4gSrx+gcyYGwii3gFPTAPLt1huEwOIQXSW8hODwbvf7iZqgPDGMONCz/B7a9uSZpHgyaExPVA2epVWbmjCvNW7iThMEGkCeVPjX532Q0ZMDYxqgPjBDmNOpReEa/jSrw2fssSpIzVgfnmcAP+U7EPz6/bg5ZoTKVv0WpgJAceGK8xu0je/fpW/N+Sz+RO2gRBpJZs0e4R1pABY5NECMn+l/zXZ/RSvebryEmjB6YlZtYLqS2kUavPDWMGIaQcTR0YxTr21zSgKRI13kYad4vP90hji8VIgiC8gMwX/0AGjE1EQ0haI+H0Ph3Rs2OB6r1EFpKRB8b7n1LUQAPDmPfNFzNTyE7TykFT46WhVcTbLrdVAxOQVJ/7/MARlM1+Fxc89r7xNjydsTnc+Gpsoc7XBJEOKGzkH8iAsYloCCmkk6scNMhfTmczx5ZYzDDvxvMspEzUgYGq0DBiMbXHRCvi1Vbi5cX/dn1/NLUTFYQfczOPEEEQ3pHJkgqEPciAsUmiDozxlzwUkHSLxekZNfF1pjcLSb+QnfWP1n4WUmYuBMrdizG1B6a+tRdSQY6yEm/C0yFkpHm8W2ar43MnDwxBpAcyX/wDtRKwCTdCmk0q8Sq7HKs+a+BpSWcWUtRAA+N1H6RMFbJjTF3bJcmAadLUgdF0oxaZczrrRPDTQh4YgkgP5IDxD+SBsYlIJd5QQErSmUiQDD0tOSFnp+Gj3Yfw8sZvbH2mxSALScSAsd1KIA0XAq0xod1kjKnfSwohcQ9MLDE+7ZhskzwwBOGMrw8elQtX2oE0MP6BDBibyAaMiYg3GJAQ1A0hJR9uSYLuWBGmvViBP7y0CV8fTNZrGP0IowbNHJsE0sLteh4yEkLSingZU73V0KJJo+bjbHhg0gkjDwxB2Oaj3Ydw3kMrMfM/W21/NssuAYQJZMDYhIt4W0xu+KFgwCCElPxmTkB/LGD9Q6quj6fWmlX71dISY9CLWDW1eH+DzEgdGGg1MOrlyZV41YXshCQwpIEhiKzm1U++RYwBW/fV2v5stj3EEMaQAWMTXrPFTMQbkCQ5PVf1WR0NjFFmkghch1PbkFwjxOg3GInGdPv/iNwg7f6uM1IHhqnnqb0Y8Uq87bQamNZhIhkI6U2j5gYMeWAIQgTGGN7dXgVA/9po+XmvJ0SkDDJgbJJIozbPQtLTmehlIYWCTtoJxuFeoCON4nHeiIGIVyREYfXDVq5XQmbSEbV1X7QGTKKZozYLiYeQ0jFLcRIiXvLAEIQIW/fVorK2EQBQXd9s+/PkgfEPZMDYRA4hmYh4gwEJWluFgel6YEKajKUeHfNx508GW84jEo3JNze9Kq1GP8FINKabRu1FiEL7u89UKwGmea1EG0KSx7X+K5SFlMYLHDcCyQNDEGK8s/2A/P9Hm6Om4X49yH7xD2TA2ISHkBgzztwJBZPrwDCmr4HRplYXhIPokGud3a6sBFxrwwOzo/II/vufG5LeF7pB2s5CysyVwMwDwz0ZPI2a64H4uFTUw7Fcn8k2+bzIA0MQYixvDR9xamyGkSgLyT+QAWMTpRFiZNnreWAA/SyknIAEGASRzH5GzYpt1+p5YAx+hEebo7relgYBA8YPWUjJGhj9cYksJLWI1+t2Cm6RQ0jkgSEISw7UNmLLtzWQJCDcWp6CJzuIkmWXAMIEMmBsogwDGQl5QwEJB2qTM4P06sAEg/pF76xQFtLT08DY/Q2KPOGnqg6Ml1oZBrXxprduSQJyWy9uAVnEK66BSVcWknI/jnUPTFMkis3fVFOZd8IU7n0Z1qMYJYW5AOx7YOgr5h/IgLGJUojbYnBT0W2WCP1KvDmBgKM6MErvjxOlvRazysJOkCRJyAPz6bc1GD5rGf65Zrcn22WMqS5AelMoyAnKIT7+L5PHZ8/VS7kfx7oG5nf/+hg//ctq/P2DrzI9FSKLWd6qfxk7qCuK88MAgJoGe0JeEvH6BzJgbKJsE2Ak5NXTujDGDLOQkirxCtgzlh4Yu96SFKQPi8zh5hc3oaahBXc6KDhluF3FTPVCQgUKjRE/l3z/M9KA0uA4xdqQB4Yxhvvf+gwvfrTX0eeXfxZ/sn5m9W4PZ0W0JRqao/jgy+8BAGMGlaAoPweAAw2M5zMjUgX1QrKJJEnICQTQHI0ZplIHDXob6deBCSDsoBt1i4UGxi5m2o9gQEI0xhx0oxYxiry9XDCmNkL0nqYKFBlIiUq8xuMzhXIufvfA7D3UgCdX7URBOIhfjOyhmwkngp53kyAAYPWX36MpEsPxxfkYWNoBRQVxA8a+BiZ7rgGEOeSBcYBVLRg9TwuDQSXeoIRwyEDEa/JDarLUwNj7EZr1QnJaay8zehJ1HRi9Y5ifkzBgsrkOjHLqfvfAcJF4fXPU9hMxQYiw/LN4+GjMoK6QJMm5ByaLrgGEOWTAOIAbKEYhJKPqunqellBAQjgY1BltjtIDo1cHxi5mnge+P3Z/15nKQlLPIXmMygOjccFk09NXW/LAKL+vvMiYE8gBQ+gRizFZwDtmUAkAoDjfmQdG/QDk0QSJlEAGjAOsGjrqemCM6sAEAsgx8MCYoaoD0+BeA2PWGiGo6RckSqaMAbM6MECiBgyg9MAYj081Rt6yWBvywCjT/itryIAhvOXTfTWoOtKEduEgzujXCQBkD4zdJAeyWfwDGTAOsGroqOeBYdCvAxMKSkmeGf7pFTu+w6a91brbUIp4G1rsV5tMmp/Jr9ap7kCkpornReGgvvHrOcm0VXjjn4t/yKRDhGcwxvDaJ99ajvPSA7Pr+6N4acPejKUhKzP23BgwpIEh9Hin1ftyzonHITcU/30Xcw2M7TRqMmH8AhkwDghZNHQ0CiHp1YEJBQO64l7OxXNX676vNVjs9EOyi15jShHENDBei3jVYmMrEW8mPDDLt1dh6gsV8mujTTLFKXbrgbnr9a245eXNWPvVQVfrcYryt+IqhOTFZIg2B0+fHjOoq/weaWDaPmTAOCBHFvEapFHr3fAZ060DEwpIclE1O2hvaF7oYIxQGmR2DI7MNHOEdR0YHQ2MvF9pmPKWb2uExkU99MDUtDa1+64uucBiOlCGkA640sCQCUOo2V/TgK37aiFJwHkDlQZMvA6M3YaO2aSDI8whA8YB3BBpMUyj1r/I6hWsCwUklQfGLBtIiZUHxsvfoBMHjCQZHx8vSdpPJv8HgLgGRm4lkAajS3uBFK0D4+bCyj0gDc2ZEQN7FUIi84XQwsW7w3sWo0v7XPl9HkKiSrxtFzJgHCBnIRl6YJIPKwN0PS2hoCT37ADUT6qcuqZIkrdHu20vqvEaodQdMAbUN0ewv6bB8nNRgapwKdfAWNWB4R4YMMPxXiO6BaNGlE7ghll9hgwYZQhpP4l4CQ9JhI9KVO8rQ0h2jH9ywPgHWwbM7Nmzcfrpp6NDhw7o2rUrLrnkEuzYsUM1prGxEZMnT0bnzp3Rvn17TJgwAQcOHFCN2bNnD8aPH4+CggJ07doVt9xyCyIRtQdh5cqVOO2005Cbm4v+/ftj/vz5zvYwBXCDI2IzjToQkHDzj09SvRcKBFQGTEuEJbnJT7lrKX7y5w9U72lL/2s7UntZIE4VQgJw5v3vomz2u5afM8tsUq3QQxhjqtCV3hTyVQZMqwYmlpLp6CJqJGmHeWHAiDTtTAUtFEIiUkB9cwSrd8Z1XWM1Bgz3wLREmS3DnUS8/sGWAbNq1SpMnjwZa9euxbJly9DS0oLzzz8fR48elcfcdNNNeOONN/DSSy9h1apV2LdvH37+85/Ly6PRKMaPH4/m5mZ8+OGHePbZZzF//nzMnDlTHrNr1y6MHz8e5513HioqKjB16lT85je/wdKlSz3YZffwG7pR4o9uFlLrbyKs8cKEgpJKM6PngQGAzyqPqF5v+qZa9TqVGhht5odoXQWjNPNUo9yq3pNXQY5JJd60hJDExiV5YFwYH9EMh5CUBvfh+hbHmh4yXwglH3zxPZojMfTomI+TStqrluXnBGW9op0wEmlg/IOtVgJLlixRvZ4/fz66du2KjRs34txzz0VNTQ2efvppLFiwAD/60Y8AAM888wwGDRqEtWvX4owzzsDbb7+Nbdu24Z133kFJSQlOPfVUzJo1C9OnT8fdd9+NcDiMJ598En379sXDDz8MABg0aBA++OADPProoygvL/do153Db+hGegkjD4weoYCkeqo0ahCp5d/r1T1lkjwwXmpgFDaXnR+3kAfGY+IhpMR29c6RWgMT/zdRiTebQkjq140tLjwwLHtCSABQVduEXp0LbK+HHDCEEq5/GTuoJMk7F6/GG8b3dU2orm9B9+J8oXWS+eIfXGlgamri2RSdOsULB23cuBEtLS0YO3asPGbgwIHo1asX1qxZAwBYs2YNhgwZgpKShLuvvLwctbW12Lp1qzxGuQ4+hq9Dj6amJtTW1qr+UgW/6RndzPVbCRiM1WQmNQnUc9HLfkppFpKkDiGJIEkZ0sAwtfEmGkLin0mHzWVlJB2sa8L81btw+Kg6e6Ip4tz44N6whpbUpdubodVsOU2lpjowBCcWY3KTT2X6tJKi/PjDih0PDIWQ/IPjZo6xWAxTp07FWWedhVNOOQUAUFlZiXA4jOLiYtXYkpISVFZWymOUxgtfzpeZjamtrUVDQwPy85Mt6dmzZ+Oee+5xuju2kD0wBl90Ox6YHM1YkYJ0u74/mvSethqv3sxCAcmRV0RZB8ZOlk6LSDNHr+vAgKkMGN0QkqoOjHpcWi5emk1o53jdcxvw8Z5q9NZ4KFx5YLIohARASAROEGZs/rYG39c1oX1uCKP6dtYdU1wQBnAUNQ3iqdRkv/gHxx6YyZMn49NPP8XChQu9nI9jZsyYgZqaGvlv79691h9yiLb4mRajVgJ6aDtXM2Yd59+u0cMAYh4YvVYGIiifepts3ESjGdDAMKZtJZA8RhlCkqA+l+m4eFkZSR/vqQYAfH2wXvW+Gw9MpkNI2pR6p0JeEvESHJ59dO5JXZK0hRwnxewojdo/ODJgpkyZgkWLFmHFihXo0aOH/H5paSmam5tRXV2tGn/gwAGUlpbKY7RZSfy11ZjCwkJd7wsA5ObmorCwUPWXKriHxUjwqTVKAOMbo151Xis+258cHkuuA5O8Qb30bhGUIaRGGzdRpbdn6dYD+OGDK7BZIz72mmQDJgvTqLUeGMHPeeKByVAWkjbsWVnjrKAemS8Eh7cPGDOwxHCMs4aOZMH4BVt3NMYYpkyZgldffRXvvvsu+vbtq1o+YsQI5OTkYPny5fJ7O3bswJ49e1BWVgYAKCsrw5YtW1BVVSWPWbZsGQoLCzF48GB5jHIdfAxfR6aRNMJPLSadAZJw4hXZrmPA1KbSA6PwKNnJHlGmme85VI+vD9bjuuc2qMak4lKhXKeoAZPOVgJOn/BceWAyXciu1YDhXyWnHhiHNjjRxvi2ugHb99cioKm+q6XQiQfG331TjylsXQ4mT56Mf/3rX1iwYAE6dOiAyspKVFZWoqEhHs8uKirCtddei2nTpmHFihXYuHEjrr76apSVleGMM84AAJx//vkYPHgwrrjiCmzatAlLly7FHXfcgcmTJyM3N15F8frrr8dXX32FW2+9FZ999hmeeOIJvPjii7jppps83n1nyB4YwbAQYHyj1htrxc7vkjUwSR4Ync859cAoI2KiXgAJkq5eRvt5r+0FbS8kvfXn6/RCSmhgvJ2PHk5r9HjhgclUCKm5NYTUrSjuQXWqgZHIB0MAeLc1fHRar47o1C5sOM5JQ0cS8foHW3e0efPmoaamBqNHj0a3bt3kvxdeeEEe8+ijj+InP/kJJkyYgHPPPRelpaV45ZVX5OXBYBCLFi1CMBhEWVkZfv3rX+PKK6/EvffeK4/p27cvFi9ejGXLlmHYsGF4+OGH8fe//z0rUqgBhQbG4G6n2wvJAK2I14pYjOle/LUeGL3foJ15KQk69cDoaGCcSBjsfkadhWSeRp3ohcT/zZ46MFpcZSG1PlZmOoTUo2PcgDlQ6zCERPYLAUX4aJBx+AhIhJBs1YFxPi0izdjKQhK5uOfl5WHu3LmYO3eu4ZjevXvjzTffNF3P6NGj8cknn9iZXtpIiHjFs5AMU6514k1mF+nv65p0ewyJdKP2QsRr5waoV6nYyQzsfCZeBybxWl/Eq+OBQRo9MCa9kF7e+I3h59x4YPipyHQIqUfHAqzbdQgHahsRizHbnc7JfiGONkWwRq6+axw+AoAi3g/JhgaGPDD+gSLKDuDXXKM0ajueDrtekW+r1d6XyeedACCehaS6MepMzU56t5KQYw2MQBq1x887ViJeSdLvScVv8Olo5mi0iSONLfjDS5sMP+eFB6a+OTN1YHgI6fjiPEhS/Ltx8Ki9LsEAZSERwPtffI/maAy9OhWgf9f2pmOLeUdqG2nU5ILxD2TAOMBSA2PD08G9IkZpgEoYY9hXHRc/DutZjCVTz8H1P4wbMC1RZvmE7vTS70TEGy9kpxdCUs9C5GHHzk3Lqg5Mu3BItb6EB0Z/fCrQGm38tZV3y5UHpnWTmQ4h5YWDcsdgJ12pyX4hEs0bu1peGxyJeMkD4xvIgHGAlQYmaOMqy0NIYYHUJcaAfa0emN6dCjCwtBDtc0OyR0hZC0bPs+H0Z6n0wNi5AeqFulJ9/4lX4jWuA6MU8AJ6rQRSOj3zbVhs240HhtMSZULFEr2GbzMcDKBbUR4AZ9V4yX45tonFGFbsSLQPsEIW8doIIZH54h/IgHFAQPbA2NHA6K+LGwciHpgYY3IIiff1kCQJ7XPjUiarVGqnDxZqEa+NQnZ6GpgU34G0GhitF6hAY8BIiUIwADJUB0Zwk248MEoy4YXhxmxOMICSQhcGDLlgjmkqvqnG93XN6JAbwul9OlmO54XsjjRGhMPDymFkzGQ3ZMA4QNbA2MhCMuyFxA0YhQfG6BodU3hguhfnye9zN6myoaOnzRwl+yEkwEgD4yCEJLzFVg8MlB4Y9QbyczLvgTEKU1lt2gsPDJAZIS/vsp4TDKC01YA54CCE5FDGRbQR5Oq7A44TeujjBgwA1AqGkSiE5B/IgHEADxEZtgcIBjCgpIPqPUMPTKsGJidkfWWOMYZ9rSnU3YsSFYkL8xJx3uZIDHs0JejlOTh8ngg6DCGlI41aL1CmeoLSDNB6YLh5lFYNjMEmrDbtmQcmAwYM18CEghJKW0NI+51oYCiIdEyT6D5tnn3EyQkG0K71Ny+sgyH7xTeQAeMA7sY2y0K65uw+QuvixeVENTD7W0W83RQemOM6xEWR3x1pwi+e/BDnPrgCH7amGXqB2gMjWsjOu4weuzcttQZGG0JSVw5I9sBkQsSr/74WrzwwmShmx0NIYaUHxkk1XrJfjlm+OVyPzyqPICABo08SM2AA3tBRvJgdeWD8AxkwDuC2hpkGRjRWz0NIOQIGTIwx+ebDvS4AUFIYN2Cqahux6ZsaAMBLG5ObWTrXwCT+vykDdWDsEBfxJl5biXi1hewyKeK1Oj92Gmma0dCS/lRqVQiJRLyEA1Z/+T0AYETvjuhoUn1Xi91MJLJf/IOtQnZEHCdZSEa/Ce7F0atNoiXGmGw0KVObS+Qn2kR1UzuZUEoCUvINNpUhJK9DNnERr7EHpl1SFpKmlUAaLBinIl7vNDDpz0JShpBKXGlgyIQ5VvnuSPz61q+Lee0XLYmGjmK1YMgD4x/IA+OAgEUdmFBQSmo6Z3Sj5noEpQfGKGQSUxRpU4oZu+q45J1ma+SGtBoR9U1DLzXaCD0Rr3bfhNZmY1fivZDUr5Xka0JImiSkNGUhORPxeqWByUQxO1UIqdUDc6Qpgrome3Mh++XYhVcbL8y399zNU6nFRbz25kVkDjJgHGCVhRQMSMJPijyrR7SQHd+k0sNS0qqBOXAk4YFxeqHPzUmeh9IDo5cabYR+ITv7c7LfSsC4DoxRGjX3vNi9dl1zVl9s/PoQrnh6Hb44cER4jnrvWHmj7GSAmZGZNOpECKl9bggdWlP/7RazIwPm2IWXiVCGz0UoyrdbC4YsGL9ABowDtGEHLSEbBgy/mYhpYBJGgdLDwl3yVQoPjF66qYhzIc/AAyPJRpv1Ovj89AqmObn/NEViwsXXkjUwFnVg+Oda/7UrPC7Kz8ErH3+L97/4Hks+rRT6jJGXx1IDE0l/FlI0xnDUppdEjxZFCAkASoqcCXkpC+nYpbaBe2BsGjA2O1KTB8Y/kAHjgIBFFlIwEEgqZmf0m7hoWHcAYh4Y5c1VuXrZgFF4YJz2PdLzwEhS4kbv3gNjvw4MAFz9zEdC4xhjmjow6uXJlXjV4UAnESSu9RHp/eR0G4B3Hhg7WUiX/20tTr5rKaqOOMgYUqAsZAdAzkQiDwwhiuyBsRlCKrIt4iULxi+QAeMA7U1PS9wDo3lTZ+z/u6EM3VrruYikUSsNAqWB0qV9OKn3kFMNjN484h4YbrSJrYcx5mkzxw9aMxCs16eppKn1wOQYZSE5S6NmYLIhK/pJpzobzzwwNgyh9bsOAQDe3Lzf1TaVrQQAOK7GS5V4j114oc4OufY8MHJDR8EQEnlg/AMZMA6Q06gNDIqATghJ7zfRLjfxJCHigVGGUZQX8lAwIDfIk+fgVMSr44EJKDwwolk6uw2K6blBvBS4wgOT1EpAWwdGXZTQtgHDFPoZwc9qR/GPGX2cfzc808A4qAPj1niSNTCtBRtLi5w1dCTz5djlSAP3wDjTwIiKeMl+8Q9kwDgg4YFRGDBKg0JQA6OM5+coOlgbfTRiEEICErVgjJaLYpSFxOekV9vFDm4eoIWe1jUaGK3HqCDXSAPDPTD25sSQCCWKGj9Gho7R53n7A688ME4K2bk3YOL7xgs3lrZ6Hu17YFxNg/AxTkNIckPHBrE0agoh+QcyYBzA06iVulLlhTUYSE6j1kP5GTENTGKDWo1LSYc81Ws9A0rkh6lXj0aSJNnYctvIOLkOjPhnvz541HIMg3o/I5oJG2YhyV4Q+xevqOyBERufVAdG868WPmfvspDsi3LdblsbQnJajZfqwBy7yCJeh1lIohoYqgPjH8iAcYC2/DygNij0PDB6N0blCJEsJGUNFu36eS0YvXXLc7Dcgr4BE5ASK3T743ZUB6YVox5PqvUxtarmsCbunZ9jUAdGDiHZmFDrB+02gjQ6hiIeGC+eDrMihORUxOtqFoRfaWyJytWcO+Q5E/GKamDIfvEPZMA4IGgRQtKrA6P3m7DvgVGKdNXLtCEkPbGjyA/TMISkMwcnuHmAFtHVMKh1LwfrmlTLtcfZbS8kBoUHRtAcS67Ea+7BUWZOeRFGchZCcu6BYYwlhZBKWjUw39U1CafIAxRCOlbh4aOABLQL2zRgWkNITZGYkCeRPDD+gQwYB0g6BkxA5YFJTqM2WJP8fyJZSEoNjLZVQInGAyOwOl0MRbwWxfvSwZ5DAiEkpvaEfK8xYLSnResRctJKgN9/hUNIRu8brKDAYwPGSSE7N32YlN9b/j3v0i4XoYAExhIl4sUgC+ZYhIePOuTlqK61InTIDcnXY5EwEtkv/oEMGAcEdTQw6iwksSdF5RiRn6RSz6H18CR5YBxe6I00MHx7rkW8mtf2NDAiHhi1H+Q7jQGjNSwDmowyuxevuMHEVOuw/oxRCEl/fDgUkA0vO800jUi3iFfpYeEhpEBAcpRK7VScTvgbpwJeIH79sqODIQPGP5AB4wB+EVXeiJQGRSgQSPKQ6P0o7F6LIyYhpK5aEa/OmRUJceiFspQhJJf2i04YSPxqsXVfrdyR1ojGlhi+OZzYhvbpPlkEKqlmYVSc0AgGpgghCX7GYKDR+QlIkhza88QD48CAcSPiVWq3QoovJje67TR1pBDSsQlPgbZbA4ZjRwcjGgomMg8ZMA5IZCEpRbxQ/b/WzenFj4JvLx7SMQ8h6Wlgfjy4xHIb+hoYKArZZfbHPfHv6yzHPLN6t/z/B+vUqZNJHhi3Ghhm/7PacfyVkXEYkCTk5XhXC8ZRCMkrD4yiXABv6rjfjgFDIaRjEqeNHDl2PDBUyM4/kAHjAL1KvOone8E6MDYfJ/mNQG/dnduFVTdnrQcIAGaMG4QxA7uabkM3CymQuG2IlstPF1ZZOdr5ag0YbRaSE/vMdhq14ftGHhh44oHh59ZJN2p3HhjeyFFSfedLC+O1YOykUpMH5tjEaSNHTsIDY10LhkS8/oEMGAfoZSEpjQpJEovV270WJzwwyZ8MBCR07ZDQwehtPz8niMt/0Mt0G3k5+llIchq1xwZMuq8V2mOnbczpKgtJ2AOjWYeF8eSVB4ann6Y7jbolEt8xbakAuRqvLQ0MWTDHIk4bOXJ4MTu7GhiyZbIbMmAcIGnCDoD6yV5C8pO+rgbG4Fps5Jnh3gSjInnKWjBG67AqsGdUB8arNGot6b4+JGchqedhuxKvKoQk+hl7dWAkjzQw7VtbV6Q9hNQaGwtpiy86qQXjgf2yfPsBjH5wBT7ec9j9yoi0wD0wdmvAcOyJeMlq8QtkwDggqKuBUXpg9ArZJa/Hbjyfdz02egotUXhg9IbEHSnm29Q3YCTd1HE9TjiunenyTJMcQlLvlxP3carrwAQkeOSBiV/EW6LMVu0VwF32k1yFV/PdKnWQheSF/2Xp1krsPliPlZ9VebA2Ih0ccRlCKrYl4iX8AhkwDtA2AASSDQYxDYy97fIUZkMDRuGB0dPAxDdqvo1c3RBSYq7ZpoGxi/bYudXAxLtRx/9f2ANjcIk0Mp6UWUiNLuqxtFc0D7XrhUlNCCnhgRF96vWiGzU/ho0e9ZYiUo/bEFKhLRGvv69xxxJkwDhALwspRxGbOa5DrlAvJLskPDD6y7W1YPSwuvwb90KKY6WBsXuDSbe7VpsdpifItgWzX0PGKNvI6OOBQKLAoJuKuPnhoPzdsauDcbNdOYQUVB97bnA3RWLCfWq8qAPDvVhOtEBEZkiIeJ2FkIoLwgCAahEDhuxa30AGjAP0eiHx+/a9F5+M9rkhYw+IAqMhRhdp2QNjMECpgTG6GVoZGIZ1YORCdhYGjOnSZNL9rKNfBcZ5mrsTEa/Rtow+L0mSLK5244EJBiQUtJZht1vMzk0l3pYIz0JSf7fycoLo2CquFA0jeRFC4t4kJ1ogIjPIdWBcZiEJaWAcbYHIBGTAOMDsqb1fl/YAkg0F3WaOBsaEtmMyJ2KShQSoQ0iGglDddxPoGV4BRVZVJlsJeEFSFlIgORxoF/t1YNSvrQTE8RCSew9MKCDJfZXse2Dc1IGJ75heuwy7Ql5vQkitHhgyYHyD2zowchaSQBo1iXj9AxkwDtBLo04ak1TILhmjS3GBQbMyszRqQB1CMpqa1fVfz7sTULSjtjJgsinLVan54GjnJ3tgHF60GGO268AYPeKZi3i98cDwztYNLfZqwTTbFP0qMQohAWodjAhefL249qWRQki+wW0dmGJqJdAmIQPGAXpp1FqE6sAYjNG78QKJJ1mjdZ/YtYP8/0Y3ZCtxsZ4HRlKIeK0q8drNrErlxaJL+3DSe0khJJcaGMYSx0R0HUnfG2bwfiteeWDiIaS4ASMSQvLqSdQohAQA3YrsZSJ54YFpIg+M7+Ai3iKHIl5lCMlKx0ciXv9ABowD9NKotYikURthFEKKWmQhBQMSfj78eADGN1PLEFJA0im3Ly7itUsq3bVd2ieLmrU3QG0WkhLhwnR206iN3jctZOeRB8ZGCEl7qp2ee2546xkwPIQkWo3XCw8fhZD8RUs0Jp8rp3VgeBZSjAF1FpWoyXzxD7YNmPfeew8XXXQRunfvDkmS8Nprr6mWX3XVVfGsFcXfBRdcoBpz6NAhTJw4EYWFhSguLsa1116Luro61ZjNmzfjnHPOQV5eHnr27IkHHnjA/t6lCGUa9V3/+RT3vrFNjtHKYwRcMEbeCiMPDNfAaA0MzUoBmDxFOAkh2UijzqYQ0nEdkg0Yq15ISkTsF4aEB0a4lYBBLyRjrxm88cBIyhCSiAGjno9THYxcB0bHgCm1q4FxNAM13AikLCR/oLy2Gl0brcjLCcq1lGosasGQB8Y/2DZgjh49imHDhmHu3LmGYy644ALs379f/vv3v/+tWj5x4kRs3boVy5Ytw6JFi/Dee+/ht7/9rby8trYW559/Pnr37o2NGzfiwQcfxN13342//vWvdqebEvhNvupII55d8zX+sXoXvq1uAABs+qYaQHIoRu/p3OhmX2BkwLQ+yZoZCdwoMvbA2A8hxT0wrev1kYi3syaE9IsRPdCpnfo9t80BGUukXToV8Vq975UHJhS0G0JSv3bqseAGjJ4GpsRmQ0cvDGRuBHrRGJNIPTwDqX1uCCEdI1iU4vzWVGoLA4bsF/9g25wdN24cxo0bZzomNzcXpaWlusu2b9+OJUuW4KOPPsLIkSMBAH/+859x4YUX4qGHHkL37t3x/PPPo7m5Gf/4xz8QDodx8skno6KiAo888ojK0FHS1NSEpqYm+XVtba3dXROGP7XrPZG+/8V3mHxef1e9kAp0iskB1llIyrkZp+SazykYkJI+G/ekxf/f627UqbxWFIRDaBcO4mhzFB3yQnjwF8OSxph6YAS2wWBfxGsYQjJq5hjwyAMTkJAfFu+HpD0mzg0Y4xBSqc0Qkhe9kLgRaDeVnMgMbmvAcIryc1BZ22gp5KUsJP+QEg3MypUr0bVrVwwYMAA33HADDh48KC9bs2YNiouLZeMFAMaOHYtAIIB169bJY84991yEw4mn5fLycuzYsQOHDx/W3ebs2bNRVFQk//Xs2TMVuwYg4aXQ08Bwlbw2FKP7mzCqAxOQdH+sXANjFkIy03SYbFImGJCSbqPKXkjWISSbNxiH14rd3x9Fxd5qi7kAnVt1MIY3PkU40Kl3KSHiFdTAGPZC0h+vrAPjph5LPIQU/8k7MUachlzMQkhcxHu4vkXII+LWfmGMoTFCGhg/wQW8TmvAcIpaU6mrG8xTqX3kZD7m8dyAueCCC/Dcc89h+fLl+L//+z+sWrUK48aNQzQav1hUVlaia9euqs+EQiF06tQJlZWV8piSkhLVGP6aj9EyY8YM1NTUyH979+71etdk5MwVnW86V7sLtRIwMSfW3z4W405Re7HshZCMi6KZEQwkGz/KQnbZUgdm9EMrccnc1aahBwmSHEYysvmUHhitd0nkSUxp+AhnUWuTkGQNTYo1MIGAopCddRq19jvkNORiFkIqys+R962qtilpeTLuLJjmaEw+/hRC8gdyHySHNWA4osXsnBa1JNKPu2+EDpdddpn8/0OGDMHQoUNxwgknYOXKlRgzZozXm5PJzc1Fbq51KX0vkLOQdG44XO2erIFR/wuYGyJ5OcEkwZpICCmR4q2/3Cq0pbdu5Wcs68CYr16IqiONCJn0YlDe6HdW1RmOC0hA51bNi5HXiht8DMn7JnoZi1oYIFqMjMvUZyEBuUGehWS9Hu2pTkUISZIklBbl4euD9dhf04BenQtM1+XWA6M8fryppd68iOzBbQ0YjmhDR2ol4B9S/svt168funTpgi+//BIAUFpaiqoqdRfYSCSCQ4cOybqZ0tJSHDhwQDWGvzbS1qSTRFXa5GX8Yihpjqx+N2pztB/hN1izNgWSHBJxroHRW6dobye3EaTmSAzlj76H8Y+/b/wZxYfM7KmAJKFzu9zWeelPTKkZchr65udF9MJnUAbGWAPjWR2YgK1CdtrvkNsQkpGhUGLRlVo5D7e9kLTHj7ww2Y/bRo4c7oGpFey7RWQ/KTdgvvnmGxw8eBDdunUDAJSVlaG6uhobN26Ux7z77ruIxWIYNWqUPOa9995DS0vii7Zs2TIMGDAAHTt2TPWULeH6Fr0naR7TNzIy1B2sza/G2vXzG4FpCMmyyJ75NvU9MJLrbB0jtDfJ2sYWHK5vMQ0NKT9h5vWIa2DMQ0hKzVByCMl43srt260DY3RujAwgyaNKvCGbhey0xqHTm31ENmD0TwL/zRgJeVW/GZffQ62GiHQw2Y9XIl7eTsDSA0MiXt9g24Cpq6tDRUUFKioqAAC7du1CRUUF9uzZg7q6Otxyyy1Yu3Ytdu/ejeXLl+Piiy9G//79UV5eDgAYNGgQLrjgAlx33XVYv349Vq9ejSlTpuCyyy5D9+7dAQC/+tWvEA6Hce2112Lr1q144YUXMGfOHEybNs27PXdBwEQPcsUZvVVjEiTf5Cw9MJrVJ7pRm3hgVFvTLFNkExmh54FR1oGxwq2Ln++jGcoLjFlWlCRJliLeRCVelmQMPbVqp+VclHVg3FTz5XPQwysPTMBmIbskD4zDm32zSQgJUNaC0dfAiIZdRdAaYY0CoTQis7ht5Mgpau1IbaWBIQPGP9g2YDZs2IDhw4dj+PDhAIBp06Zh+PDhmDlzJoLBIDZv3oyf/vSnOOmkk3DttddixIgReP/991X6lOeffx4DBw7EmDFjcOGFF+Lss89W1XgpKirC22+/jV27dmHEiBG4+eabMXPmTMMU6nQj90LS3LFG9u4oe2eMLrRqD4z5drQ3EJFCdlYaGJEsJC3KSrxWuH1CbhHouSMeQkpoYIwNmOR1ch5e9jn2Hqq3nAv3nLjWwBiMD0hArsceGBFjRDtNtyJe6xBSg8E8xI1+K7THjzww2Y/bRo4cHkKyykIi+8U/2P5GjB492vRCvXTpUst1dOrUCQsWLDAdM3ToULz/vrEOIpPwe7w2pVgZo01q5ujgR6G9OUfkVgJmc3OXhaR3o5ckYPdB8xu5U7SztErTBtT7Zva0pMxCMtpts87iAHDoaDN6djIXltqvxGv0fqo1MIlKvGIhJPV8nPZzbLEIIbXPM69NE1MZ/e5MmEbN8SMDJvvxWsRb02Cu/1J+3ygjKbsh+b0DAgZZSMpGY0ZP/OqnSfOLsdHN3ewiLoeQjAwY0y3qe2BMWxdo129XxJsUJrN3lzQzpgMScEr3InRpn4sz+nXWHWN1vKxu9MpCduKVeG1mIQW87IUkXsguWUTutJWAeQhJrqtkZNgpw64eh5ConUD247WIt6be3AND3ZD8g+dp1McCRhoYpchMe8+XM01UAX3z7WhvdPzmbh5C4uEt/eVOulHbqX7q1sXfbDOEZJbWLUlAx3ZhrJ3xI8NjJve1MliHVdhE/bQmhnYcv0Gbpb5zD4ybrBm7IaSk75/jZo7mISReH8bIQEqliJeykLIf7oFx2siRI4t4LTUwrjZDpBHywDggkUZt7IHReknkYmWK9+xqYKJyHRjjz1hlIVltUy9dOp0NGu2KeM0uNvwchIIBQ6+V1fGy8sBEo2JzUWEwzkzEK1fijcQclzoPSMoQkkgatfq10yKGViEkM1G8dh6uPTAUQvIdsgbGrYi39fpc3xxFs0ljUhLx+gcyYBxg1GlaxMWpfpoUHwuIhpDMPQpWGIl4hbF5h9HGmCMCYQp1GrXxOKFqyIpWAnpY3eiVYUSnIl7+0ujTkiQhNyfxU3XaFToUtJuFpH7t1AMTsQoh8bIEBrulPF5u68AkiXgphJT18CwktyGkDnk58uXJLBOJ7Bf/QAaMA4xujEIGjCqeb68ODL8RmBeya92Oh4XsUhlC0k6zxbYHxjyEZAUfEmP6cj2rJ3Sl18B1M0eTVgJ5oUSDT6cGTNBlCMmpB6bZIoQke2AEsrNci3i1GhjywGQ10RjDkSbugXEXQgoGJHRorW5uZsCQB8Y/kAHjACMDwszFqfeTsLoUG2YhmZy1xA3ZaLkTDYzpRzxFJISkTqM2F/FaIVfiNVhuFUJSeiWcinh19VEKApKEnGCihk+Tw5tuUBFC4mX0zUgW8aYmhBRqPQlGHh7l8XKfRk2VeP1EXWPCA+q2DgwAFMu1YEyEvGS/+AYyYBxg9BBYZOKBkcMENuL5xhoY4w+aVQkW2aZRKwFRtEONblpGtIhkuqgMGONh9kJIDjUwivm6TaM21sC0dqQOJXQwTggqCtkB1vumrXOU+hCSQHaWSwtGe+wohJTdcAFvXk4A4ZD725VIQ0fywPgHMmAcYJTRIlJoSX0ttgohqV+32KnEa+SBsRTxuvPAaIdapWBrp9kicHNWXmCcClo5iV5I+ssbrDQwDjwwxgaM/vvcyMrLcZeJFAxICAcD8jmxWk+yiNeZ4WQZQuJlCQwNGKUGxm0WEoWQ/IRXNWA4Iu0EyHzxD2TAOMDoImrugUl2wVhdi400CKY2gUVWjdUNwKgXklPMukoDSLpaiDzlK0eYh5BERDDmHquUaGAM68CYn7NcDzwwkiRezC5ZYJ2aEFLQ4hzYEb5b0aj1wOic30g0hsNHrWqFEOnAqxownELywLQpyIBxgMGDpKCIV5w+ndupXkcEQkhyFpKhBsY+op2ogeRwU8huCEmgDoxKxGsyXMR+sfbAmM9HeVMXb+aoeUMnvKiEz9GtB4Ybk/lhsVRq7TyjAvokPazqwARtaGDcwo8dP6Z6x3LCvA8xfNYy7Pr+qGfbJZzhVQ0YDq/Ga+aBoTow/oEMGAcYaULah41/ZFZCTT2mnX8SLv9BT3TtEO8jxQvZGaVxA4kLs1MNTPvc5H2wpYHRvA7ZVAB7K+K13rZVK4GGlsRNXm916hCS5eYAGBs6Ru9754GJ/8szkayL9GWJBkbx/15V4uViTj0NzKZvagAAr1fsc7cxwjVe1YDh8BCSaUNHMmB8AxkwDjDKQjIzLOSnbBtl0QvzcjD750Nx5gnxMvgRgRCSWXPC1hGGnzUSybkJIVlrYLQ3SZE6MGJhGxHbKTHEWsSrtzp1CMmZB8aqEq/kkQcmyD0woiGkJA2M2zRqgxBS69fOKI3aWw9MfC78RmYWInSq+SG8w6saMBwS8bYtyIBxgJsbupOy6AHZxS7QSgDOs5CMqlPaEvFqxlppYJzUgRH1wIg8ris9MHqrUhkwOuuLOPHA2MxC4ufbrQeGe8MSISQrA8a5B+ZoUwSz39qOzd9UJ0JIBgYyN6wMvW+Kt93eW7jx17HVA2N2DJx6nAjvSIh4vQoh8TRqEvG2BagXkgP07sn8qdYKJ+5wfpPlF3jTSrwWHhhHGhhbIaTUa2C8rAMD+XgZiHgt06jte2C04/RS7JXIISSXHhhuCIuGkLTTseOReGTZ53j6g114atVX6FaUBwDIMTBmrUS8XtoR3Pjr2OqBMTsGRh4hIn1wEa8XNWCAhCen2qShI3lg/AN5YBygd0PPy7HwNPB/HWRU8BuxkIjX4mbgpJKpG92BWdVgPbzsheSFBkYpdLUMIVluzXycWSVewEMPjGAIKTkLTnxb2/fXyv+f8MAYhV75+u1pg5yQpIExM2AcipYJ7zjCPTACJSpEEGnoSPaLfyADxgF6IZygZagk+Vchakxom92ZOTX4IrOiaHax1wvJ4rUG7SxFCtmJplHbcMAY3iIbVCGk5OV268BMe6EChwxSdI0+7VUdGH4e81vF5taF7NSv7XhglIeChyYtRbxp8MDwNGqejWLmYaMQUubxug4M18DUGhgwbutKEemFDBgH6N3IrLJtZA+MUsQrvL34SP4ka+6Bif/rtJWAHm6Lh5mRpLMQ0sCIGQ1CHpiA/jw49RbGgiqN2mLq39c14ZVPvjVcbpSF41UWEg/nFeSIhpCca2CU54V/ziiEZNVKQHlu3N5eeCG7ju3iHhhtc0clFErIPF7XgVEWstP7zZPN6i/IgHGAXljEKttGRhlCEtbAxP/lT/tC3agdplGbbV8Emw6YJCI2NTBmw8WaOZrXzalvEi+3b3XxMyzUpvlXi1d1YIJJIl7zOjBuspCUn7UMIWk8jFbzcEMihGSdhUQemMzjdR0Y7oGJxJiuB5I8MP6CDBgH6D3Zi4pV1SJeeyEkfkE1KqQXH5u8Hbe46YVkV3PTIlKJV5WVYhJCEuqFFP/XyLhojsbkEIie9yqi6oVkPne7rSM4ntWBkbQGjL00ajs3dKX3psXLXkgu4R6XjiZ1YDikgck8XoeQ8nOCCLd+D/V0MGSz+gsyYBygV+/Fst6JnGli/xcii3hthZAy44HRYiXiTdLA2OyF5DYLKdHM0XiMfJOz0MBYnVqjQ8G/E1ZeM688MKIhJKNWFiLoDTXMQkpjJd6mSLIHxui4kwcm8/BCdkUeiXglSUq0E9CpxuulYJxIPWTAOEDvxmitgeE3KfvbS2QWqV+bjjWwA5xkIQmHx5DsZbDuuK1+bbcXkssyMOrKxQbrOmoSaonYFPGaYZlGHeKGhzsNjKgHxk0lXr1jYRRCshLxip5vEbQeGMDYo0UamMzCGEsUsvPIAwMoM5GSxfTaU05fgeyGDBgH6HlArLKQOE5+D9rtmYWQrDwwqc5C0g61Y/wAonVgEvtmVqtDZN6yBsZkDNeK6K1NGfawOrdGs+GfMzxnreebe2C4F8EutkNImtd2spB0PTBGISQLDYxXhgRjDI0aDwxgHEYiD0xmOdoclb9HXol4gUQGml4mEhmt/oIMGAfo3ZT1PDB6924nvw/tdV+kmaPT5bqfcRNCSkEvJOV9xdwDI1IHhq/HeEVHW4W8equz44Gxmo+xiJd7YFoNGIceGDmEJFrIzkGGmOLDSW8ZeSkDsgdG/zx4dU9pjsbkdRWEQ7IWwkjIS60EMgs3MHKCkvzd94Iik4aOZL/4CzJgHKB3H9K7USsNDVkD48AHozVY0q+BSaeIV+SmIWY0CNWBkQ0Y4zFmISQ7Ghgr/ZNV8cG8HC7idZmFlCNYB4ZpXzvXwOQEJcPvgtKw0fPCeJUZogy95eUEZE+UkQFjy2AjPEfZyNFJ6NuIIpOGjuSB8RdkwDhAT5iq74FRGDD8Xwe/D61o2NwDE8e4DoyD7btoJWCzk4BtD4zbOjBWlYuBRCq1nvdKGcKyutFa7ZmxBib+b6KVgDsPTDqykLTH0yh8BKi/33ohQZUGxoXIkteAkSQgHAzIFYmNQkh0M8sscgaSh+EjQOGB0TFg6Iz7CzJgHKCvgUl+TzXMxS9DazCZRWUCVjfkNGch2S2CZ7sXkslwO92ozU6PqQdGYXBZ3d+NTolVhho//3khdx4Y3lhTNITkJgtJuytmBozy+613Pr0yJLhYNy8UhCRJsiFndBxIA5NZEgJeb1v28YaOuiEkihr6CjJgHKCXRq1XB8au/kN0e3rb50gWd2RnGhjnISSzueoh1I0aYl4PsSwkdYaXHtxTYaWBsfIOWC039JolNXN0dpXlYuBELyR7hezshFSSPTDGJyNo5YHxyI7ghgoXQ/OQnLEGhgyYTJIoYue1ByZuEOmJeCmN2l+QAeMQ7X1ZLwtJz/vgpg6M2Xq1pLoOjKhdYruZo4AGRjnE7B5jp5Cd2V3yaJOYBsZy6g49NHIlXo88MOIhpDR5YJQGjI6R5JUHhht+PB09v9WQMQohkQGTWWQNjEc1YDi8kadeGjWdcn9BBoxDtN4VqywkuQ6Mk23ZCCFpa8Ykz8m+BaNfeVjsqyOYXS4j1AvJQxGv0gNj9PQle2B0lnmpgTFOfffGA8O/R+IhJPVrEeOSoz2WoiEkSw+MixsMT6HmHhhLES/dzTJKKmrAAAkNDIl4/Q8ZMA7RPt3rZiEp3kvoHOxvy46IV1WYTQH/iBciXkky9qxoj0vKNTAmx1No2zwLyeTOyDUweh6dqI06ME6zlLgRmOvSAxOUmznGn2hbosz0eGuPiZtKvGatNgKWWUjCmzUlEULiHhhzQ448MJmlttHbRo6cogJKo24rkAHjEO0N3CoLieMkxqo1jkw1MHw7hnoK25tP1rVIkqG+R/uu7TowHvZCEvH+yB4YE7vJqqEjx+rpzVojo482jdpxJd7Wc5EXThwYszBSsgfGuQYmbOGx43PTNWA80iXw+jm5rccxzyILiTwwmYV7YDrkehtCMvPAUDNHf0EGjEOSNTDmISSOIw9MkgFhPDbR28dAA+PAB6M1mIKSlDINjJAHRjiEJKCBkddpzFGTSryqeTnUuHAsQ0i8kJ1DDwxfTzgYkL+vZmGkdGlggMR3TC+E5JUdIYeQWo+jnEZtYBAaNZck0sORFHlgeCXeI42RpO80nXF/QQaMQ7Q3deE6ME625aiQndEAJ9tP3oaRF8h1ITvbdWCMx9nJQjJ78hL3wJgvdxpikkW8Cg+MkydF/h2VJElu6GjmgeGb4BlE9gwY8SwkIGHo6hkNynW5ucE0ajwwpIHJbhJ1YFLjgQGSM5FIA+MvbBsw7733Hi666CJ0794dkiThtddeUy1njGHmzJno1q0b8vPzMXbsWHzxxReqMYcOHcLEiRNRWFiI4uJiXHvttairq1ON2bx5M8455xzk5eWhZ8+eeOCBB+zvXQpJ7k9knoWU6Dhsf1ta745ZWMaqMJsXlXgDkmToWdFu1m4mecRmLySzp2SxQnZ8nSZzEryRWYp4LSvx6r+vFfEC8bL4dtAanXlh61Rq/h3i2UvuNDDml5qgSQjJMw9Mi4EHxuAYUCuBzJIqEW8oGED71rCUtpgd2S/+wrYBc/ToUQwbNgxz587VXf7AAw/g8ccfx5NPPol169ahXbt2KC8vR2Njozxm4sSJ2Lp1K5YtW4ZFixbhvffew29/+1t5eW1tLc4//3z07t0bGzduxIMPPoi7774bf/3rXx3sYmqwm4WUwL0Gxuy+zBeJVuKdOKqX5faTNTDGHhit4ZQKDYxyiFkzRyENr4HoWY2gAWO13KGIl8+Rp1ED9nUwWoNTJBNJ64FJpQaGf0/0t+FVGrVaxGtVB4Y8MJmFi3i9rgMDGOtgyAPjL2z75saNG4dx48bpLmOM4bHHHsMdd9yBiy++GADw3HPPoaSkBK+99houu+wybN++HUuWLMFHH32EkSNHAgD+/Oc/48ILL8RDDz2E7t274/nnn0dzczP+8Y9/IBwO4+STT0ZFRQUeeeQRlaGjpKmpCU1NTfLr2tpau7tmiyQNjI6L3Kv+HXYyexIeBXM9BQBcNKw7Lju9F55ft8d0+0kemICxBybpsynoRi3aC8mrbtSi1zS3Fz+jT/P9iPcTis8nroMRv7BrDcl8gRAS359wyL4HJlkDYxFCkhs6ps4DI1fi1aZRN9vTwHx98CgWrN+Da8/ui64d8ryZHJGE7IHxOIQExA2Yb6sbUF2vrgVD9ou/8FQDs2vXLlRWVmLs2LHye0VFRRg1ahTWrFkDAFizZg2Ki4tl4wUAxo4di0AggHXr1sljzj33XITDYXlMeXk5duzYgcOHD+tue/bs2SgqKpL/evbs6eWuJaG9Oep5YJQ3DVkD4ySEpA1XCXSjFgkhMcZs6USUr408K9rN2i5kJ1IHxlMNDF8Pc33xci3iNdgZfvwlSUoUs7PrgdEaMALF7Ph0eAjJVh0Yzc5ahZD4PlqlUbvJEmmymUZt5IF5ZvVuPLXqK/y/jd86ngthDmNM1czRa4oNGjqSAeMvPDVgKisrAQAlJSWq90tKSuRllZWV6Nq1q2p5KBRCp06dVGP01qHchpYZM2agpqZG/tu7d6/7HTJBe1Pv2bFAZ0zi/93UgdFe+81uzHybxhpeB1lIuiEk/bHalFe7GhgRD4zyvtIcMR4vlIUkWRww80WaeaUmjVp5/rkOxm4mktaAKQibpxArZ5QTsi/i1Q51k0btWSVe2QOjNmDsthLgNz0j7QzhnqZITNZ5eZ2FBFAIqa3gvW8uQ+Tm5iI3Nzdt29PeECad2SdpjF74xElNC0dZSAYXX5UHRnD7ekX7jOaQJOJNQQhJ9ClcZNNGhf+cbC9VadTK4x/3wLTY1sBoPYT5rcXsjG7e8fnE/82RPTDONTCiIaR0FLLj6eh5FkackQHDhc+kkUkdPHwUkIB24aDFaPsUGxSzozPqLzz1wJSWlgIADhw4oHr/wIED8rLS0lJUVVWplkciERw6dEg1Rm8dym1kGuX9+8IhpbJOQIl+LyT727KVhcQ1HR7+EpPTqMWzkOz3QrIn4jXDTi8kLw6X21YCxmnUif1ItBNw54ERCSHx+fAquoyJ10bRjrIMIbUu1m8lkBoRr1MPDK8bQ5V6U4eykaNXWkIlheSBaRN4asD07dsXpaWlWL58ufxebW0t1q1bh7KyMgBAWVkZqqursXHjRnnMu+++i1gshlGjRslj3nvvPbS0JL5cy5Ytw4ABA9CxY0cvp+wY5U3F6AemW8jO5baM1puYS/xfoTRqwcnobd/Is5IcQkqBBkZw4iIeGKu08/j2xLCsA+MwzVq5H4mGju40MAUWKcRA4pgoi9CZZX0pSa4DY5GFZFYHRrVeoc3rkmjmqE6jtquB4cdMpGYR4YzaFDVy5BTntzZ01HpgyIDxFbYNmLq6OlRUVKCiogJAXLhbUVGBPXv2QJIkTJ06FX/84x/x+uuvY8uWLbjyyivRvXt3XHLJJQCAQYMG4YILLsB1112H9evXY/Xq1ZgyZQouu+wydO/eHQDwq1/9CuFwGNdeey22bt2KF154AXPmzMG0adM823G3KG8IRjdprzwwWmPB7IlErsRrtNyBBiaplYGdOjB2Q0giQlEvPTB8lWYaGK5fsliXtQbG6vP673vigdEcC6sibvH5xCek9J6Ieh2SNTBiISQ9o8G7btQaD0xrSwX7Hpho63KqE5MqUlUDhmOkgdF+1cicyW5sm7cbNmzAeeedJ7/mRsWkSZMwf/583HrrrTh69Ch++9vforq6GmeffTaWLFmCvLxEuuHzzz+PKVOmYMyYMQgEApgwYQIef/xxeXlRURHefvttTJ48GSNGjECXLl0wc+ZMwxTqTKC8Hxjdoz3rhSTQOFKeV+u/xmXp7c9FrxeSoQdGa8DYsF+iMbFMIPEQkvWYRCVe4zGiZ8xpiCjxeWuvmWMPTFDfgDELIXGUxofTon6WHhieRp1CDUyTRsRr1QvJ0IBpHU8amNSRqAGTIg+MnIWkTqOmU+ovbH87Ro8ebepmkyQJ9957L+69917DMZ06dcKCBQtMtzN06FC8//77dqeXNpRGhaEHRu+a7UEWklgIyWi5IrXbRgiJ1x8B4vsl3AvJhgUjVgPGTgjJhgbGg7uk9TrMl4t4YDq3j7u+Pz9wBBcO6SY8t5Dmy1hgcfOOz0cnhCQYNrFbiVdOo9atA+O1B0bbC8mZAUMamNSRag9MsZEHhnwuvoJ6ITlErYGxHsNx8vPQhkLMQiNWvX1UEhgm7qUIaAw2wzowLjQwogaM6H1DLAuJa2CMz026spBERLw/GhgvQbDkU/1yAkZoj4VICCkh4k1cJkRrwSRX4nUeQmIG/28XnkadG1L3QjLWwOjvKz9m5IFJHalq5Mjh69VqYCgq6C/IgHFIQEAD45V63lYhO9mjoHlfs9wOAUl9A9QaNDeNPUn+f+013Y4HRkTAC4gbFHb0Pl48ebnVwIiIeH88uAShgITPKo9g1/dHheem9cDYKWQXkMzTnPWw2406ZBpC8sZQaDLwwLREma7xbLSr9eSBSTlyI8dUeWCMCtmRB8ZXkAHjEPUNXX+M3kOnk4txkohW4KyJ1BQR18BIKmNAeUOLL0+M1e6fHQ2MkIAXdurXWI9RemDcYp2FZPV563NWXBBG2QmdAQBvfbpfeG5OCtnx+Ugw95DoYbsSbxrrwORpulErl1kRizFZS0MemNSRyjYCQELE2xSJqc49JSH5CzJgHKK6gRs86XsVQtIKZs0L2Xl3Q1avWL19wywkzWs7WUhee2C86kZt56JmNjfLSryGIST16wtOiddCshNGSu6FZF3Ijk9Xeb6dZiFZFrIzSWf3rht1q4i3NYQUDgbkY2t6HJTrUFRApiyk1JHKRo4A0D43JP8mlF4YqgPjL8iAcYjyqdjII6JbiddJGrVOFpDoWDMYEw+zJIWQjFoJaENINmJWogaM6H3DXhaSc8NDNdaFISQi4gWA8weXQpKAzd/U4JvD9ULzMvLAiDRzlCRJDvGIeh2SNDA6hR715qergVGsy839hbdf4CEkSZIStWAMGjpqUR4vqgOTOo7IIaTUeGAkSZK9MEodDNkv/oIMGIcoHyiNtC567zr5fWiNAFMPjC3dhzjK9UqSeg6qZnuaz9kR8TYLi3hT4IERWJ+I58dshNM0aq3xcVyHXJzepxMAcS+MUSVe80J28X8lKZGGLayB0bzWanCM5qffC0lok5bIHpicROhIRMysRBlyIw1M6kiEkFLjgQESmUjKjtTkgfEXZMA4RJ2VYz2G40QDkxxCMh5rR6RrZyrK9QYDxllI2pXaCiFlRAMT/9e8F5LgBq3W4zCEpLcf41rDSEu3OjRgLFKIgcR8A5J5s0XdzzrshaR//LxJcefhn1yFNyhP4DgoUY4jDUzqqE1hJ2qOXjsBOqP+ggwYh4hkIend5B15YJJEvGYemNSgXK82C0l5Y072wIhvQ1wDI7Y+sW3zEJL77QHuDCHj4oPJOzJ2ULw7+4avDyMi4LnSNnMUCyEltp8I8ThLdbcKIcl1YHRW74Wd0ByNycc/V+mBEaiHo0TtgSENTKrgHphUFbIDFA0dlQYMeWB8BRkwDtFqQvTQfduRBsa+iFcMJuyx0XqclEaVKoTkQgMjXMhONI1aYNtKD4w3xey8/6ze+eYF7RgTC70Zh5DMRLxcA5MIAYmLeLUeGLE0aj2jQB2idHaAld27uQYGsK4Fo0XlgSENTMrgdWCKUhhC4uuubSANjF8hA8YhRmnERmM4Ti7AySJe47EpaNzaumLlNiRDIyqpkJ2tEJKzDBcjRLYs944y88CkTcRr5IFJfk9pELRErOeX3Mwx/mQbienXQInPJ/6vpPLAOPOSaT1AWhJp1HrzcH9X4TVgJCmefcSxHUIiDUzKaY7E5PORyhBSsY6Il06pvyADxiHayrRWYzhOrsWpCiHZmYu28rC6p1IC7QN0airxeu+BMc1CspNGbWLsWGpgDN7X2w+lQSBSP0drQChroBiFkZR1YOxqYLTkWGUhmbQS8OKeIvdBCgVVx9N2CIk0MCmHZyABQPsUhpCKCuJeTEqj9i9kwDhETMTr/bb0Xivxqvpv8nrV21cZVSY/eovIgQrRtFTRS4xI+IpnV5ndi+xc0kzXY5WFZMMDI0mS7EkQMfy035mcYOIcGt285d5XSg+Mw7BJ2KqZI89y0tkXL0J72j5IHG7A1At6YOrJA5NyuIBXWaslFchp1BRC8i1kwDhE+bsyTKNOlQfG5Ddtqw4MxENOWoPNsBu1yeesEBGjAjYK2Ql8uxNp1N5cucyzkCw+a7D7RseQZ/aIhJBCmiwgSZISDR0Nbt58X5y0EkjavsUXM+GBSV5mprEShWtgeB8kjqyBceCBEfUYEvZINHJMnfcF0G/oSCJef0EGjEOENDC6lXidaGDU6xHphSSCnR+rcrWSphKvci3addrrRu1MIGqEnTowpvdlpvrHFHMNjFUISTwLCUiEZUREvHrrSPRDMq4FA2g1MM5u2pYhJJNeSF649Rsj+h4YPQ2M2Ve2kTwwKSfVjRw53ANTo6gDQ2fUX5AB4xBVJV4jDYzO0XXmgTHedtK8bBays5oP35RykxLEs5BseWBE68AIp1GLaGBkF4zx9myJeF14YIzqwBj8SnNshJD0PCBWmUiJSryKZosOjQmrEJKcRq2ngfHgrqLtg8TRq4djVnSPQkipJ9WNHDl6DR1JA+MvyIBxiEgzR90QkqNtiYeQvJbAJLatNtiEs5B0hhnd5IVbCXhYBybhgfHmwuUmC8lOGjUA5LTuoIgBE9S5KVsVs5OzkOBeA6MNYSUtN63E64UGpjWEpDVgwvHjojTizEKPJOJNPemoAQPoa2DolPoLMmAcovRApDsLySwsY0fEy5i1wcNDRSqDLaDNQkrsVJIHxkY/KK/rwIikcMu9kGBsXHpVyM7KfLUj4gUSYRkxAyb5PatidgkRr/06MFqs6sCYdqN2tEU1ch+kkL6It1HQA6NsvUAemNQge2BSHUJSeGB46JI0MP6CDBiHKA0FI6NB/6HTvQbGPIRk8L6Rx8RiOvxabpqFpFyf5rW+Dkgf4SwkD0NIIh6YtGUhGbxvLOLlBoxIHRgdD4xgCEldiTdFWUiti3UNGA89MNoQkp4GxuwBQe2BIRFvKpA1MGnywDAGHGmKyP+vggyarIYMGIcob8z2eiHZ31bKeiGJbLt1hVptjZF3Q2sI6HtgDEJIwmXqRUW81mMkgVYCdjCvA2OOnVYCgD0NjJ79kN9azM4ohMTPkyQlQkCp8sDIWUi6BoyjTargHpZcrQdGx4hT6oW0ouIGRUVf8sCkhnQ0cgTiGWncA1fTWszOq2xEIj2QAeMQkVYCujdvB9vSejHMnhDtiGZFnmz5tpM8MAbdqEXm49oDIzTKXiE7wHg/7HgA3FXi1X/f6HSHeRq1kIg3+acuGkJyUok3afuWzRxbQ1Q6B8kLO8GOiFf5u9XurzKERBqY1MDrwKRaAwMoMpFajSZyqvkLMmAcom7maDDGhoDVfFva9doPITmFb8qsF5IKze7pPXgbHQLROjCiHhiRFG6lkWP09GXnjLlKo3bogWl20EoAUFah1U+jTjRzVHpIHKZRC4aQ9NKo1RorZ0aDXInXoJCdWgOj8MBotke9kFJPog5Maj0wgLKhYzyVms6ovyADxiHq0vriIl4naD0wpqu1uUlrDYy+B0b5WrmKpBCSjVo4TvvsGCESQhIsKCyMGy2N0UeNznfIhgdG14AJm2ch8fMkKQzWVGlgzES8Xjg6mgw8MHk6xyBo4oFReqtIA5Ma0lUHBtDxwJDmxVeQAeOQoMqA0R+TqjRq0ywkO3VgBCajF0KSJH1xLpB8s7GjA/I8C8lGKwGzefH3RTZrasBYinj1BxgZyPY0MMnrsAohJTwwkmsNjGgata6B5EkhO30Rr14vJKUHJqrxslAzx9STrjowgCKVmmtgyIDxFWTAOEQZ1jG6UdoJn5hvSyviNdPA2F+/GfzmqbzRKzURWrQ3cHuVeEVDSGLrE3GAKYvEGRkfnoWQLNZk94GeezVEQhm6hewsGhnKIl4oNCopbiWgdw481cAYplEnDr5aA6M+KY1UByblpKsODJBczI7sF39BBoxDxJo5eiTitZWFZMMDIzAbvi1t4T7lRd68Eq/Odg01MKIhJEENjJAHJoGh98QjEa/V4bbrvpY1MK5bCViLeN10ow4HA5bfS9M6MIrj4vT+ImchJRWySw4hKWeqFRUrjxVj+podwh21GQ0hpXyThIeQAeMQtQEjroFx4qLU3ojNu1GLr1cohCRrYNT7q+6FZCyytKOBEe+FJDTMXisBePP05SaN2u7m7RSy0/OAFITN06i9qgNjFT4CzNOovfHA8GaO+h4YIy+Udj7aY0VeGG+JxhjqmtJTBwYAigvCACiN2q+QAeMQdTPH1Ip4tavxKguJMesfbKIOjHo+xnVg1K/1QkiGHhiP68AIhZBE0qiFthbHVSE72x4YcRGv3vnSK6Ovmk/rv8peSE48MFYZSAAQNNHYeHFLMUyjVnhg9I6/1iuoPVakg/GWusZERlyHNGhgCvPVWUh0Ov0FGTAOUWfl6I+xEz4xIzmEZOaB8VYEo9MKCZIkqfdNsU9ChewMtiXqgRFFrA6Mccosx6tWAlaGl93vRk5AvBKvvgYm/oRr1I064YFRZCE5OEdCBoxpM0f334smCxGvcowS5TlricaSPC6UieQtXMCblxNA2KKDuRcU52s1MGTB+AkyYBwSFAkh6d68PQghmZw1e5V4refCb1zakJk6hATd/9d+jmN0I/e6DoxdvFiruYjXHNsamFD82Dbr3Hi1mGUhKavLKtHXwNi/YeeIhJB4t2uLSrxOT33CA6P+8SgNGj1PlNJg0Qu1US0Yb6lJYw0YQC8LKS2bJTyCDBiHBFQhJIMxKWsl4E0ISWjbeiEknTlxkjUwemP0t+V1FpIIQh4YG6aN2ROc1dOd3f3ing0RL4CpAWPggVG2Egi40MAIeWBM1u9JN2rugQmpPTDBgCQ/6esZKMoQETdwAlLiN08aGG9JVyNHjjYLierA+AsyYBwiVsgu+T2nvw+R1gVmc9FDZC4ilXiVN+YkDYzefIwMGMGbgZcXGSENTOv7IoaMiyQk2x6gsI1mjnohJO59EKoD40oDY8MDoxdCsr3FZJrkLCSdppY67QQ4Sg8LN2AKwiFXx4MwJl2NHDnaLCSyX/wFGTAO0aYV64/xzh+iNBjMQkhe14Gx2wspyQNjI4wmGkLy8iKjzkJyv2JT48pzES9vJeBMxFtgUYmX74uERB2YVHlg+HlIdTNHrQYGMM9EUp5Pbujl5QQVHiPSwHhJuho5corz41lI9c1RNEdi5IHxGWTAOEQsjTr5PadpeiLbA2xW4rWxXUnjcTKagqsspAzoCZSzM7o32xLxmtzPrM69bRGvjUq8pmnUFnVg3HtgxENIeruivKk4/f3wNGptCAkwb6mgp4HJDwfk5pjkgfGWRCPH9BgwHfJC8rWspqGFkqh9hucGzN133916g0v8DRw4UF7e2NiIyZMno3Pnzmjfvj0mTJiAAwcOqNaxZ88ejB8/HgUFBejatStuueUWRCL6cfpMIdLMUbeVgMNfiNYDIjJO9b7em8x6Pnx92jRq0Uq8+kacPsIhJA9vGsrj5UklXrM6MBYrsvv0Z68XknHoJBJjul4c7hFShgxTHUJy2izSiqaIvog3/p6xB0Y5H+7FKcgJue4NReiTaOSYnhBSICDJguGahmbKQvIZKfmWnHzyyXjnnXcSGwklNnPTTTdh8eLFeOmll1BUVIQpU6bg5z//OVavXg0AiEajGD9+PEpLS/Hhhx9i//79uPLKK5GTk4M//elPqZiuI5Q3ZiPdia73wYNtm1WYTVUWkjZtXKWBUa5Ts0o7xfzEs5CEhgkhGYTCnGLejdr8s3b3y44GRs8Jwj0PQNy7oE1bldeq8MCkTMQrp1EnL/PCYJU9MLohJGMRr9IrKIeQwkHZKCMPjLeks5Ejp7ggBzUNLahpaKE6MD4jJQZMKBRCaWlp0vs1NTV4+umnsWDBAvzoRz8CADzzzDMYNGgQ1q5dizPOOANvv/02tm3bhnfeeQclJSU49dRTMWvWLEyfPh133303wuFwKqZsG6E0ar23PfiBSGZp1B7nIfF904awjPZZrBKvPuJZSN5eZQJS3HgwrgNjJwvJZJnlZ+1qYNx5YMKhAEIBCZEYQ0NzVBY0clR1YILOPSR2Qki6adS2t6j5PGNojJiIeMO8H5KOB0ZxThpkD0zQVV0cwph0NnLkKFOpyQHjL1Kigfniiy/QvXt39OvXDxMnTsSePXsAABs3bkRLSwvGjh0rjx04cCB69eqFNWvWAADWrFmDIUOGoKSkRB5TXl6O2tpabN261XCbTU1NqK2tVf2lEpEQ0tjBJUnvOY3hKw0Tr1oJiBDQ8cBomzkqf/Ta+49uEpJhGnV8gVUDSK+vMV4W/zPvRu2xBsZlKwEgEUbSK2bHz6UEtx4Y6+ObSNM2Lybn5AbTHI3Jn8vV08CYhpCUWUjxY5QfDsoaGBLxeks6GzlylJlIJOL1F54bMKNGjcL8+fOxZMkSzJs3D7t27cI555yDI0eOoLKyEuFwGMXFxarPlJSUoLKyEgBQWVmpMl74cr7MiNmzZ6OoqEj+69mzp7c7pkFEVDuwtDDpPS9+H56FkATmwu97SRoYg15I2guAnkfIMAup9WZgdcPzOk7N9zHVlXit06idZSGJhJCMvqNmAtaEiNddN2oRD0xI9sAkL3N7upWdpk01MFYi3mYu4g2SBiZFpLsODKDxwKRtq4QXeG7mjhs3Tv7/oUOHYtSoUejduzdefPFF5Ofne705mRkzZmDatGny69ra2pQaMWoNjPjnnP5AJMHteZm6DSgMFU0dGKPNCN1sLLKQwsGA6qajxeunpLiRxQR6FVmvy2xI6jQwzj0wiWJ2egZMawgpIIHblClPo05BKwFeA0aSEsdMiVkdmJgqCykmj6c6MKkh3XVgAHUxu87t1RIFOrvZTcrTqIuLi3HSSSfhyy+/RGlpKZqbm1FdXa0ac+DAAVkzU1pampSVxF/r6Wo4ubm5KCwsVP2lEpFmjnp44T3wrJmjyLbkVgLq7RuFkLReBBt17OQbsVUPFK+9vJKVB0bgSHGvkfn5tQohOctCctpKADAvZqecTrD1xh911AvJThaS9xqYJkUVXr3fqqyBsWolwENIpIFJGZn0wNQ0kAbGb6TcgKmrq8POnTvRrVs3jBgxAjk5OVi+fLm8fMeOHdizZw/KysoAAGVlZdiyZQuqqqrkMcuWLUNhYSEGDx6c6ukKI2k8EqJ4koVkskF7ISSR0AP/Vx0yM06jFtmu/vv8ZmH1xO71Q2/CgNFfLnJR45oId92orbejxE4dGKPzZVbMLiHiTX0WkplHQ10Hxj5GfZA4Zh4YlQaGi3gVISTywHhLbUMGPDCtxeyq65tJA+MzPP+W/OEPf8BFF12E3r17Y9++fbjrrrsQDAZx+eWXo6ioCNdeey2mTZuGTp06obCwEL///e9RVlaGM844AwBw/vnnY/DgwbjiiivwwAMPoLKyEnfccQcmT56M3Nxcr6frmKDGI5FqlFswN5hseIMExuj1QlK+r0XkAmA0piUi6IHx2LHL98WNd4zfgNPZzDEs90Ky/pxxCMm4mF2ilYB5qX8rcgS6CgfMPDAeaWD0UqiV71tpYJSVeLn3i0S83sEYw5EMZiFRGrX/8NyA+eabb3D55Zfj4MGDOO6443D22Wdj7dq1OO644wAAjz76KAKBACZMmICmpiaUl5fjiSeekD8fDAaxaNEi3HDDDSgrK0O7du0wadIk3HvvvV5P1RUiWUh6eGHgm4WsPG8loFsHxtgD40Yn0iLogfE8hMTXa7Q9gXXwG5p5FpL5OuzulttWAoBFCKl1RpIEdx4YgS8l11rpHT+3NxU5hdrAkJKFzM06GVCGHhiqxOs1R5uj8rlOawipVQNT3dBChex8hucGzMKFC02X5+XlYe7cuZg7d67hmN69e+PNN9/0emqeItLMUY9U/zzsNnO0rsQrqf4F4kaSG6+TVSE7yxCSxzcNvi9G6xW5qPEbmrkHxnw9dr0bdurAWIp4TbOQJFeVcoVEvK1D9Awktx43sz5IQCKEpFcHRjmfxpZEFlKOC4OO0IenUIeDAUNjMxWQBsa/UC8kh4j2JkrC4S9E1DDxOpill0YdCEgqT4/ZDd5OHRg5C8kyhOQxkvv1ioh4PdfAhMTTqC01MLp1YBLrleueOBHxCtyMZA2RRQjJyc+Hh5ByLQwYfQ1MwmDTbeZIIl7P4ALeeH+i1IflOXIWUn2L5+FpIrWQAeMQ5UNlOkS8opvwOqVbrxu1BONWAm5oab1ZhC2yVryvxGse/rEXQjIeY7Ue2wZMwL2IVyQLSe2BSVEIqfX3lJI0at4HycCQyjNJJderA1MQJg1MKpAFvGkMHwEJES9pYPwHGTAOkRx6YFLtovTaGySHkBQmlCRJhpqKpM/rFbKz8MCkXQMjKIIx2yz3IJg3c/Q4hBQSDyG5y0JyqYGxUwdGNwvJ9iZVWIl4xevAROXxpIHxnoSAN30ZSEAihBSJMdQ1ZlfTYMIcMmAcEtS6JARx7KJMgUeVwXo+chq1xuOkqsRrc5eMK/EKhpBS5oFxvg65kqyLdThNo3ZTB8a0kF3rv5JbD4yNEFJqspDE0qitNDDKSrxuDDpCn0zUgAHi3wt+zTlc35zWbRPuIAPGIeobevZ4YLwOHctZSJpeTOoQkjcaGE7a68DI63UeQuLHw40GJhNp1OYhpIQHxk3pfKNtK+G/J6s6ME4Cltww0euDBAD5YeNu1Hp1YJSF7MgD4x08hJTOPkhA3EBXthMg/AMZMA4JaLJyREm9AaM/GSNDwqp7dUBPAyO5M5SsDoFeuXf15709iJKVBkbgpIVkEa/xGKt5O02jdtqNGlDUgdENn7T+j6KQnZMMMCuPWnx+zuvMWCFX4jXwwOQJN3PkGpgQeWBSAM9CSmcNGE5xqwFDHhh/QQaMQ5xmIaVaxGu3DoxlCElnhZIkmTaUtNymxU3K6oaXqkq8burAWAmBAZEsJKdp1Mzys0bnyzyEpOeBSU0aNZ+fnkHg1qixSqM2M+IiVh4YAeORECNTISQgoYM5TB4YX0EGjEPUdWAyOBENVh4VJSKeDDmNWuNxMuqFlDQfPc+PxTYz1Y3azXr58TH1wFiGkOxtU6ktsUqlDhoc00QISS+NOv5vQJJkD1OqulGb9kJyeboTHhj7dWD4fBhjsgGTFw6QByYFZKKRI4enUleTB8ZXkAHjkKBjDUxqL3heG1N6rQQCNrKQ9DA7BMGAZHk8va/Ea258iGyPHw5TD4zFOmx7YAJKA8bcE2DpgdHp/s2nE0+bF9fbJM3TRjNHvRCVqheSozow5mnU3IBpibKk48j3tykSk7ddEA4hZEN/RIiRqAOTfg8M9/ocOkoGjJ8gA8YhTtOovdie6Tgb6xS7MRvUgVFmIZnORy+N2vgToYBkaYR5XweGr1d/uZ6nSjtHq0xsQCSN2nRxEkrDwNKAcVDILiHilUybLVrP00YatV4dGNtbVCOLeI16IYUT89OGkbhBpQyx5ecEXR0PQp9EHZgMeGBaa8E0CWT0EdkDGTAOCWpCKqI4vfeK2khetxLQ27dAQBIOIelu12RZ/GZnVcjO3vasSIR/xFes9WiINIT02gMTVBh7ViEko0wg3gdILwuJG4qSyywk9yEktxqY1kq8Bh6YcDAgf88bNceB7299q2ETDgUQVHz/qRKvd9RmoJEjpygDuhvCPWTAOESZ1GGv+m32hJDsiFOVq3WdhWSy4Zxg+j0wkpUHhr+vWK4NoVmtQ/t50+0IIkmScCaSUcgv3yQDR1kHxo3HISQQQjJbv3d1YPQ9MJIkGRaz460E5BowreMS86Undq+QNTAZMCa4BobwF2TAOMRxM8dUp1F7vD5+49OGzNQhCZt1YEzGhxRPw4akKgvJMI1a5zNJ63CfRu3EMAsLGjDGzRxN0qhlEW/iexBxkHVjlRYPJNYfY8nnwbUGxkLECyg6Urfoe2C0BowbTRChT0bTqMmA8SVkwDgke9OovRUU6zZzlFxW4jXzwAQky0wqr28ZTirxajUlQiJeKw+M+OZlRDtSG2lg+I07EmNJFX2ZIoSUag2M8vuk3YTrLCSLSrzxZfqeKFkD05LogwTAVVYWkQxjTNXMMd1kwutDuIcMGIcobwj2NDDZE0ISQe/GZycLSW+U2SEIBQPpDyG1/msnvKfVwMiZTCafsVq7k/0Kye0ELNKoLUJIQPLNW7eZo6M5CmQhKcZoa8247oXEPTAGlXgB435IEY0Bkyd7YCiN2ksaW2KyjisjISQyYHwJGTAOUd6/0uKBEc5CsmfBWM1HLwsJSE0vJCB+s7M6nl7fM6w8MHpGp3aKXBPlppWAE7tMNIRklEYdDiVqmiRl4MgeGMm0V5HoHEXnp5WVuNWNNVloYICEJ0pbCyYqh5Di+gzZA0NZSJ7CGzkGJKBd2Pg8pQojEW+qQ/6EO8iAcUhQpYGx8cFU/yA8zohKGDDqkJnSyPCyF1JOICDfTIzwvNy8hQZGjyQRL7gRZJaFZL5+J7vFQ0hWFXLNPGaJTCR1KrW6Dkx6spCAZC+P8qUTYyaRRi0SQlIfx6jGA8OPFZ+vSBsHwhplFV47mkKvKC4Ip32bhHvIgHFIIKC+oWcLtsJZYJb2jpEGxqC1jmtyQpL1E1iKPDCGhex03ksKIclGkPF2rDUwzo0DqxCSGfkGDR25MaasA8OY/X5IIoXslL+haFRrwHiTRu0khMQNmHqNiJcfd/LAeENNhho5cjJR/ZdwDxkwDslWEa/dpxer+ehqYALaLCR7mGpgAgE5M8bw8143c2z917iZo85nDOrAmN3PrDUwFgN0sNPQ0YgCg/CJ7IGRtBoVuwaM9WUmZOKBcWsjNEWsRbyWGphmfQ8MaWC8IZM1YIC4lqxDLhkxfoMMGIco799ZJeK1MVZkKpKOBkaCsaZCZEZmBkhOUJJvqEZ4XXrDUgPTOl/lvLX3ZKtU7NaFpvNwEhrj/ZDcGDD5rQaj1gOjbOaoMjBSYMAETNbv9hcje2BENDDN+h6YxhajOjBkwHhBog9S5sS0lInkP8iAcYjSA+F18Tg9xCvxOtyAAYkQkrrujfKG42UadSgQQIHFk1DqCtmJr/fcE49TvbYKQwEilXiFNy+T44EWI7/VM5EcQor/K2nq/ljpbbRGnEgICVD0Q/KwDgxjDI0RGxoYqxASeWBSglwDJgNtBDhUC8Z/kAHjkGwtZGcUztLtSSSwPn6h1mZdmdXtUG1XT8Rrsr1Q0FoDk6pWAkYT0ztnvToVqNfR+q/TOjBOPXOyBsZFSXsesksOIbVmIUHtcbPyOmh3JSTggQFMjAIX57s5mmjCaOqBEUyjpkq8qSGTjRw51E7Af5AB4xDnGpjseWJjjFneOPWMs4Ck3me7HhGz8TlBaw2M1ypeSw2MznvJrQQE6sC4SLE2goeQnFTI5Rj1Q0pU4tV6YOyFwkTSqIGEkaQVCbvxuDUqumwb9UICgPzWho7aWjjaVgIFsgeGH/fs+T37GbmRYwYNGPLA+A8yYByizMJJRzNHUXWL1+GsoJ4GRpOFZPZEbreQXU5QQrvc9Hpg5Boudj6TJOKN/2ueRm2M05t0WLASrxmJLCRtGnWrBiagDiNZZSFpl9oNISVpYFRp1PbgNWAkydyQ4sdA64UyKmRHGhhvOdKY+RBSUT6lUvsNMmAcEnTqgUnx9c5uITsrjDQwQReiTrPbUEjAA+N9JV7zGi56b2uNVrdp1E7vg96EkAyykFr/5cdHVPehPY6iGWt8mHb9bs53k6IKr1mo10gDw7dtlIXUQgaMJ9RmgYiXQkj+gwwYh0gqDUwGJ6LBVnazwLU3kLBgFNtQF7KzEnUmbdbMAxOw9sB4bQQGLI2P5AXJvZC4iNeZB8ZpaFFOo46kIoTUqoFp3VVRr4P2EIhqxLhWRmuwuDndjQJ9kABFM0fNMeAhIuNeSKSB8QIu4s1UHRiAQkh+hAwYhwQ0N3RRnIo1xbOQvPbAtIaQVO9pKqeaXMP15mMu4g2gICfdWUjWxofRZzhCdWBSoIEJeRpC0jYyjP/L99WJB8bO15Efw+QQknsNjJmAF7AuZKftRh0iDYynKCvxZgrywPgPMmAcom7mmHoXjPOqK8YwiPRCal2vxuOkqpzqpQcmKFm2EvCaRBq1/nI+X+W8kzxdInVgTHB6jxbthWSGVQgpkOSBsUqjTp6fCHyoqQbG5nFqjKi1K0YYaWB4Ub1EGnWoda6kgfESOY06kyJeMmB8BxkwDlFnIYl/LtWXO+/rwOh5YCTVPps9hOqLeE00MIEAwibZIoD3HpiE90Q8C8kohGTugTFe5nSfEpV4nR8Tw0J2ilYCgCLzxoYHxupcKgkaeGDcZSG11oCxmEde2NwDY1TIjurAeINcyC6jIl4yYPwGGTAOUaXRpiELKRUhJBFvAd9PdRaSpNqO3d44ZqNFqrZ6LTvge2Ln3GiPs7wOk8+Y6VzcGzDeh5CUzRwBxU3bwlhSfh1yTfoPaeHtCpKaOQqvIRkeQsq18MAU5NjTwMhzJQPGEzLdSgAAikgD4zvIgHGIYw1MGurAiE5HZCZ63iXte2YiXtvdqAVSbr0+hpYeGJ33tccgIQR2pnNxukc5IfcaGKMQUkLEq9bAWN60VQaMfQ9Mch0Y4VUkIfdBspiH3EqgRb8bNTfutGnU5IFxT1MkKh93ykIi7EAGjEOyNY0aEHcIicxFL4SkTdW2+xRqZoCEBAwYz+8ZFpvUDSEZinjNvCwm23Bof4Q9CSHp14FJdKOOv3Yi4rUTQgoYGEhKo9Cu8WpXxKs9BtwbJFfi1aRRUxaSe3j4CADaZzQLierA+A0yYBwipVkDY6e+i5ei4kQIyXh/bbvRTYaHAtZfSa8bYloVodOvA6MtBGM8Vl6PyY479Srx49WcihBS67/83HOvg1W4S7ncjgfGKE3bzekWTaM264UUjTE0t6apF1AWkudwA6ZDbshVl3u3tAsHM7p9wj5ZbcDMnTsXffr0QV5eHkaNGoX169dnekoy6maOWeaBEQ4hCWhgksvAJO2vuYjXXhq1UAjJ42PI52hPA6N+7V7EK75tJXIIyUUdGMMspNY5JXlgbGhgbHlguIg3SQPjXsRr6YFRhJCUm4/EYiqjhpo5ek821IAB4tc1ykTyF1lrwLzwwguYNm0a7rrrLnz88ccYNmwYysvLUVVVlempAdBqYOx8Mg0aGBveGqubtjZUAiTfvL1MoxZp/Od5FlKAr1d/uZ7HR/uklhDxOpub81YCHoh4DQrZyc0cNQaMZSE7xTEI2fhxGK3fTZSGV+K18gTlKwycJoUxGIslhL2SlFgPtRLwjmyoAcPhQl5yxPiDzJq8JjzyyCO47rrrcPXVVwMAnnzySSxevBj/+Mc/cNttt2V4duosJLOQjSS5q2OhXI/4YLFhQhoYg0q8SswL2SW/V3WkEd8crtcdL5KF1OTC26AHN/iqG5p1l8cY8M3hepVpktwLqXUd9S2G+1bT+qSpx/7qRhszTsCPV21jJGm7h+r190dLgSKNWrkOrquRQ0it3rHKWuPzBwDf1yW2K3I+OdyAqaptUq2f13IBgPqmqOm2tXx3pAmAtQdGubyuKaHJaIpEsfvgUQBxI0d7LJoi9uZDJLP7YPz4ZVLAy+FCXqn1wl3baPx7JuJ0ahcWaMCbGrLSgGlubsbGjRsxY8YM+b1AIICxY8dizZo1up9pampCU1OT/Lq2tjalc1TewMyMi4KcII4qnmytLqRG2CnuJvr0kBsKWMZ8JXlsYvvap+qwYLM+zrQXNxkuEwkhbd3n7bnl5++pVV+p3u/ULoxDR5tR1xTB2f+3QvczANClfVj24vz1va/w1/fU6xHhor98YDo3I7iB8O5nVXj3M2feSe590NtPIPEd4HVg/vCS8fkzmp8I/Lt46//bbDhmydZKLNlaKbxOjtXvLhiQEA4F0ByJqQzN7+ua8Ysn49ccpZeGa2C+r2vWPWaEfTIdQgISxewCEhAF8Nyar/Hcmq8zO6ks5/HLh+Onw7pnZNtZGUL6/vvvEY1GUVJSonq/pKQElZX6F6/Zs2ejqKhI/uvZs2dK59guHMTYQSX48eAS1YVNy3PXjkLvzgV4etJIAMBTV4xA784FmDfxNNW4X54en6+RQfGXy09D784F+PPlwy3ndvGw41Uu89xQABcpvmB/vnx467pOw9Dji+T3F1w3CgDwj6tGyu/9oG8nAMBNPz5Rfu/sE7sAAK45qy+G9ijCM1f/AANLO+D3P+qPJxT7dXqfjuhenI+/XjFCNb/cUED+4+QEJXQrykNZv87yHHp1KkDfLu0wqm8nXHFGb3RqF0ZJYW7SZzlP/jqxnYW/PcPyOHHGndIN7XNDqvWWFubhL5cPx2m9ipPm27dLO4zs0wn/N2EIurTPxb0Xn4IxA0tQXJCjGqv3ZwRf3rdLO/TuXIBJZb3Ru3MBFl5nvh9n9OuE44vzTbd1Wq9i03V07ZCLs/t30V3HwNIOGFhaCAD4yZBuKAgHLfdRue1xQ0pNt61kvMn6tcfJzl/ndmGMHnCc5fZ/Pvx4+TN9OhfghOPaya/zcgK4ZPjx8ti+XdphWM9iR/Ohv+S/DnkhXDikm/B3JVWMH9odfToXYPoFA9GpXTjjx8UPf3oyg3QhMa9TOjxg3759OP744/Hhhx+irKxMfv/WW2/FqlWrsG7duqTP6HlgevbsiZqaGhQWFqZl3gRBEARBuKO2thZFRUWW9+/M++x06NKlC4LBIA4cOKB6/8CBAygt1X+iy83NRW5ubjqmRxAEQRBEhsnKEFI4HMaIESOwfPly+b1YLIbly5erPDIEQRAEQRybZKUHBgCmTZuGSZMmYeTIkfjBD36Axx57DEePHpWzkgiCIAiCOHbJWgPm0ksvxXfffYeZM2eisrISp556KpYsWZIk7CUIgiAI4tgjK0W8XiAqAiIIgiAIInsQvX9npQaGIAiCIAjCDDJgCIIgCILwHWTAEARBEAThO8iAIQiCIAjCd5ABQxAEQRCE7yADhiAIgiAI30EGDEEQBEEQvoMMGIIgCIIgfAcZMARBEARB+I6sbSXgFl5guLa2NsMzIQiCIAhCFH7ftmoU0GYNmCNHjgAAevbsmeGZEARBEARhlyNHjqCoqMhweZvthRSLxbBv3z506NABkiQlLa+trUXPnj2xd+/eY6pXEu037fexAO037fexQFvdb8YYjhw5gu7duyMQMFa6tFkPTCAQQI8ePSzHFRYWtqkTLwrt97EF7fexBe33sUVb3G8zzwuHRLwEQRAEQfgOMmAIgiAIgvAdx6wBk5ubi7vuugu5ubmZnkpaof2m/T4WoP2m/T4WOFb3m9NmRbwEQRAEQbRdjlkPDEEQBEEQ/oUMGIIgCIIgfAcZMARBEARB+A4yYAiCIAiC8B2+NWBmz56N008/HR06dEDXrl1xySWXYMeOHaoxjY2NmDx5Mjp37oz27dtjwoQJOHDggGrMnj17MH78eBQUFKBr16645ZZbEIlEVGNWrlyJ0047Dbm5uejfvz/mz5+f6t0zZN68eRg6dKhcuKisrAxvvfWWvLwt7rMe999/PyRJwtSpU+X32uK+33333ZAkSfU3cOBAeXlb3GfOt99+i1//+tfo3Lkz8vPzMWTIEGzYsEFezhjDzJkz0a1bN+Tn52Ps2LH44osvVOs4dOgQJk6ciMLCQhQXF+Paa69FXV2daszmzZtxzjnnIC8vDz179sQDDzyQlv3To0+fPknnW5IkTJ48GUDbPd/RaBR33nkn+vbti/z8fJxwwgmYNWuWqhdOWzzfQLxc/tSpU9G7d2/k5+fjzDPPxEcffSQvb6v77QnMp5SXl7NnnnmGffrpp6yiooJdeOGFrFevXqyurk4ec/3117OePXuy5cuXsw0bNrAzzjiDnXnmmfLySCTCTjnlFDZ27Fj2ySefsDfffJN16dKFzZgxQx7z1VdfsYKCAjZt2jS2bds29uc//5kFg0G2ZMmStO4v5/XXX2eLFy9mn3/+OduxYwf73//9X5aTk8M+/fRTxljb3Gct69evZ3369GFDhw5lN954o/x+W9z3u+66i5188sls//798t93330nL2+L+8wYY4cOHWK9e/dmV111FVu3bh376quv2NKlS9mXX34pj7n//vtZUVERe+2119imTZvYT3/6U9a3b1/W0NAgj7ngggvYsGHD2Nq1a9n777/P+vfvzy6//HJ5eU1NDSspKWETJ05kn376Kfv3v//N8vPz2VNPPZXW/eVUVVWpzvWyZcsYALZixQrGWNs93/fddx/r3LkzW7RoEdu1axd76aWXWPv27dmcOXPkMW3xfDPG2C9/+Us2ePBgtmrVKvbFF1+wu+66ixUWFrJvvvmGMdZ299sLfGvAaKmqqmIA2KpVqxhjjFVXV7OcnBz20ksvyWO2b9/OALA1a9Ywxhh78803WSAQYJWVlfKYefPmscLCQtbU1MQYY+zWW29lJ598smpbl156KSsvL0/1LgnTsWNH9ve///2Y2OcjR46wE088kS1btoz98Ic/lA2Ytrrvd911Fxs2bJjusra6z4wxNn36dHb22WcbLo/FYqy0tJQ9+OCD8nvV1dUsNzeX/fvf/2aMMbZt2zYGgH300UfymLfeeotJksS+/fZbxhhjTzzxBOvYsaN8LPi2BwwY4PUuOeLGG29kJ5xwAovFYm36fI8fP55dc801qvd+/vOfs4kTJzLG2u75rq+vZ8FgkC1atEj1/mmnncZuv/32NrvfXuHbEJKWmpoaAECnTp0AABs3bkRLSwvGjh0rjxk4cCB69eqFNWvWAADWrFmDIUOGoKSkRB5TXl6O2tpabN26VR6jXAcfw9eRSaLRKBYuXIijR4+irKzsmNjnyZMnY/z48Unza8v7/sUXX6B79+7o168fJk6ciD179gBo2/v8+uuvY+TIkfjFL36Brl27Yvjw4fjb3/4mL9+1axcqKytV8y4qKsKoUaNU+15cXIyRI0fKY8aOHYtAIIB169bJY84991yEw2F5THl5OXbs2IHDhw+nejdNaW5uxr/+9S9cc801kCSpTZ/vM888E8uXL8fnn38OANi0aRM++OADjBs3DkDbPd+RSATRaBR5eXmq9/Pz8/HBBx+02f32ijZhwMRiMUydOhVnnXUWTjnlFABAZWUlwuEwiouLVWNLSkpQWVkpj1H+0PlyvsxsTG1tLRoaGlKxO5Zs2bIF7du3R25uLq6//nq8+uqrGDx4cJveZwBYuHAhPv74Y8yePTtpWVvd91GjRmH+/PlYsmQJ5s2bh127duGcc87BkSNH2uw+A8BXX32FefPm4cQTT8TSpUtxww034H/+53/w7LPPAkjMXW/eyv3q2rWrankoFEKnTp1sHZ9M8dprr6G6uhpXXXWVPJ+2er5vu+02XHbZZRg4cCBycnIwfPhwTJ06FRMnTgTQds93hw4dUFZWhlmzZmHfvn2IRqP417/+hTVr1mD//v1tdr+9ok10o548eTI+/fRTfPDBB5meSloYMGAAKioqUFNTg5dffhmTJk3CqlWrMj2tlLJ3717ceOONWLZsWdLTSluGP4ECwNChQzFq1Cj07t0bL774IvLz8zM4s9QSi8UwcuRI/OlPfwIADB8+HJ9++imefPJJTJo0KcOzSw9PP/00xo0bh+7du2d6KinnxRdfxPPPP48FCxbg5JNPRkVFBaZOnYru3bu3+fP9z3/+E9dccw2OP/54BINBnHbaabj88suxcePGTE8t6/G9B2bKlClYtGgRVqxYgR49esjvl5aWorm5GdXV1arxBw4cQGlpqTxGq+Dnr63GFBYWZuwGEg6H0b9/f4wYMQKzZ8/GsGHDMGfOnDa9zxs3bkRVVRVOO+00hEIhhEIhrFq1Co8//jhCoRBKSkra7L4rKS4uxkknnYQvv/yyTZ/vbt26YfDgwar3Bg0aJIfP+Nz15q3cr6qqKtXySCSCQ4cO2To+meDrr7/GO++8g9/85jfye235fN9yyy2yF2bIkCG44oorcNNNN8ne1rZ8vk844QSsWrUKdXV12Lt3L9avX4+Wlhb069evTe+3F/jWgGGMYcqUKXj11Vfx7rvvom/fvqrlI0aMQE5ODpYvXy6/t2PHDuzZswdlZWUAgLKyMmzZskV18pctW4bCwkL54llWVqZaBx/D15ENxGIxNDU1tel9HjNmDLZs2YKKigr5b+TIkZg4caL8/21135XU1dVh586d6NatW5s+32eddVZSWYTPP/8cvXv3BgD07dsXpaWlqnnX1tZi3bp1qn2vrq5WPcm+++67iMViGDVqlDzmvffeQ0tLizxm2bJlGDBgADp27Jiy/bPimWeeQdeuXTF+/Hj5vbZ8vuvr6xEIqG9HwWAQsVgMQNs/3wDQrl07dOvWDYcPH8bSpUtx8cUXHxP77YpMq4idcsMNN7CioiK2cuVKVdphfX29POb6669nvXr1Yu+++y7bsGEDKysrY2VlZfJynnJ4/vnns4qKCrZkyRJ23HHH6aYc3nLLLWz79u1s7ty5GU05vO2229iqVavYrl272ObNm9ltt93GJElib7/9NmOsbe6zEcosJMba5r7ffPPNbOXKlWzXrl1s9erVbOzYsaxLly6sqqqKMdY295mxeKp8KBRi9913H/viiy/Y888/zwoKCti//vUvecz999/PiouL2X/+8x+2efNmdvHFF+umlw4fPpytW7eOffDBB+zEE09UpZdWV1ezkpISdsUVV7BPP/2ULVy4kBUUFGQ0vTQajbJevXqx6dOnJy1rq+d70qRJ7Pjjj5fTqF955RXWpUsXduutt8pj2ur5XrJkCXvrrbfYV199xd5++202bNgwNmrUKNbc3MwYa7v77QW+NWAA6P4988wz8piGhgb2u9/9jnXs2JEVFBSwn/3sZ2z//v2q9ezevZuNGzeO5efnsy5durCbb76ZtbS0qMasWLGCnXrqqSwcDrN+/fqptpFurrnmGta7d28WDofZcccdx8aMGSMbL4y1zX02QmvAtMV9v/TSS1m3bt1YOBxmxx9/PLv00ktVtVDa4j5z3njjDXbKKaew3NxcNnDgQPbXv/5VtTwWi7E777yTlZSUsNzcXDZmzBi2Y8cO1ZiDBw+yyy+/nLVv354VFhayq6++mh05ckQ1ZtOmTezss89mubm57Pjjj2f3339/yvfNjKVLlzIASfvCWNs937W1tezGG29kvXr1Ynl5eaxfv37s9ttvV6X9ttXz/cILL7B+/fqxcDjMSktL2eTJk1l1dbW8vK3utxdIjClKHRIEQRAEQfgA32pgCIIgCII4diEDhiAIgiAI30EGDEEQBEEQvoMMGIIgCIIgfAcZMARBEARB+A4yYAiCIAiC8B1kwBAEQRAE4TvIgCEIgiAIwneQAUMQhGPuvvtunHrqqfLrq666CpdccknG5kMQxLEDGTAE0YZZs2YNgsGgqilgKpkzZw7mz5+flm1xRo8ejalTp6re2717NyRJQkVFRVrnQhBE+iADhiDaME8//TR+//vf47333sO+fftSvr2ioiIUFxenfDsEQRBkwBBEG6Wurg4vvPACbrjhBowfP17lGVm5ciUkScLixYsxdOhQ5OXl4YwzzsCnn34qj5k/fz6Ki4vx2muv4cQTT0ReXh7Ky8uxd+9ew21qQ0ixWAwPPPAA+vfvj9zcXPTq1Qv33XefvHz69Ok46aSTUFBQgH79+uHOO+9ES0uLvJyHqP75z3+iT58+KCoqwmWXXYYjR47I21u1ahXmzJkDSZIgSRJ2796dNC++v8uXL8fIkSNRUFCAM888Ezt27FCNe+ONN3D66acjLy8PXbp0wc9+9jN52eHDh3HllVeiY8eOKCgowLhx4/DFF18kHa9FixZhwIABKCgowH/913+hvr4ezz77LPr06YOOHTvif/7nfxCNRuXPNTU14Q9/+AOOP/54tGvXDqNGjcLKlSsNjzFBEHHIgCGINsqLL76IgQMHYsCAAfj1r3+Nf/zjH9D2br3lllvw8MMP46OPPsJxxx2Hiy66SGVA1NfX47777sNzzz2H1atXo7q6GpdddpnwHGbMmIH7778fd955J7Zt24YFCxagpKREXt6hQwfMnz8f27Ztw5w5c/C3v/0Njz76qGodO3fuxGuvvYZFixZh0aJFWLVqFe6//34A8ZBVWVkZrrvuOuzfvx/79+9Hz549Dedz++234+GHH8aGDRsQCoVwzTXXyMsWL16Mn/3sZ7jwwgvxySefYPny5fjBD34gL7/qqquwYcMGvP7661izZg0YY7jwwguTjtfjjz+OhQsXYsmSJVi5ciV+9rOf4c0338Sbb76Jf/7zn3jqqafw8ssvy5+ZMmUK1qxZg4ULF2Lz5s34xS9+gQsuuEBlHBEEoUNmm2ETBJEqzjzzTPbYY48xxhhraWlhXbp0YStWrGCMMbZixQoGgC1cuFAef/DgQZafn89eeOEFxhhjzzzzDAPA1q5dK4/Zvn07A8DWrVvHGGPsrrvuYsOGDZOXT5o0iV188cWMMcZqa2tZbm4u+9vf/iY85wcffJCNGDFCfn3XXXexgoICVltbK793yy23sFGjRsmvf/jDH7Ibb7xRtZ5du3YxAOyTTz5R7e8777wjj1m8eDEDwBoaGhhjjJWVlbGJEyfqzuvzzz9nANjq1avl977//nuWn5/PXnzxRcZY4nh9+eWX8pj//u//ZgUFBezIkSPye+Xl5ey///u/GWOMff311ywYDLJvv/1Wtb0xY8awGTNmGB8ogiBYKHOmE0EQqWLHjh1Yv349Xn31VQBAKBTCpZdeiqeffhqjR4+Wx5WVlcn/36lTJwwYMADbt2+X3wuFQjj99NPl1wMHDkRxcTG2b9+u8k7osX37djQ1NWHMmDGGY1544QU8/vjj2LlzJ+rq6hCJRFBYWKga06dPH3To0EF+3a1bN1RVVZkfAAOGDh2qWg8AVFVVoVevXqioqMB1111nuC+hUAijRo2S3+vcuXPS8SooKMAJJ5wgvy4pKUGfPn3Qvn171Xt8/lu2bEE0GsVJJ52k2l5TUxM6d+7saB8J4liBDBiCaIM8/fTTiEQi6N69u/weYwy5ubn4y1/+kpY55Ofnmy5fs2YNJk6ciHvuuQfl5eUoKirCwoUL8fDDD6vG5eTkqF5LkoRYLOZoTsp1SZIEAPK6rOZrd/18G2bzr6urQzAYxMaNGxEMBlXjlEYPQRDJkAaGINoYkUgEzz33HB5++GFUVFTIf5s2bUL37t3x73//Wx67du1a+f8PHz6Mzz//HIMGDVKta8OGDfLrHTt2oLq6WjXGiBNPPBH5+flYvny57vIPP/wQvXv3xu23346RI0fixBNPxNdff217f8PhsEoU65ShQ4caznXQoEGIRCJYt26d/N7BgwexY8cODB482PE2hw8fjmg0iqqqKvTv31/1V1pa6ni9BHEsQB4YgmhjLFq0CIcPH8a1116LoqIi1bIJEybg6aefxoMPPggAuPfee9G5c2eUlJTg9ttvR5cuXVRZRDk5Ofj973+Pxx9/HKFQCFOmTMEZZ5xhGT4CgLy8PEyfPh233norwuEwzjrrLHz33XfYunUrrr32Wpx44onYs2cPFi5ciNNPPx2LFy+WQ1526NOnD9atW4fdu3ejffv26NSpk+11AMBdd92FMWPG4IQTTsBll12GSCSCN998E9OnT8eJJ56Iiy++GNdddx2eeuopdOjQAbfddhuOP/54XHzxxY62BwAnnXQSJk6ciCuvvBIPP/wwhg8fju+++w7Lly/H0KFD01a/hyD8CHlgCKKN8fTTT2Ps2LFJxgsQN2A2bNiAzZs3AwDuv/9+3HjjjRgxYgQqKyvxxhtvIBwOy+MLCgowffp0/OpXv8JZZ52F9u3b44UXXhCey5133ombb74ZM2fOxKBBg3DppZfK+o+f/vSnuOmmmzBlyhSceuqp+PDDD3HnnXfa3t8//OEPCAaDGDx4MI477jjs2bPH9jqAeEG8l156Ca+//jpOPfVU/OhHP8L69evl5c888wxGjBiBn/zkJygrKwNjDG+++WZSiMguzzzzDK688krcfPPNGDBgAC655BJ89NFH6NWrl6v1EkRbR2JMk1dJEESbZ+XKlTjvvPNw+PBhw8Jz8+fPx9SpU1FdXZ3WuREEQYhAHhiCIAiCIHwHGTAEQRAEQfgOCiERBEEQBOE7yANDEARBEITvIAOGIAiCIAjfQQYMQRAEQRC+gwwYgiAIgiB8BxkwBEEQBEH4DjJgCIIgCILwHWTAEARBEAThO8iAIQiCIAjCd/x/lVQpT8dHzKoAAAAASUVORK5CYII=",
      "text/plain": [
       "<Figure size 640x480 with 1 Axes>"
      ]
     },
     "metadata": {},
     "output_type": "display_data"
    }
   ],
   "source": [
    "# Changed to line graph to better display data\n",
    "(\n",
    "    df.sort_values(by='ApplicantIncome', ascending=True)\n",
    ").plot(\n",
    "    kind='line', \n",
    "    x='ApplicantIncome', \n",
    "    y='CoapplicantIncome'\n",
    ");"
   ]
  },
  {
   "cell_type": "code",
   "execution_count": 29,
   "metadata": {},
   "outputs": [
    {
     "name": "stdout",
     "output_type": "stream",
     "text": [
      "Entropy of Loan_ID:              5.6312118\n",
      "Entropy of Gender:               0.453434\n",
      "Entropy of Married:              0.6459925\n",
      "Entropy of Dependents:           1.1416009\n",
      "Entropy of Education:            0.5512451\n",
      "Entropy of Self_Employed:        0.3413132\n",
      "Entropy of ApplicantIncome:      5.4144272\n",
      "Entropy of CoapplicantIncome:    3.4373395\n",
      "Entropy of LoanAmount:           4.291278\n",
      "Entropy of Loan_Amount_Term:     0.5699707\n",
      "Entropy of Credit_History:       0.4236405\n",
      "Entropy of Property_Area:        1.0879573\n",
      "Entropy of Loan_Status:          0.6117726\n",
      "Entropy of Value_Counts:         5.6312118\n"
     ]
    }
   ],
   "source": [
    "from scipy.stats import entropy\n",
    "\n",
    "# Assuming df is your DataFrame\n",
    "for col in df.columns:\n",
    "    ln = col + ':'\n",
    "    print(f'Entropy of {ln:<20}  {round(entropy(df[col].value_counts(normalize=True), base=np.e),7)}')\n",
    "\n",
    "print(f'Entropy of {\"Value_Counts:\":<21} {round(entropy(df.value_counts(normalize=True), base=np.e),7)}')\n"
   ]
  },
  {
   "cell_type": "code",
   "execution_count": 49,
   "metadata": {},
   "outputs": [
    {
     "data": {
      "text/plain": [
       "<AxesSubplot:xlabel='Loan_Status', ylabel='CoapplicantIncome'>"
      ]
     },
     "execution_count": 49,
     "metadata": {},
     "output_type": "execute_result"
    },
    {
     "data": {
      "image/png": "iVBORw0KGgoAAAANSUhEUgAAAkQAAAGwCAYAAABIC3rIAAAAOXRFWHRTb2Z0d2FyZQBNYXRwbG90bGliIHZlcnNpb24zLjUuMywgaHR0cHM6Ly9tYXRwbG90bGliLm9yZy/NK7nSAAAACXBIWXMAAA9hAAAPYQGoP6dpAAAwTElEQVR4nO3de1RU9f7/8deggih3LwwkIWYliKKpKcc0TQLvWZy+eSmtPPbVwBuZxsnwWn6PlZqluayM+qpH7WKZlomYWolWJN7lm0phKmCpTHoUFeb3R8f9aw5qOg4Mup+PtfZasz+fz+x5b1zoy8/+7D0Wu91uFwAAgIl5uLsAAAAAdyMQAQAA0yMQAQAA0yMQAQAA0yMQAQAA0yMQAQAA0yMQAQAA06vu7gKuB2VlZTp8+LB8fX1lsVjcXQ4AALgCdrtdv/32m0JDQ+Xhcfk5IALRFTh8+LDCwsLcXQYAAHDCwYMH1aBBg8uOIRBdAV9fX0m//0D9/PzcXA0AALgSNptNYWFhxr/jl0MgugIXLpP5+fkRiAAAuM5cyXIXFlUDAADTIxABAADTIxABAADTIxABAADTIxABAADTIxABAADTIxABAADTIxABAADTIxABAADTIxABAADTIxABAADTIxABAADTIxABAADT49vugT8YOXKkjh49KkmqV6+eXnnlFTdXBACoDAQi4A+OHj2qwsJCd5cBAKhkXDIDAACmRyACAACmRyACAACmRyACAACmRyACAACmRyACAACmRyACAACmRyACAACmRyACAACmRyACAACmRyACAACmRyACAACmRyACAACmRyACAACmRyACAACmRyACAACmRyACAACm59ZANG3aNLVp00a+vr6qX7+++vTpo9zcXIcxnTp1ksVicdiGDh3qMCY/P189evRQrVq1VL9+fT399NM6f/68w5j169frjjvukJeXlxo3bqz09PSKPj0AAHCdcGsg2rBhg5KSkrR582ZlZGTo3Llzio+P16lTpxzGDRkyREeOHDG26dOnG32lpaXq0aOHzp49q02bNumdd95Renq60tLSjDF5eXnq0aOHOnfurJycHI0aNUp/+9vf9Pnnn1fauQIAgKqrujs/fPXq1Q776enpql+/vrKzs9WxY0ejvVatWrJarRc9xpo1a7R7926tXbtWwcHBatGihaZMmaJx48Zp4sSJ8vT01Lx58xQREaGXX35ZkhQZGamvvvpKM2fOVEJCQrljlpSUqKSkxNi32WyuOF0AAFBFVak1RMXFxZKkoKAgh/ZFixapbt26io6OVmpqqv71r38ZfVlZWWrWrJmCg4ONtoSEBNlsNu3atcsYExcX53DMhIQEZWVlXbSOadOmyd/f39jCwsJccn4AAKBqcusM0R+VlZVp1KhRat++vaKjo432/v37Kzw8XKGhodq+fbvGjRun3Nxcffjhh5KkgoIChzAkydgvKCi47BibzabTp0/L29vboS81NVUpKSnGvs1mIxQBAHADqzKBKCkpSTt37tRXX33l0P7EE08Yr5s1a6aQkBB16dJF+/fv1y233FIhtXh5ecnLy6tCjg0AAKqeKnHJLDk5WStXrtQXX3yhBg0aXHZs27ZtJUn79u2TJFmtVhUWFjqMubB/Yd3Rpcb4+fmVmx0CAADm49ZAZLfblZycrOXLl2vdunWKiIj40/fk5ORIkkJCQiRJsbGx2rFjh4qKiowxGRkZ8vPzU1RUlDEmMzPT4TgZGRmKjY110ZkAAIDrmVsDUVJSkhYuXKjFixfL19dXBQUFKigo0OnTpyVJ+/fv15QpU5Sdna0ff/xRK1as0MCBA9WxY0c1b95ckhQfH6+oqCg98sgj2rZtmz7//HONHz9eSUlJxmWvoUOH6sCBAxo7dqz27t2ruXPnatmyZRo9erTbzh0AAFQdbg1Er7/+uoqLi9WpUyeFhIQY29KlSyVJnp6eWrt2reLj49WkSRM99dRTSkxM1CeffGIco1q1alq5cqWqVaum2NhYPfzwwxo4cKAmT55sjImIiNCqVauUkZGhmJgYvfzyy3rzzTcvess9AAAwH7cuqrbb7ZftDwsL04YNG/70OOHh4fr0008vO6ZTp07aunXrVdUHAADMoUosqgYAAHAnAhEAADA9AhEAADA9AhEAADA9AhEAADA9AhEAADA9AhEAADA9AhEAADA9AhEAADA9AhEAADA9AhEAADA9AhEAADA9AhEAADA9AhEAADA9AhEAADA9AhEAADA9AhEAADA9AhEAADA9AhEAADA9AhEAADA9AhEAADA9AhEAADA9AhEAADA9AhEAADA9AhEAADA9AhEAADA9AhEAADA9AhEAADA9AhEAADA9AhEAADA9AhEAADA9AhEAADA9AhEAADA9AhEAADA9AhEAADA9AhEAADA9AhEAADA9AhEAADA9AhEAADA9AhEAADA9AhEAADA9AhEAADA9AhEAADA9AhEAADA9AhEAADA9AhEAADA9AhEAADA9AhEAADA9AhEAADA9AhEAADA9AhEAADA9AhEAADA9AhEAADA9AhEAADA9AhEAADA9twaiadOmqU2bNvL19VX9+vXVp08f5ebmOow5c+aMkpKSVKdOHfn4+CgxMVGFhYUOY/Lz89WjRw/VqlVL9evX19NPP63z5887jFm/fr3uuOMOeXl5qXHjxkpPT6/o0wMAANcJtwaiDRs2KCkpSZs3b1ZGRobOnTun+Ph4nTp1yhgzevRoffLJJ3rvvfe0YcMGHT58WA888IDRX1paqh49eujs2bPatGmT3nnnHaWnpystLc0Yk5eXpx49eqhz587KycnRqFGj9Le//U2ff/55pZ4vAAComix2u93u7iIuOHr0qOrXr68NGzaoY8eOKi4uVr169bR48WL99a9/lSTt3btXkZGRysrKUrt27fTZZ5+pZ8+eOnz4sIKDgyVJ8+bN07hx43T06FF5enpq3LhxWrVqlXbu3Gl8Vt++fXXixAmtXr36T+uy2Wzy9/dXcXGx/Pz8KubkUSX079/fmIEMDg7W4sWL3VwRAMBZV/Pvd5VaQ1RcXCxJCgoKkiRlZ2fr3LlziouLM8Y0adJEN998s7KysiRJWVlZatasmRGGJCkhIUE2m027du0yxvzxGBfGXDjGfyopKZHNZnPYAADAjavKBKKysjKNGjVK7du3V3R0tCSpoKBAnp6eCggIcBgbHBysgoICY8wfw9CF/gt9lxtjs9l0+vTpcrVMmzZN/v7+xhYWFuaScwQAAFVTlQlESUlJ2rlzp5YsWeLuUpSamqri4mJjO3jwoLtLAgAAFai6uwuQpOTkZK1cuVIbN25UgwYNjHar1aqzZ8/qxIkTDrNEhYWFslqtxphvvvnG4XgX1oD8ccx/3plWWFgoPz8/eXt7l6vHy8tLXl5eLjk3AABQ9bl1hshutys5OVnLly/XunXrFBER4dDfqlUr1ahRQ5mZmUZbbm6u8vPzFRsbK0mKjY3Vjh07VFRUZIzJyMiQn5+foqKijDF/PMaFMReOAQAAzM2tM0RJSUlavHixPv74Y/n6+hprfvz9/eXt7S1/f38NHjxYKSkpCgoKkp+fn4YPH67Y2Fi1a9dOkhQfH6+oqCg98sgjmj59ugoKCjR+/HglJSUZszxDhw7Va6+9prFjx+rxxx/XunXrtGzZMq1atcpt5w4AAKoOt84Qvf766youLlanTp0UEhJibEuXLjXGzJw5Uz179lRiYqI6duwoq9WqDz/80OivVq2aVq5cqWrVqik2NlYPP/ywBg4cqMmTJxtjIiIitGrVKmVkZCgmJkYvv/yy3nzzTSUkJFTq+QIAgKqpSj2HqKriOUTmwXOIAODGcd0+hwgAAMAdCEQAAMD0CEQAAMD0CEQAAMD0CEQAAMD0CEQAAMD0CEQAAMD0CEQAAMD0CEQAAMD0rvm7zM6cOaOaNWu6ohbTa/X0u+4uwfT8jp80/pdw5PhJ/kyqiOwXB7q7BAA3OKdmiMrKyjRlyhTddNNN8vHx0YEDByRJzz33nN566y2XFggAAFDRnApEU6dOVXp6uqZPny5PT0+jPTo6Wm+++abLigMAAKgMTgWid999V/Pnz9eAAQNUrVo1oz0mJkZ79+51WXEAAACVwalAdOjQITVu3Lhce1lZmc6dO3fNRQEAAFQmpwJRVFSUvvzyy3Lt77//vlq2bHnNRQEAAFQmp+4yS0tL06BBg3To0CGVlZXpww8/VG5urt59912tXLnS1TUCAABUKKdmiO677z598sknWrt2rWrXrq20tDTt2bNHn3zyie69915X1wgAAFChnH4OUYcOHZSRkeHKWgAAANzimh/MePLkSZWVlTm0+fn5XethAQAAKo1Tl8zy8vLUo0cP1a5dW/7+/goMDFRgYKACAgIUGBjo6hoBAAAqlFMzRA8//LDsdrsWLFig4OBgWSwWV9cFAABQaZwKRNu2bVN2drZuv/12V9cDAABQ6Zy6ZNamTRsdPHjQ1bUAAAC4hVMzRG+++aaGDh2qQ4cOKTo6WjVq1HDob968uUuKAwAAqAxOBaKjR49q//79euyxx4w2i8Uiu90ui8Wi0tJSlxUIAABQ0ZwKRI8//rhatmypf/7znyyqBgAA1z2nAtFPP/2kFStWXPQLXgEAAK43Ti2qvueee7Rt2zZX1wIAAOAWTs0Q9erVS6NHj9aOHTvUrFmzcouqe/fu7ZLiAAAAKoNTgWjo0KGSpMmTJ5frY1E1AAC43jgViP7zu8sAAACuZ9f85a4AAFwPRo4cqaNHj0qS6tWrp1deecXNFaEqcWpRtSRt2LBBvXr1UuPGjdW4cWP17t1bX375pStrAwDAZY4eParCwkIVFhYawQi4wKlAtHDhQsXFxalWrVoaMWKERowYIW9vb3Xp0kWLFy92dY0AAAAVyqlLZs8//7ymT5+u0aNHG20jRozQjBkzNGXKFPXv399lBQIAAFQ0p2aIDhw4oF69epVr7927t/Ly8q65KAAAgMrkVCAKCwtTZmZmufa1a9cqLCzsmosCAACoTE5dMnvqqac0YsQI5eTk6C9/+Ysk6euvv1Z6ejqr9gEAwHXHqUA0bNgwWa1Wvfzyy1q2bJkkKTIyUkuXLtV9993n0gIBAAAqmtPPIbr//vt1//33u7IWAAAAt3BqDdG3336rLVu2lGvfsmWLvvvuu2suCgAAoDI5FYiSkpJ08ODBcu2HDh1SUlLSNRcFAABQmZwKRLt379Ydd9xRrr1ly5bavXv3NRcFAABQmZwKRF5eXiosLCzXfuTIEVWvztejAQCA64tTgSg+Pl6pqakqLi422k6cOKG///3vuvfee11WHAAAQGVwajrnpZdeUseOHRUeHq6WLVtKknJychQcHKz//d//dWmBAAAAFc2pQHTTTTdp+/btWrRokbZt2yZvb2899thj6tevn2rUqOHqGgEAACqU0wt+ateurSeeeMKVtQAAALiF04Hohx9+0BdffKGioiKVlZU59KWlpV1zYQAAAJXFqUD0xhtvaNiwYapbt66sVqssFovRZ7FYCEQAAOC64lQgmjp1qp5//nmNGzfO1fUAAABUOqduuz9+/LgefPBBV9cCAADgFk4FogcffFBr1qxxdS0AAABu4dQls8aNG+u5557T5s2b1axZs3K32o8YMcIlxQEAAFQGpwLR/Pnz5ePjow0bNmjDhg0OfRaLhUAEAACuK05dMsvLy7vkduDAgSs+zsaNG9WrVy+FhobKYrHoo48+cuh/9NFHZbFYHLauXbs6jDl27JgGDBggPz8/BQQEaPDgwTp58qTDmO3bt6tDhw6qWbOmwsLCNH36dGdOGwAA3KCcCkSucurUKcXExGjOnDmXHNO1a1cdOXLE2P75z3869A8YMEC7du1SRkaGVq5cqY0bNzo8MNJmsyk+Pl7h4eHKzs7Wiy++qIkTJ2r+/PkVdl4AAOD6clWXzFJSUq5o3IwZM65oXLdu3dStW7fLjvHy8pLVar1o3549e7R69Wp9++23at26tSTp1VdfVffu3fXSSy8pNDRUixYt0tmzZ7VgwQJ5enqqadOmysnJ0YwZM3jSNgAAkHSVgWjr1q0VVcclrV+/XvXr11dgYKDuueceTZ06VXXq1JEkZWVlKSAgwAhDkhQXFycPDw9t2bJF999/v7KystSxY0d5enoaYxISEvSPf/xDx48fV2BgYLnPLCkpUUlJibFvs9kq8AwBmEH+5GbuLsH0zp+oI6nav18f5s+kirg5bYe7S5B0lYHoiy++qKg6Lqpr16564IEHFBERof379+vvf/+7unXrpqysLFWrVk0FBQWqX7++w3uqV6+uoKAgFRQUSJIKCgoUERHhMCY4ONjou1ggmjZtmiZNmlRBZwUAAKoap9YQTZ48Wf/617/KtZ8+fVqTJ0++5qIu6Nu3r3r37q1mzZqpT58+Wrlypb799lutX7/eZZ9xMampqSouLja2gwcPVujnAQAA93IqEE2aNKncnVyS9K9//atCZ1YaNWqkunXrat++fZIkq9WqoqIihzHnz5/XsWPHjHVHVqtVhYWFDmMu7F9qbZKXl5f8/PwcNgAAcONyKhDZ7XaHL3S9YNu2bQoKCrrmoi7l559/1q+//qqQkBBJUmxsrE6cOKHs7GxjzLp161RWVqa2bdsaYzZu3Khz584ZYzIyMnT77bdf9HIZAAAwn6taQxQYGGg8D+i2225zCEWlpaU6efKkhg4desXHO3nypDHbI/3+fKOcnBwFBQUpKChIkyZNUmJioqxWq/bv36+xY8eqcePGSkhIkCRFRkaqa9euGjJkiObNm6dz584pOTlZffv2VWhoqCSpf//+mjRpkgYPHqxx48Zp586deuWVVzRz5syrOXUAAHADu6pANGvWLNntdj3++OOaNGmS/P39jT5PT081bNhQsbGxV3y87777Tp07dzb2L9zWP2jQIL3++uvavn273nnnHZ04cUKhoaGKj4/XlClT5OXlZbxn0aJFSk5OVpcuXeTh4aHExETNnj3b6Pf399eaNWuUlJSkVq1aqW7dukpLS+OWewAAYLiqQDRo0CBJUkREhP7yl7+U+w6zq9WpUyfZ7fZL9n/++ed/eoygoCAtXrz4smOaN2+uL7/88qrrAwAA5uDUd5ndfffdKisr0//93/+pqKhIZWVlDv0dO3Z0SXEAAACVwalAtHnzZvXv318//fRTuRkei8Wi0tJSlxQHAABQGZwKREOHDlXr1q21atUqhYSEXPSOMwAAgOuFU4Hohx9+0Pvvv6/GjRu7uh4AAIBK59RziNq2betwuzwAAMD1zKkZouHDh+upp55SQUGBmjVrVu5us+bNm7ukOAAAgMrgVCBKTEyUJD3++ONGm8ViMZ5gzaJqAABwPXEqEOXl5bm6DgAAALdxKhCFh4e7ug4AAAC3cSoQXbB7927l5+fr7NmzDu29e/e+pqIAAAAqk1OB6MCBA7r//vu1Y8cOY+2QJON5RKwhAgAA1xOnbrsfOXKkIiIiVFRUpFq1amnXrl3auHGjWrdurfXr17u4RAAAgIrl1AxRVlaW1q1bp7p168rDw0MeHh666667NG3aNI0YMUJbt251dZ0AAAAVxqkZotLSUvn6+kqS6tatq8OHD0v6fbF1bm6u66oDAACoBE7NEEVHR2vbtm2KiIhQ27ZtNX36dHl6emr+/Plq1KiRq2sEAACoUE4FovHjx+vUqVOSpMmTJ6tnz57q0KGD6tSpo6VLl7q0QKAyldWofdHXAIAbm1OBKCEhwXjduHFj7d27V8eOHVNgYKBxpxlwPTp5ezd3lwAAcAOnAlFxcbFKS0sVFBRktAUFBenYsWOqXr26/Pz8XFYgAACuEORVetHXgORkIOrbt6969eqlJ5980qF92bJlWrFihT799FOXFAcAgKv8veUJd5eAKsypu8y2bNmizp07l2vv1KmTtmzZcs1FAQAAVCanAlFJSYnOnz9frv3cuXM6ffr0NRcFAABQmZwKRHfeeafmz59frn3evHlq1arVNRcFAABQmZxaQzR16lTFxcVp27Zt6tKliyQpMzNT3377rdasWePSAgEAACqaUzNE7du3V1ZWlsLCwrRs2TJ98sknaty4sbZv364OHTq4ukYAAIAK5dQMkSS1aNFCixYtcmUtAAAAbnHFgchmsxnPF7LZbJcdy3OIAADA9eSKA1FgYKCOHDmi+vXrKyAg4KJPpLbb7bJYLCot5YFXAADg+nHFgWjdunXGk6m/+OKLCisIAACgsl1xILr77rsv+hoAAOB6d8WBaPv27Vd80ObNmztVDAAAgDtccSBq0aKFLBaL7Hb7ZcexhggAAFxvrjgQ5eXlVWQdAAAAbnPFgSg8PLwi6wAAAHAbpx/MmJubq1dffVV79uyRJEVGRmr48OG6/fbbXVYcAABAZXDqqzs++OADRUdHKzs7WzExMYqJidH333+v6OhoffDBB66uEQAAoEI5NUM0duxYpaamavLkyQ7tEyZM0NixY5WYmOiS4gAAACqDUzNER44c0cCBA8u1P/zwwzpy5Mg1FwUAAFCZnApEnTp10pdfflmu/auvvuLb7gEAwHXHqUtmvXv31rhx45Sdna127dpJkjZv3qz33ntPkyZN0ooVKxzGAgAAVGVOBaInn3xSkjR37lzNnTv3on0SD2kEAADXB6cCUVlZmavrAAAAcBun1hABAADcSJwORJmZmerZs6duueUW3XLLLerZs6fWrl3rytoAAAAqhVOBaO7cueratat8fX01cuRIjRw5Un5+furevbvmzJnj6hoBAAAqlFNriF544QXNnDlTycnJRtuIESPUvn17vfDCC0pKSnJZgQAAABXNqRmiEydOqGvXruXa4+PjVVxcfM1FAQAAVCanAlHv3r21fPnycu0ff/yxevbsec1FAQAAVCanLplFRUXp+eef1/r16xUbGyvp9wczfv3113rqqac0e/ZsY+yIESNcUykAAEAFcSoQvfXWWwoMDNTu3bu1e/duoz0gIEBvvfWWsW+xWAhEAACgynMqEOXl5bm6DgAAALfhwYwAAMD0nJohkqSff/5ZK1asUH5+vs6ePevQN2PGjGsuDAAAoLI4FYgyMzPVu3dvNWrUSHv37lV0dLR+/PFH2e123XHHHa6uEQAAoEI5dcksNTVVY8aM0Y4dO1SzZk198MEHOnjwoO6++249+OCDrq4RAACgQjkViPbs2aOBAwdKkqpXr67Tp0/Lx8dHkydP1j/+8Q+XFggAAFDRnApEtWvXNtYNhYSEaP/+/UbfL7/84prKAAAAKolTgahdu3b66quvJEndu3fXU089peeff16PP/642rVrd8XH2bhxo3r16qXQ0FBZLBZ99NFHDv12u11paWkKCQmRt7e34uLi9MMPPziMOXbsmAYMGCA/Pz8FBARo8ODBOnnypMOY7du3q0OHDqpZs6bCwsI0ffp0Z04bAADcoJwKRDNmzFDbtm0lSZMmTVKXLl20dOlSNWzY0OHBjH/m1KlTiomJ0Zw5cy7aP336dM2ePVvz5s3Tli1bVLt2bSUkJOjMmTPGmAEDBmjXrl3KyMjQypUrtXHjRj3xxBNGv81mU3x8vMLDw5Wdna0XX3xREydO1Pz58505dQAAcANy6i6zRo0aGa9r166tefPmOfXh3bp1U7du3S7aZ7fbNWvWLI0fP1733XefJOndd99VcHCwPvroI/Xt21d79uzR6tWr9e2336p169aSpFdffVXdu3fXSy+9pNDQUC1atEhnz57VggUL5OnpqaZNmyonJ0czZsxwCE5/VFJSopKSEmPfZrM5dX4AAOD6cE0PZszOztbChQu1cOFCbd261VU1Sfr9adgFBQWKi4sz2vz9/dW2bVtlZWVJkrKyshQQEGCEIUmKi4uTh4eHtmzZYozp2LGjPD09jTEJCQnKzc3V8ePHL/rZ06ZNk7+/v7GFhYW59NwAAEDV4tQMUVFRkfr27av169crICBAknTixAl17txZS5YsUb169a65sIKCAklScHCwQ3twcLDRV1BQoPr16zv0V69eXUFBQQ5jIiIiyh3jQl9gYGC5z05NTVVKSoqxb7PZCEUAANzAnJohGj58uH777Tft2rVLx44d07Fjx7Rz507ZbLYb4stcvby85Ofn57ABAIAbl1OBaPXq1Zo7d64iIyONtqioKM2ZM0efffaZSwqzWq2SpMLCQof2wsJCo89qtaqoqMih//z58zp27JjDmIsd44+fAQAAzM2pQFRWVqYaNWqUa69Ro4bKysquuShJioiIkNVqVWZmptFms9m0ZcsWxcbGSpJiY2N14sQJZWdnG2PWrVunsrIy4y642NhYbdy4UefOnTPGZGRk6Pbbb7/o5TIAAGA+TgWie+65RyNHjtThw4eNtkOHDmn06NHq0qXLFR/n5MmTysnJUU5OjqTfF1Ln5OQoPz9fFotFo0aN0tSpU7VixQrt2LFDAwcOVGhoqPr06SNJioyMVNeuXTVkyBB98803+vrrr5WcnKy+ffsqNDRUktS/f395enpq8ODB2rVrl5YuXapXXnnFYY0QAAAwN6cWVb/22mvq3bu3GjZsaCw2PnjwoKKjo7Vw4cIrPs53332nzp07G/sXQsqgQYOUnp6usWPH6tSpU3riiSd04sQJ3XXXXVq9erVq1qxpvGfRokVKTk5Wly5d5OHhocTERM2ePdvo9/f315o1a5SUlKRWrVqpbt26SktLu+Qt9wAAwHwsdrvd7swb7Xa71q5dq71790r6fbbmj7fI30hsNpv8/f1VXFxcoQusWz39boUdG7ieZb840N0lXLP8yc3cXQJQJd2ctqPCjn01/35f1SWzdevWKSoqSjabTRaLRffee6+GDx+u4cOHq02bNmratKm+/PLLayoeAACgsl1VIJo1a5aGDBly0ZTl7++v//7v/9aMGTNcVhwAAEBluKpAtG3bNnXt2vWS/fHx8Q53fAEAAFwPrioQFRYWXvR2+wuqV6+uo0ePXnNRAAAAlemqAtFNN92knTt3XrJ/+/btCgkJueaiAAAAKtNVBaLu3bvrueee05kzZ8r1nT59WhMmTFDPnj1dVhwAAEBluKrnEI0fP14ffvihbrvtNiUnJ+v222+XJO3du1dz5sxRaWmpnn322QopFAAAoKJcVSAKDg7Wpk2bNGzYMKWmpurCI4wsFosSEhI0Z86cct9ODwAAUNVd9ZOqw8PD9emnn+r48ePat2+f7Ha7br31Vr4XDAAAXLec+uoOSQoMDFSbNm1cWQsAAIBbOPXlrgAAADcSAhEAADA9AhEAADA9AhEAADA9AhEAADA9AhEAADA9AhEAADA9AhEAADA9AhEAADA9AhEAADA9AhEAADA9AhEAADA9AhEAADA9AhEAADA9AhEAADA9AhEAADA9AhEAADA9AhEAADA9AhEAADA9AhEAADA9AhEAADA9AhEAADA9AhEAADA9AhEAADA9AhEAADA9AhEAADA9AhEAADA9AhEAADA9AhEAADA9AhEAADA9AhEAADA9AhEAADA9AhEAADA9AhEAADA9AhEAADA9AhEAADA9AhEAADA9AhEAADA9AhEAADA9AhEAADA9AhEAADA9AhEAADA9AhEAADA9AhEAADA9AhEAADC9Kh2IJk6cKIvF4rA1adLE6D9z5oySkpJUp04d+fj4KDExUYWFhQ7HyM/PV48ePVSrVi3Vr19fTz/9tM6fP1/ZpwIAAKqw6u4u4M80bdpUa9euNfarV///JY8ePVqrVq3Se++9J39/fyUnJ+uBBx7Q119/LUkqLS1Vjx49ZLVatWnTJh05ckQDBw5UjRo19MILL1T6uQAAgKqpygei6tWry2q1lmsvLi7WW2+9pcWLF+uee+6RJL399tuKjIzU5s2b1a5dO61Zs0a7d+/W2rVrFRwcrBYtWmjKlCkaN26cJk6cKE9Pz4t+ZklJiUpKSox9m81WMScHAACqhCp9yUySfvjhB4WGhqpRo0YaMGCA8vPzJUnZ2dk6d+6c4uLijLFNmjTRzTffrKysLElSVlaWmjVrpuDgYGNMQkKCbDabdu3adcnPnDZtmvz9/Y0tLCysgs4OAABUBVU6ELVt21bp6elavXq1Xn/9deXl5alDhw767bffVFBQIE9PTwUEBDi8Jzg4WAUFBZKkgoIChzB0of9C36WkpqaquLjY2A4ePOjaEwMAAFVKlb5k1q1bN+N18+bN1bZtW4WHh2vZsmXy9vausM/18vKSl5dXhR0fAABULVV6hug/BQQE6LbbbtO+fftktVp19uxZnThxwmFMYWGhsebIarWWu+vswv7F1iUBAABzuq4C0cmTJ7V//36FhISoVatWqlGjhjIzM43+3Nxc5efnKzY2VpIUGxurHTt2qKioyBiTkZEhPz8/RUVFVXr9AACgaqrSl8zGjBmjXr16KTw8XIcPH9aECRNUrVo19evXT/7+/ho8eLBSUlIUFBQkPz8/DR8+XLGxsWrXrp0kKT4+XlFRUXrkkUc0ffp0FRQUaPz48UpKSuKSGAAAMFTpQPTzzz+rX79++vXXX1WvXj3ddddd2rx5s+rVqydJmjlzpjw8PJSYmKiSkhIlJCRo7ty5xvurVaumlStXatiwYYqNjVXt2rU1aNAgTZ482V2nBAAAqqAqHYiWLFly2f6aNWtqzpw5mjNnziXHhIeH69NPP3V1aQAA4AZyXa0hAgAAqAgEIgAAYHoEIgAAYHoEIgAAYHoEIgAAYHoEIgAAYHoEIgAAYHoEIgAAYHoEIgAAYHoEIgAAYHoEIgAAYHoEIgAAYHoEIgAAYHoEIgAAYHoEIgAAYHoEIgAAYHoEIgAAYHoEIgAAYHoEIgAAYHoEIgAAYHoEIgAAYHoEIgAAYHoEIgAAYHoEIgAAYHoEIgAAYHoEIgAAYHoEIgAAYHoEIgAAYHoEIgAAYHoEIgAAYHoEIgAAYHoEIgAAYHoEIgAAYHoEIgAAYHoEIgAAYHoEIgAAYHoEIgAAYHoEIgAAYHoEIgAAYHoEIgAAYHoEIgAAYHoEIgAAYHoEIgAAYHoEIgAAYHoEIgAAYHoEIgAAYHoEIgAAYHoEIgAAYHoEIgAAYHoEIgAAYHoEIgAAYHoEIgAAYHoEIgAAYHoEIgAAYHoEIgAAYHqmCkRz5sxRw4YNVbNmTbVt21bffPONu0sCAABVgGkC0dKlS5WSkqIJEybo+++/V0xMjBISElRUVOTu0gAAgJuZJhDNmDFDQ4YM0WOPPaaoqCjNmzdPtWrV0oIFC9xdGgAAcLPq7i6gMpw9e1bZ2dlKTU012jw8PBQXF6esrKxy40tKSlRSUmLsFxcXS5JsNluF1llacrpCjw9cryr6d68y/Ham1N0lAFVSRf5+Xzi23W7/07GmCES//PKLSktLFRwc7NAeHBysvXv3lhs/bdo0TZo0qVx7WFhYhdUI4NL8Xx3q7hIAVJRp/hX+Eb/99pv8/S//OaYIRFcrNTVVKSkpxn5ZWZmOHTumOnXqyGKxuLEyVAabzaawsDAdPHhQfn5+7i4HgAvx+20udrtdv/32m0JDQ/90rCkCUd26dVWtWjUVFhY6tBcWFspqtZYb7+XlJS8vL4e2gICAiiwRVZCfnx9/YQI3KH6/zePPZoYuMMWiak9PT7Vq1UqZmZlGW1lZmTIzMxUbG+vGygAAQFVgihkiSUpJSdGgQYPUunVr3XnnnZo1a5ZOnTqlxx57zN2lAQAANzNNIHrooYd09OhRpaWlqaCgQC1atNDq1avLLbQGvLy8NGHChHKXTQFc//j9xqVY7FdyLxoAAMANzBRriAAAAC6HQAQAAEyPQAQAAEyPQAQAAEyPQAT8hzlz5qhhw4aqWbOm2rZtq2+++cbdJQFwgY0bN6pXr14KDQ2VxWLRRx995O6SUIUQiIA/WLp0qVJSUjRhwgR9//33iomJUUJCgoqKitxdGoBrdOrUKcXExGjOnDnuLgVVELfdA3/Qtm1btWnTRq+99pqk359oHhYWpuHDh+uZZ55xc3UAXMVisWj58uXq06ePu0tBFcEMEfBvZ8+eVXZ2tuLi4ow2Dw8PxcXFKSsry42VAQAqGoEI+LdffvlFpaWl5Z5eHhwcrIKCAjdVBQCoDAQiAABgegQi4N/q1q2ratWqqbCw0KG9sLBQVqvVTVUBACoDgQj4N09PT7Vq1UqZmZlGW1lZmTIzMxUbG+vGygAAFc0033YPXImUlBQNGjRIrVu31p133qlZs2bp1KlTeuyxx9xdGoBrdPLkSe3bt8/Yz8vLU05OjoKCgnTzzTe7sTJUBdx2D/yH1157TS+++KIKCgrUokULzZ49W23btnV3WQCu0fr169W5c+dy7YMGDVJ6enrlF4QqhUAEAABMjzVEAADA9AhEAADA9AhEAADA9AhEAADA9AhEAADA9AhEAADA9AhEAADA9AhEAADA9AhEAADA9AhEACrUo48+qj59+ri7jEt64403FBMTIx8fHwUEBKhly5aaNm2a0e9s/RMnTlSLFi1cVyiACsWXuwIwrQULFmjUqFGaPXu27r77bpWUlGj79u3auXOnu0sDUMmYIQLgNhs2bNCdd94pLy8vhYSE6JlnntH58+eN/tWrV+uuu+5SQECA6tSpo549e2r//v1G/48//iiLxaIPP/xQnTt3Vq1atRQTE6OsrKwr+vwVK1bov/7rvzR48GA1btxYTZs2Vb9+/fT8889L+n2W55133tHHH38si8Uii8Wi9evXS5LGjRun2267TbVq1VKjRo303HPP6dy5c5Kk9PR0TZo0Sdu2bTPel56ebtSbk5Nj1HDixAmH4x4/flwDBgxQvXr15O3trVtvvVVvv/32NfyUAVwJZogAuMWhQ4fUvXt3Pfroo3r33Xe1d+9eDRkyRDVr1tTEiRMlSadOnVJKSoqaN2+ukydPKi0tTffff79ycnLk4fH//z/37LPP6qWXXtKtt96qZ599Vv369dO+fftUvfrl/4qzWq3asGGDfvrpJ4WHh5frHzNmjPbs2SObzWaEkqCgIEmSr6+v0tPTFRoaqh07dmjIkCHy9fXV2LFj9dBDD2nnzp1avXq11q5dK0ny9/dXYWHhn/5cnnvuOe3evVufffaZ6tatq3379un06dNX9DMF4DwCEQC3mDt3rsLCwvTaa6/JYrGoSZMmOnz4sMaNG6e0tDR5eHgoMTHR4T0LFixQvXr1tHv3bkVHRxvtY8aMUY8ePSRJkyZNUtOmTbVv3z41adLksjVMmDBBDzzwgBo2bKjbbrtNsbGx6t69u/7617/Kw8NDPj4+8vb2VklJiaxWq8N7x48fb7xu2LChxowZoyVLlmjs2LHy9vaWj4+PqlevXu59fyY/P18tW7ZU69atjWMDqHhcMgPgFnv27FFsbKwsFovR1r59e508eVI///yzJOmHH35Qv3791KhRI/n5+RnhID8/3+FYzZs3N16HhIRIkoqKiv60hpCQEGVlZWnHjh0aOXKkzp8/r0GDBqlr164qKyu77HuXLl2q9u3by2q1ysfHR+PHjy9XlzOGDRumJUuWqEWLFho7dqw2bdp0zccE8OcIRACqrF69eunYsWN64403tGXLFm3ZskWSdPbsWYdxNWrUMF5fCFh/Fmj+KDo6Wk8++aQWLlyojIwMZWRkaMOGDZccn5WVpQEDBqh79+5auXKltm7dqmeffbZcXf/pwmU+u91utF1Yd3RBt27d9NNPP2n06NE6fPiwunTpojFjxlzxuQBwDoEIgFtERkYqKyvLIRx8/fXX8vX1VYMGDfTrr78qNzdX48ePV5cuXRQZGanjx49XeF1RUVGSfl+/JEmenp4qLS11GLNp0yaFh4fr2WefVevWrXXrrbfqp59+chhzsffVq1dPknTkyBGj7Y8LrP84btCgQVq4cKFmzZql+fPnX/N5Abg81hABqHDFxcXl/uF/4oknNGvWLA0fPlzJycnKzc3VhAkTlJKSIg8PDwUGBqpOnTqaP3++QkJClJ+fr2eeecaldQ0bNkyhoaG655571KBBAx05ckRTp05VvXr1FBsbK+n3NTyff/65cnNzVadOHfn7++vWW29Vfn6+lixZojZt2mjVqlVavny5w7EbNmyovLw85eTkqEGDBvL19ZW3t7fatWun//mf/1FERISKiooc1iJJUlpamlq1aqWmTZuqpKREK1euVGRkpEvPG8BF2AGgAg0aNMguqdw2ePBg+/r16+1t2rSxe3p62q1Wq33cuHH2c+fOGe/NyMiwR0ZG2r28vOzNmze3r1+/3i7Jvnz5crvdbrfn5eXZJdm3bt1qvOf48eN2SfYvvvjiT2t7//337d27d7eHhITYPT097aGhofbExET79u3bjTFFRUX2e++91+7j4+Nw3Kefftpep04du4+Pj/2hhx6yz5w50+7v72+878yZM/bExER7QECAXZL97bffttvtdvvu3bvtsbGxdm9vb3uLFi3sa9ascTjulClT7JGRkXZvb297UFCQ/b777rMfOHDAmR89gKtgsdv/MF8NAABgQqwhAgAApkcgAnDD6tatm3x8fC66vfDCC+4uD0AVwiUzADesQ4cOXfIpz0FBQcZTpwGAQAQAAEyPS2YAAMD0CEQAAMD0CEQAAMD0CEQAAMD0CEQAAMD0CEQAAMD0CEQAAMD0/h/Nga28IJWycwAAAABJRU5ErkJggg==",
      "text/plain": [
       "<Figure size 640x480 with 1 Axes>"
      ]
     },
     "metadata": {},
     "output_type": "display_data"
    }
   ],
   "source": [
    "sns.barplot(data=df.sort_values(by='Loan_ID', ascending=True),x='Loan_Status',y='CoapplicantIncome')"
   ]
  },
  {
   "cell_type": "code",
   "execution_count": 56,
   "metadata": {},
   "outputs": [
    {
     "data": {
      "text/plain": [
       "<AxesSubplot:xlabel='Property_Area', ylabel='Credit_History'>"
      ]
     },
     "execution_count": 56,
     "metadata": {},
     "output_type": "execute_result"
    },
    {
     "data": {
      "image/png": "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",
      "text/plain": [
       "<Figure size 640x480 with 1 Axes>"
      ]
     },
     "metadata": {},
     "output_type": "display_data"
    }
   ],
   "source": [
    "sns.barplot(data=df.sort_values(by='Loan_ID', ascending=True),x='Property_Area',y='Credit_History')"
   ]
  },
  {
   "cell_type": "code",
   "execution_count": 38,
   "metadata": {},
   "outputs": [
    {
     "data": {
      "text/plain": [
       "<AxesSubplot:xlabel='Loan_Status', ylabel='Dependents'>"
      ]
     },
     "execution_count": 38,
     "metadata": {},
     "output_type": "execute_result"
    },
    {
     "data": {
      "image/png": "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",
      "text/plain": [
       "<Figure size 640x480 with 1 Axes>"
      ]
     },
     "metadata": {},
     "output_type": "display_data"
    }
   ],
   "source": [
    "\n",
    "sns.barplot(data=df.sort_values(by='Loan_ID', ascending=True),x='Loan_Status',y='Dependents')"
   ]
  },
  {
   "cell_type": "code",
   "execution_count": 6,
   "metadata": {},
   "outputs": [
    {
     "data": {
      "image/png": "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",
      "text/plain": [
       "<Figure size 640x480 with 1 Axes>"
      ]
     },
     "metadata": {},
     "output_type": "display_data"
    }
   ],
   "source": [
    "sns.barplot(data=df.sort_values(by='Loan_ID', ascending=True),x='Education',y='ApplicantIncome');"
   ]
  },
  {
   "cell_type": "code",
   "execution_count": 31,
   "metadata": {},
   "outputs": [
    {
     "data": {
      "image/png": "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",
      "text/plain": [
       "<Figure size 640x480 with 1 Axes>"
      ]
     },
     "metadata": {},
     "output_type": "display_data"
    }
   ],
   "source": [
    "sns.barplot(data=df.sort_values(by='Loan_ID', ascending=True),x='Loan_Status',y='ApplicantIncome');"
   ]
  },
  {
   "cell_type": "code",
   "execution_count": 32,
   "metadata": {},
   "outputs": [
    {
     "data": {
      "image/png": "iVBORw0KGgoAAAANSUhEUgAAAkQAAAGxCAYAAACDV6ltAAAAOXRFWHRTb2Z0d2FyZQBNYXRwbG90bGliIHZlcnNpb24zLjcuNSwgaHR0cHM6Ly9tYXRwbG90bGliLm9yZy/xnp5ZAAAACXBIWXMAAA9hAAAPYQGoP6dpAAAy60lEQVR4nO3de1RV9b7+8WcJAiotUFOQRDTvGHirZGVZKsk2vFum29S8dDGsjeblcI63zPJSZqaWHk2xszNTKypJzU2KpehWjLwc8pTHNppySTcgpKCwfn90mD/XxsylLBY6368x5hjO7/ez5vpMx1j6jHm12O12uwAAAEysmrsbAAAAcDcCEQAAMD0CEQAAMD0CEQAAMD0CEQAAMD0CEQAAMD0CEQAAMD0CEQAAMD1PdzdwMygtLdWpU6d02223yWKxuLsdAABwDex2u86dO6egoCBVq3b1Y0AEomtw6tQpBQcHu7sNAABwHU6cOKGGDRtetYZAdA1uu+02Sb/9hVqtVjd3AwAArkV+fr6Cg4ON/8evhkB0DcpOk1mtVgIRAAA3mWu53IWLqgEAgOkRiAAAgOkRiAAAgOkRiAAAgOkRiAAAgOkRiAAAgOkRiAAAgOkRiAAAgOkRiAAAgOkRiAAAgOkRiAAAgOkRiAAAgOkRiAAAgOnxtnsAgCnY7XYVFhYa67Vq1bqmt6DDHAhEAABTKCwsVN++fY31Tz/9VL6+vm7sCFUJp8wAAIDpEYgAAIDpEYgAAIDpEYgAAIDpEYgAAIDpEYgAAIDpEYgAAIDpEYgAAIDpEYgAAIDpEYgAAIDpEYgAAIDpEYgAAIDpEYgAAIDpEYgAAIDpEYgAAIDpEYgAAIDpEYgAAIDpEYgAAIDpEYgAAIDpEYgAAIDpEYgAAIDpEYgAAIDpEYgAAIDpEYgAAIDpEYgAAIDpEYgAAIDpEYgAAIDpEYgAAIDpEYgAAIDpEYgAAIDpEYgAAIDpEYgAAIDpEYgAAIDpEYgAAIDpEYgAAIDpEYgAAIDpEYgAAIDpEYgAAIDpuTUQzZw5UxaLxWFp1aqVMX/hwgXFxMSobt268vX11cCBA5WVleWwjYyMDEVHR6tmzZqqX7++Jk2apEuXLjnU7NixQx06dJC3t7eaNWum+Pj4ytg9AABwk3D7EaI2bdro9OnTxvLNN98Yc+PHj9fnn3+uDRs2KDk5WadOndKAAQOM+ZKSEkVHR6u4uFi7d+/WmjVrFB8fr+nTpxs1x48fV3R0tLp27aq0tDTFxsZqzJgx2rp1a6XuJwAAqLosdrvd7q4vnzlzphISEpSWllZuLi8vT/Xq1dPatWv16KOPSpK+//57tW7dWikpKYqIiNDmzZvVq1cvnTp1SgEBAZKkZcuWacqUKcrJyZGXl5emTJmixMREHT582Nj24MGDlZubqy1btlxTn/n5+fLz81NeXp6sVuuN7zgA0+k46T13t2B6lkvF8jv4gbGeFz5Edk8vN3YESUp9bbjLtu3M/99uP0L0ww8/KCgoSHfeeaeGDh2qjIwMSVJqaqouXryoyMhIo7ZVq1Zq1KiRUlJSJEkpKSkKCwszwpAkRUVFKT8/X0eOHDFqLt9GWU3ZNq6kqKhI+fn5DgsAALh1uTUQderUSfHx8dqyZYveeecdHT9+XA888IDOnTunzMxMeXl5yd/f3+EzAQEByszMlCRlZmY6hKGy+bK5q9Xk5+fr/PnzV+xrzpw58vPzM5bg4OCK2F0AAFBFebrzy3v27Gn8OTw8XJ06dVJISIjWr1+vGjVquK2vuLg4TZgwwVjPz88nFAEAcAtz+ymzy/n7+6tFixb68ccfFRgYqOLiYuXm5jrUZGVlKTAwUJIUGBhY7q6zsvU/qrFarb8bury9vWW1Wh0WAABw66pSgaigoEDHjh1TgwYN1LFjR1WvXl1JSUnG/NGjR5WRkSGbzSZJstlsOnTokLKzs42abdu2yWq1KjQ01Ki5fBtlNWXbAAAAcGsgmjhxopKTk/XTTz9p9+7d6t+/vzw8PDRkyBD5+flp9OjRmjBhgrZv367U1FSNHDlSNptNERERkqQePXooNDRUw4YN03fffaetW7dq6tSpiomJkbe3tyTp2Wef1f/+7/9q8uTJ+v777/X2229r/fr1Gj9+vDt3HQAAVCFuvYbo5MmTGjJkiM6cOaN69erp/vvv1549e1SvXj1J0sKFC1WtWjUNHDhQRUVFioqK0ttvv2183sPDQ5s2bdLYsWNls9lUq1YtjRgxQrNmzTJqmjRposTERI0fP16LFi1Sw4YNtXLlSkVFRVX6/gIAgKrJrc8hulnwHCIAN4rnELkfzyGqmngOEQAAQBVBIAIAAKZHIAIAAKZHIAIAAKZHIAIAAKZHIAIAAKZHIAIAAKZHIAIAAKZHIAIAAKZHIAIAAKZHIAIAAKZHIAIAAKZHIAIAAKZHIAIAAKZHIAIAAKZHIAIAAKZHIAIAAKZHIAIAAKZHIAIAAKZHIAIAAKZHIAIAAKZHIAIAAKZHIAIAAKZHIAIAAKZHIAIAAKZHIAIAAKZHIAIAAKZHIAIAAKbn6e4GAACoDHaP6soLH+KwDpQhEAEAzMFikd3Ty91doIrilBkAADA9AhEAADA9AhEAADA9AhEAADA9AhEAADA9AhEAADA9AhEAADA9AhEAADA9AhEAADA9AhEAADA9Xt0BXMZut6uwsNBYr1WrliwWixs7AgBUBgIRcJnCwkL17dvXWP/000/l6+vrxo4AAJWBU2YAAMD0CEQAAMD0CEQAAMD0CEQAAMD0CEQAAMD0CEQAAMD0CEQAAMD0CEQAAMD0qkwgmjt3riwWi2JjY42xCxcuKCYmRnXr1pWvr68GDhyorKwsh89lZGQoOjpaNWvWVP369TVp0iRdunTJoWbHjh3q0KGDvL291axZM8XHx1fCHgEAgJtFlQhE+/bt0/LlyxUeHu4wPn78eH3++efasGGDkpOTderUKQ0YMMCYLykpUXR0tIqLi7V7926tWbNG8fHxmj59ulFz/PhxRUdHq2vXrkpLS1NsbKzGjBmjrVu3Vtr+AQCAqs3tgaigoEBDhw7VihUrVLt2bWM8Ly9P7777rt544w1169ZNHTt21OrVq7V7927t2bNHkvTll1/qv//7v/XXv/5V7dq1U8+ePfXyyy9r6dKlKi4uliQtW7ZMTZo00YIFC9S6dWuNGzdOjz76qBYuXOiW/QUAAFWP299lFhMTo+joaEVGRmr27NnGeGpqqi5evKjIyEhjrFWrVmrUqJFSUlIUERGhlJQUhYWFKSAgwKiJiorS2LFjdeTIEbVv314pKSkO2yirufzUXFXRcdJ77m7B9CyXiuV32fpD09bJ7unltn7wm9TXhru7BQC3OLcGonXr1unAgQPat29fubnMzEx5eXnJ39/fYTwgIECZmZlGzeVhqGy+bO5qNfn5+Tp//rxq1KhR7ruLiopUVFRkrOfn5zu/cwAA4KbhtlNmJ06c0F/+8he9//778vHxcVcbVzRnzhz5+fkZS3BwsLtbAgAALuS2QJSamqrs7Gx16NBBnp6e8vT0VHJyst566y15enoqICBAxcXFys3NdfhcVlaWAgMDJUmBgYHl7jorW/+jGqvVesWjQ5IUFxenvLw8Yzlx4kRF7DIAAKii3BaIunfvrkOHDiktLc1Y7r77bg0dOtT4c/Xq1ZWUlGR85ujRo8rIyJDNZpMk2Ww2HTp0SNnZ2UbNtm3bZLVaFRoaatRcvo2ymrJtXIm3t7esVqvDAgAAbl1uu4botttu01133eUwVqtWLdWtW9cYHz16tCZMmKA6derIarXq+eefl81mU0REhCSpR48eCg0N1bBhwzR//nxlZmZq6tSpiomJkbe3tyTp2Wef1ZIlSzR58mSNGjVKX331ldavX6/ExMTK3WEAAFBluf0us6tZuHChqlWrpoEDB6qoqEhRUVF6++23jXkPDw9t2rRJY8eOlc1mU61atTRixAjNmjXLqGnSpIkSExM1fvx4LVq0SA0bNtTKlSsVFRXljl0CAABVUJUKRDt27HBY9/Hx0dKlS7V06dLf/UxISIi++OKLq273oYce0rffflsRLQIAgFuQ2x/MCAAA4G7XFYiOHTumqVOnasiQIcYFzZs3b9aRI0cqtDkAAIDK4HQgSk5OVlhYmPbu3auPP/5YBQUFkqTvvvtOM2bMqPAGAQAAXM3pQPRv//Zvmj17trZt2yYvr///SoNu3boZ7xgDAAC4mTgdiA4dOqT+/fuXG69fv75++eWXCmkKAACgMjl9l5m/v79Onz6tJk2aOIx/++23uuOOOyqsMcAd7B7VlRc+xGEdAHDrc/oI0eDBgzVlyhRlZmbKYrGotLRUu3bt0sSJEzV8OG+kxk3OYpHd08tYZLG4uyMAQCVwOhC9+uqratWqlYKDg1VQUKDQ0FB16dJF9913n6ZOneqKHgEAAFzK6VNmXl5eWrFihaZNm6bDhw+roKBA7du3V/PmzV3RHwAAgMtd95OqGzVqpEaNGlVkLwAAAG7hdCCy2+3auHGjtm/fruzsbJWWljrMf/zxxxXWHAAAQGVwOhDFxsZq+fLl6tq1qwICAmTholMAAHCTczoQ/dd//Zc+/vhjPfLII67oBwAAoNI5fZeZn5+f7rzzTlf0AgAA4BZOB6KZM2fqpZde0vnz513RDwAAQKVz+pTZoEGD9MEHH6h+/fpq3Lixqld3fJLvgQMHKqw5AACAyuB0IBoxYoRSU1P1xBNPcFE1AAC4JTgdiBITE7V161bdf//9rugHAACg0jl9DVFwcLCsVqsregEAAHALpwPRggULNHnyZP30008uaAcAAKDyOX3K7IknntCvv/6qpk2bqmbNmuUuqj579myFNQcAAFAZnA5Eb775pgvaAAAAcJ/russMAADgVnJdb7svKSlRQkKC0tPTJUlt2rRRnz595OHhUaHNAQAAVAanA9GPP/6oRx55RD///LNatmwpSZozZ46Cg4OVmJiopk2bVniTAAAAruT0XWYvvPCCmjZtqhMnTujAgQM6cOCAMjIy1KRJE73wwguu6BEAAMClnD5ClJycrD179qhOnTrGWN26dTV37lx17ty5QpsDAACoDE4fIfL29ta5c+fKjRcUFMjLy6tCmgIAAKhMTgeiXr166emnn9bevXtlt9tlt9u1Z88ePfvss+rTp48regQAAHAppwPRW2+9paZNm8pms8nHx0c+Pj7q3LmzmjVrpkWLFrmiRwAAAJdy+hoif39/ffrpp/rxxx+N2+5bt26tZs2aVXhzAAAAleG6nkMkSc2aNSMEAQCAW4LTp8wGDhyoefPmlRufP3++HnvssQppCgAAoDI5HYh27typRx55pNx4z549tXPnzgppCgAAoDI5HYh+7/b66tWrKz8/v0KaAgAAqExOB6KwsDB9+OGH5cbXrVun0NDQCmkKAACgMjl9UfW0adM0YMAAHTt2TN26dZMkJSUl6YMPPtCGDRsqvEEAAABXczoQ9e7dWwkJCXr11Ve1ceNG1ahRQ+Hh4frb3/6mBx980BU9AgAAuNR13XYfHR2t6Ojoiu4FAADALa77OUTFxcXKzs5WaWmpw3ijRo1uuCkAAIDK5HQg+uGHHzRq1Cjt3r3bYdxut8tisaikpKTCmgMAAKgMTgeiJ598Up6entq0aZMaNGggi8Xiir4AAAAqjdOBKC0tTampqWrVqpUr+gEAAKh0Tj+HKDQ0VL/88osregEAAHALpwPRvHnzNHnyZO3YsUNnzpxRfn6+wwIAAHCzcfqUWWRkpCSpe/fuDuNcVA0AAG5WTgei7du3u6IPAAAAt3E6EPE0agAAcKu55kB08ODBa6oLDw+/7mYAAADc4ZoDUbt27WSxWGS323+3hmuIAADAzeiaA9Hx48dd2QcAAIDbXPNt9yEhIQoJCZHFYlGjRo2M9csXZ59a/c477yg8PFxWq1VWq1U2m02bN2825i9cuKCYmBjVrVtXvr6+GjhwoLKyshy2kZGRoejoaNWsWVP169fXpEmTdOnSJYeaHTt2qEOHDvL29lazZs0UHx/vVJ8AAODW5vRziJo0aaKcnJxy42fOnFGTJk2c2lbDhg01d+5cpaamav/+/erWrZv69u2rI0eOSJLGjx+vzz//XBs2bFBycrJOnTqlAQMGGJ8vKSlRdHS0iouLtXv3bq1Zs0bx8fGaPn26UXP8+HFFR0era9euSktLU2xsrMaMGaOtW7c6u+sAAOAWZbFf7aKgK6hWrZqysrJUr149h/F//OMfCg0NVWFh4Q01VKdOHb322mt69NFHVa9ePa1du1aPPvqoJOn7779X69atlZKSooiICG3evFm9evXSqVOnFBAQIElatmyZpkyZopycHHl5eWnKlClKTEzU4cOHje8YPHiwcnNztWXLlmvqKT8/X35+fsrLy5PVar2h/buajpPec9m2gZtZ6mvD3d3CDeP3DVyZK3/fzvz/fc3XEE2YMEHSbxdOT5s2TTVr1jTmSkpKtHfvXrVr1+76Ov6/bWzYsEGFhYWy2WxKTU3VxYsXjQdBSlKrVq3UqFEjIxClpKQoLCzMCEOSFBUVpbFjx+rIkSNq3769UlJSHLZRVhMbG3vdvQIAgFvLNQeib7/9VtJvT6Q+dOiQvLy8jDkvLy+1bdtWEydOdLqBQ4cOyWaz6cKFC/L19dUnn3yi0NBQpaWlycvLS/7+/g71AQEByszMlCRlZmY6hKGy+bK5q9Xk5+fr/PnzqlGjRrmeioqKVFRUZKzzShIAAG5t1xyIyp5QPXLkSC1atKjCTh21bNlSaWlpysvL08aNGzVixAglJydXyLav15w5c/TSSy+5tQcAAFB5nL6oevXq1RV6HY2Xl5eaNWumjh07as6cOWrbtq0WLVqkwMBAFRcXKzc316E+KytLgYGBkqTAwMByd52Vrf9RjdVqveLRIUmKi4tTXl6esZw4caIidhUAAFRRTgeiwsJCTZs2Tffdd5+aNWumO++802G5UaWlpSoqKlLHjh1VvXp1JSUlGXNHjx5VRkaGbDabJMlms+nQoUPKzs42arZt2yar1arQ0FCj5vJtlNWUbeNKvL29jUcBlC0AAODW5fS7zMaMGaPk5GQNGzZMDRo0cPrZQ5eLi4tTz5491ahRI507d05r167Vjh07tHXrVvn5+Wn06NGaMGGC6tSpI6vVqueff142m00RERGSpB49eig0NFTDhg3T/PnzlZmZqalTpyomJkbe3t6SpGeffVZLlizR5MmTNWrUKH311Vdav369EhMTr7tvAABwa3E6EG3evFmJiYnq3LnzDX95dna2hg8frtOnT8vPz0/h4eHaunWrHn74YUnSwoULVa1aNQ0cOFBFRUWKiorS22+/bXzew8NDmzZt0tixY2Wz2VSrVi2NGDFCs2bNMmqaNGmixMREjR8/XosWLVLDhg21cuVKRUVF3XD/AADg1uB0IKpdu7bq1KlTIV/+7rvvXnXex8dHS5cu1dKlS3+3JiQkRF988cVVt/PQQw8Zd8kBAAD8K6evIXr55Zc1ffp0/frrr67oBwAAoNI5fYRowYIFOnbsmAICAtS4cWNVr17dYf7AgQMV1hwAAEBlcDoQ9evXzwVtAAAAuI/TgWjGjBmu6AMAAMBtnL6GCAAA4Fbj9BGikpISLVy4UOvXr1dGRoaKi4sd5s+ePVthzQEAAFQGp48QvfTSS3rjjTf0+OOPKy8vTxMmTNCAAQNUrVo1zZw50wUtAgAAuJbTgej999/XihUr9OKLL8rT01NDhgzRypUrNX36dO3Zs8cVPQIAALiU04EoMzNTYWFhkiRfX1/l5eVJknr16sXrMAAAwE3J6UDUsGFDnT59WpLUtGlTffnll5Kkffv2Ge8PAwAAuJk4HYj69+9vvD3++eef17Rp09S8eXMNHz5co0aNqvAGAQAAXM3pu8zmzp1r/Pnxxx9XSEiIdu/erebNm6t3794V2hwAAEBlcDoQ/auIiAhFRERURC8AAABu4fQpszlz5mjVqlXlxletWqV58+ZVSFMAAACVyelAtHz5crVq1arceJs2bbRs2bIKaQoAAKAyXddt9w0aNCg3Xq9ePePuMwAAgJuJ04EoODhYu3btKje+a9cuBQUFVUhTAAAAlcnpi6qfeuopxcbG6uLFi+rWrZskKSkpSZMnT9aLL75Y4Q0CAAC4mtOBaNKkSTpz5oyee+4548WuPj4+mjJliuLi4iq8QQAAAFdzOhBZLBbNmzdP06ZNU3p6umrUqKHmzZvzlGoAAHDTuu7nEPn6+uqee+6pyF4AAADc4poC0YABAxQfHy+r1aoBAwZctfbjjz+ukMYAAAAqyzUFIj8/P1ksFuPPAAAAt5JrCkSrV6++4p8BAABuBU4/hwgAAOBWc01HiNq3b2+cMvsjBw4cuKGGAAAAKts1BaJ+/fq5uA0AAAD3uaZANGPGDFf3AQAA4DbX/Ryi/fv3Kz09XZIUGhqqjh07VlhTAAAAlcnpQHTy5EkNGTJEu3btkr+/vyQpNzdX9913n9atW6eGDRtWdI8AAAAu5fRdZmPGjNHFixeVnp6us2fP6uzZs0pPT1dpaanGjBnjih4BAABcyukjRMnJydq9e7datmxpjLVs2VKLFy/WAw88UKHNAQAAVAanjxAFBwfr4sWL5cZLSkoUFBRUIU0BAABUJqcD0Wuvvabnn39e+/fvN8b279+vv/zlL3r99dcrtDkAAIDK4PQpsyeffFK//vqrOnXqJE/P3z5+6dIleXp6atSoURo1apRRe/bs2YrrFAAAwEWcDkRvvvmmC9oAAABwH6cD0YgRI1zRBwAAgNtc14MZS0pK9Mknnzg8mLFv377GKTQAAICbidMJ5siRI+rTp48yMzONW+/nzZunevXq6fPPP9ddd91V4U0CAAC40nU9mLFNmzY6efKkDhw4oAMHDujEiRMKDw/X008/7YoeAQAAXMrpI0RpaWnav3+/ateubYzVrl1br7zyiu65554KbQ4AAKAyOH2EqEWLFsrKyio3np2drWbNmlVIUwAAAJXJ6UA0Z84cvfDCC9q4caNOnjypkydPauPGjYqNjdW8efOUn59vLAAAADcDp0+Z9erVS5I0aNAgWSwWSZLdbpck9e7d21i3WCwqKSmpqD4BAABcxulAtH379t+dO3jwoMLDw2+oIQAAgMrmdCB68MEHHdbPnTunDz74QCtXrlRqaipHhQAAwE3H6WuIyuzcuVMjRoxQgwYN9Prrr6tbt27as2dPRfYGAABQKZw6QpSZman4+Hi9++67ys/P16BBg1RUVKSEhASFhoa6qkcAAACXuuYjRL1791bLli118OBBvfnmmzp16pQWL17syt4AAAAqxTUfIdq8ebNeeOEFjR07Vs2bN3dlTwAAAJXqmo8QffPNNzp37pw6duyoTp06acmSJfrll19c2RsAAECluOZAFBERoRUrVuj06dN65plntG7dOgUFBam0tFTbtm3TuXPnnP7yOXPm6J577tFtt92m+vXrq1+/fjp69KhDzYULFxQTE6O6devK19dXAwcOLPek7IyMDEVHR6tmzZqqX7++Jk2apEuXLjnU7NixQx06dJC3t7eaNWum+Ph4p/sFAAC3JqfvMqtVq5ZGjRqlb775RocOHdKLL76ouXPnqn79+urTp49T20pOTlZMTIz27Nmjbdu26eLFi+rRo4cKCwuNmvHjx+vzzz/Xhg0blJycrFOnTmnAgAHGfElJiaKjo1VcXKzdu3drzZo1io+P1/Tp042a48ePKzo6Wl27dlVaWppiY2M1ZswYbd261dndBwAAtyCLvewx0zegpKREn3/+uVatWqXPPvvsureTk5Oj+vXrKzk5WV26dFFeXp7q1auntWvX6tFHH5Ukff/992rdurVSUlIUERGhzZs3q1evXjp16pQCAgIkScuWLdOUKVOUk5MjLy8vTZkyRYmJiTp8+LDxXYMHD1Zubq62bNnyh33l5+fLz89PeXl5slqt171/f6TjpPdctm3gZpb62nB3t3DD+H0DV+bK37cz/39f93OILufh4aF+/frdUBiSpLy8PElSnTp1JEmpqam6ePGiIiMjjZpWrVqpUaNGSklJkSSlpKQoLCzMCEOSFBUVpfz8fB05csSouXwbZTVl2wAAAObm9JOqXaW0tFSxsbHq3Lmz7rrrLkm/PffIy8tL/v7+DrUBAQHKzMw0ai4PQ2XzZXNXq8nPz9f58+dVo0YNh7mioiIVFRUZ67yoFgCAW1uFHCGqCDExMTp8+LDWrVvn7lY0Z84c+fn5GUtwcLC7WwIAAC5UJQLRuHHjtGnTJm3fvl0NGzY0xgMDA1VcXKzc3FyH+qysLAUGBho1/3rXWdn6H9VYrdZyR4ckKS4uTnl5ecZy4sSJG95HAABQdbk1ENntdo0bN06ffPKJvvrqKzVp0sRhvmPHjqpevbqSkpKMsaNHjyojI0M2m02SZLPZdOjQIWVnZxs127Ztk9VqNV4nYrPZHLZRVlO2jX/l7e0tq9XqsAAAgFuXW68hiomJ0dq1a/Xpp5/qtttuM6758fPzU40aNeTn56fRo0drwoQJqlOnjqxWq55//nnZbDZFRERIknr06KHQ0FANGzZM8+fPV2ZmpqZOnaqYmBh5e3tLkp599lktWbJEkydP1qhRo/TVV19p/fr1SkxMdNu+AwCAqsOtR4jeeecd5eXl6aGHHlKDBg2M5cMPPzRqFi5cqF69emngwIHq0qWLAgMD9fHHHxvzHh4e2rRpkzw8PGSz2fTEE09o+PDhmjVrllHTpEkTJSYmatu2bWrbtq0WLFiglStXKioqqlL3FwAAVE1uPUJ0LY9A8vHx0dKlS7V06dLfrQkJCdEXX3xx1e089NBD+vbbb53uEQAA3PqqxEXVAAAA7kQgAgAApkcgAgAApkcgAgAApkcgAgAApkcgAgAApkcgAgAApkcgAgAApkcgAgAApkcgAgAApkcgAgAApkcgAgAApkcgAgAApkcgAgAApkcgAgAApkcgAgAApkcgAgAApkcgAgAApkcgAgAApkcgAgAApkcgAgAApkcgAgAApkcgAgAApkcgAgAApkcgAgAApkcgAgAApkcgAgAApkcgAgAApkcgAgAApkcgAgAApkcgAgAApkcgAgAApkcgAgAApkcgAgAApkcgAgAApkcgAgAApkcgAgAApkcgAgAApkcgAgAApkcgAgAApkcgAgAApkcgAgAApkcgAgAApkcgAgAApkcgAgAApkcgAgAApkcgAgAApkcgAgAApkcgAgAApkcgAgAApkcgAgAApufWQLRz50717t1bQUFBslgsSkhIcJi32+2aPn26GjRooBo1aigyMlI//PCDQ83Zs2c1dOhQWa1W+fv7a/To0SooKHCoOXjwoB544AH5+PgoODhY8+fPd/WuAQCAm4hbA1FhYaHatm2rpUuXXnF+/vz5euutt7Rs2TLt3btXtWrVUlRUlC5cuGDUDB06VEeOHNG2bdu0adMm7dy5U08//bQxn5+frx49eigkJESpqal67bXXNHPmTP3nf/6ny/cPAADcHDzd+eU9e/ZUz549rzhnt9v15ptvaurUqerbt68k6b333lNAQIASEhI0ePBgpaena8uWLdq3b5/uvvtuSdLixYv1yCOP6PXXX1dQUJDef/99FRcXa9WqVfLy8lKbNm2UlpamN954wyE4AQAA86qy1xAdP35cmZmZioyMNMb8/PzUqVMnpaSkSJJSUlLk7+9vhCFJioyMVLVq1bR3716jpkuXLvLy8jJqoqKidPToUf3zn/+spL0BAABVmVuPEF1NZmamJCkgIMBhPCAgwJjLzMxU/fr1HeY9PT1Vp04dh5omTZqU20bZXO3atct9d1FRkYqKioz1/Pz8G9wbAABQlVXZI0TuNGfOHPn5+RlLcHCwu1sCAAAuVGUDUWBgoCQpKyvLYTwrK8uYCwwMVHZ2tsP8pUuXdPbsWYeaK23j8u/4V3FxccrLyzOWEydO3PgOAQCAKqvKBqImTZooMDBQSUlJxlh+fr727t0rm80mSbLZbMrNzVVqaqpR89VXX6m0tFSdOnUyanbu3KmLFy8aNdu2bVPLli2veLpMkry9vWW1Wh0WAABw63JrICooKFBaWprS0tIk/XYhdVpamjIyMmSxWBQbG6vZs2frs88+06FDhzR8+HAFBQWpX79+kqTWrVvrT3/6k5566in9/e9/165duzRu3DgNHjxYQUFBkqQ///nP8vLy0ujRo3XkyBF9+OGHWrRokSZMmOCmvQYAAFWNWy+q3r9/v7p27Wqsl4WUESNGKD4+XpMnT1ZhYaGefvpp5ebm6v7779eWLVvk4+NjfOb999/XuHHj1L17d1WrVk0DBw7UW2+9Zcz7+fnpyy+/VExMjDp27Kjbb79d06dP55Z7AABgsNjtdru7m6jq8vPz5efnp7y8PJeePus46T2XbRu4maW+NtzdLdwwft/Albny9+3M/99V9hoiAACAykIgAgAApkcgAgAApkcgAgAApkcgAgAApkcgAgAApkcgAgAApkcgAgAApkcgAgAApkcgAgAApkcgAgAApkcgAgAApkcgAgAApkcgAgAApkcgAgAApkcgAgAApkcgAgAApkcgAgAApkcgAgAApkcgAgAApkcgAgAApkcgAgAApkcgAgAApkcgAgAApkcgAgAApkcgAgAApkcgAgAApkcgAgAApkcgAgAApkcgAgAApkcgAgAApkcgAgAApkcgAgAApkcgAgAApkcgAgAApkcgAgAApkcgAgAApkcgAgAApkcgAgAApkcgAgAApkcgAgAApkcgAgAApkcgAgAApkcgAgAApkcgAgAApkcgAgAApkcgAgAApkcgAgAApkcgAgAApkcgAgAApkcgAgAApmeqQLR06VI1btxYPj4+6tSpk/7+97+7uyUAAFAFmCYQffjhh5owYYJmzJihAwcOqG3btoqKilJ2dra7WwMAAG5mmkD0xhtv6KmnntLIkSMVGhqqZcuWqWbNmlq1apW7WwMAAG5mikBUXFys1NRURUZGGmPVqlVTZGSkUlJS3NgZAACoCjzd3UBl+OWXX1RSUqKAgACH8YCAAH3//ffl6ouKilRUVGSs5+XlSZLy8/Nd2mdJ0XmXbh+4Wbn6t1cZ+H0DV+bK33fZtu12+x/WmiIQOWvOnDl66aWXyo0HBwe7oRsAfoufdXcLAFykMn7f586dk5+f31VrTBGIbr/9dnl4eCgrK8thPCsrS4GBgeXq4+LiNGHCBGO9tLRUZ8+eVd26dWWxWFzeL9wrPz9fwcHBOnHihKxWq7vbAVCB+H2bi91u17lz5xQUFPSHtaYIRF5eXurYsaOSkpLUr18/Sb+FnKSkJI0bN65cvbe3t7y9vR3G/P39K6FTVCVWq5V/MIFbFL9v8/ijI0NlTBGIJGnChAkaMWKE7r77bt1777168803VVhYqJEjR7q7NQAA4GamCUSPP/64cnJyNH36dGVmZqpdu3basmVLuQutAQCA+ZgmEEnSuHHjrniKDLict7e3ZsyYUe60KYCbH79v/B6L/VruRQMAALiFmeLBjAAAAFdDIAIAAKZHIAIAAKZHIIIpPfnkk7JYLJo7d67DeEJCAg/fBG5CdrtdkZGRioqKKjf39ttvy9/fXydPnnRDZ7hZEIhgWj4+Ppo3b57++c9/ursVADfIYrFo9erV2rt3r5YvX26MHz9+XJMnT9bixYvVsGFDN3aIqo5ABNOKjIxUYGCg5syZ87s1H330kdq0aSNvb281btxYCxYsqMQOATgjODhYixYt0sSJE3X8+HHZ7XaNHj1aPXr0UPv27dWzZ0/5+voqICBAw4YN0y+//GJ8duPGjQoLC1ONGjVUt25dRUZGqrCw0I17g8pGIIJpeXh46NVXX9XixYuveCg9NTVVgwYN0uDBg3Xo0CHNnDlT06ZNU3x8fOU3C+CajBgxQt27d9eoUaO0ZMkSHT58WMuXL1e3bt3Uvn177d+/X1u2bFFWVpYGDRokSTp9+rSGDBmiUaNGKT09XTt27NCAAQOu6Q3puHXwHCKY0pNPPqnc3FwlJCTIZrMpNDRU7777rhISEtS/f3/Z7XYNHTpUOTk5+vLLL43PTZ48WYmJiTpy5IgbuwdwNdnZ2WrTpo3Onj2rjz76SIcPH9bXX3+trVu3GjUnT55UcHCwjh49qoKCAnXs2FE//fSTQkJC3Ng53IkjRDC9efPmac2aNUpPT3cYT09PV+fOnR3GOnfurB9++EElJSWV2SIAJ9SvX1/PPPOMWrdurX79+um7777T9u3b5evrayytWrWSJB07dkxt27ZV9+7dFRYWpscee0wrVqzg2kITIhDB9Lp06aKoqCjFxcW5uxUAFcTT01Oenr+9naqgoEC9e/dWWlqaw/LDDz+oS5cu8vDw0LZt27R582aFhoZq8eLFatmypY4fP+7mvUBlMtW7zIDfM3fuXLVr104tW7Y0xlq3bq1du3Y51O3atUstWrSQh4dHZbcI4Dp16NBBH330kRo3bmyEpH9lsVjUuXNnde7cWdOnT1dISIg++eQTTZgwoZK7hbtwhAiQFBYWpqFDh+qtt94yxl588UUlJSXp5Zdf1v/8z/9ozZo1WrJkiSZOnOjGTgE4KyYmRmfPntWQIUO0b98+HTt2TFu3btXIkSNVUlKivXv36tVXX9X+/fuVkZGhjz/+WDk5OWrdurW7W0clIhAB/2fWrFkqLS011jt06KD169dr3bp1uuuuuzR9+nTNmjVLTz75pPuaBOC0oKAg7dq1SyUlJerRo4fCwsIUGxsrf39/VatWTVarVTt37tQjjzyiFi1aaOrUqVqwYIF69uzp7tZRibjLDAAAmB5HiAAAgOkRiAAAgOkRiAAAgOkRiAAAgOkRiAAAgOkRiAAAgOkRiAAAgOkRiAAAgOkRiAC41cyZM9WuXbtyYwEBAbJYLEpISHBLX9fiSr27Q3x8vPz9/d3dBnBTIxABuCE5OTkaO3asGjVqJG9vbwUGBioqKqrci3GvVXp6ul566SUtX75cp0+f/sPXJ8ycOVMWi6Xc0qpVq+v6fgDmxNvuAdyQgQMHqri4WGvWrNGdd96prKwsJSUl6cyZM9e1vWPHjkmS+vbtK4vFck2fadOmjf72t785jP3eW80B4Eo4QgTguuXm5urrr7/WvHnz1LVrV4WEhOjee+9VXFyc+vTpY9SMGTNG9erVk9VqVbdu3fTdd99dcXszZ85U7969JUnVqlW75kDk6empwMBAh+X222835hs3bqzZs2dr+PDh8vX1VUhIiD777DPl5OSob9++8vX1VXh4uPbv3298puw0VEJCgpo3by4fHx9FRUXpxIkTv9tHaWmpZs2apYYNG8rb21vt2rXTli1bjPlu3bpp3LhxDp/JycmRl5eXkpKSJElFRUWaOHGi7rjjDtWqVUudOnXSjh07HD4THx+vRo0aqWbNmurfv/91h08A/x+BCMB18/X1la+vrxISElRUVHTFmscee0zZ2dnavHmzUlNT1aFDB3Xv3l1nz54tVztx4kStXr1aknT69GmdPn26wnpduHChOnfurG+//VbR0dEaNmyYhg8frieeeEIHDhxQ06ZNNXz4cF3+vutff/1Vr7zyit577z3t2rVLubm5Gjx48O9+x6JFi7RgwQK9/vrrOnjwoKKiotSnTx/98MMPkqQxY8Zo7dq1Dn9Xf/3rX3XHHXeoW7dukqRx48YpJSVF69at08GDB/XYY4/pT3/6k7GNvXv3avTo0Ro3bpzS0tLUtWtXzZ49u8L+ngDTsgPADdi4caO9du3adh8fH/t9991nj4uLs3/33Xd2u91u//rrr+1Wq9V+4cIFh880bdrUvnz5crvdbrfPmDHD3rZtW2Puk08+sTvzT9OMGTPs1apVs9eqVctheeaZZ4yakJAQ+xNPPGGsnz592i7JPm3aNGMsJSXFLsl++vRpu91ut69evdouyb5nzx6jJj093S7Jvnfv3iv2HhQUZH/llVcc+rvnnnvszz33nN1ut9vPnz9vr127tv3DDz805sPDw+0zZ8602+12+z/+8Q+7h4eH/eeff3bYRvfu3e1xcXF2u91uHzJkiP2RRx5xmH/88cftfn5+1/YXBuCKOMkO4IYMHDhQ0dHR+vrrr7Vnzx5t3rxZ8+fP18qVK1VYWKiCggLVrVvX4TPnz583rhWqCC1bttRnn33mMGa1Wh3Ww8PDjT8HBARIksLCwsqNZWdnKzAwUNJvp+Luueceo6ZVq1by9/dXenq67r33Xoft5+fn69SpU+rcubPDeOfOnY1ThD4+Pho2bJhWrVqlQYMG6cCBAzp8+LDR+6FDh1RSUqIWLVo4bKOoqMj4O0xPT1f//v0d5m02m8OpOQDOIxABuGE+Pj56+OGH9fDDD2vatGkaM2aMZsyYoeeee04NGjQodw2MpAq9TdzLy0vNmjW7ak316tWNP5ddm3SlsdLS0grr60rGjBmjdu3a6eTJk1q9erW6deumkJAQSVJBQYE8PDyUmpoqDw8Ph8/5+vq6tC/A7AhEACpcaGioEhIS1KFDB2VmZsrT01ONGzd2d1tOu3Tpkvbv328cDTp69Khyc3PVunXrcrVWq1VBQUHatWuXHnzwQWN8165dDkeTwsLCdPfdd2vFihVau3atlixZYsy1b99eJSUlys7O1gMPPHDFnlq3bq29e/c6jO3Zs+eG9hMAgQjADThz5owee+wxjRo1SuHh4brtttu0f/9+zZ8/X3379lVkZKRsNpv69eun+fPnq0WLFjp16pQSExPVv39/3X333RXSx6VLl5SZmekwZrFYjNNg16t69ep6/vnn9dZbb8nT01Pjxo1TREREudNlZSZNmqQZM2aoadOmateunVavXq20tDS9//77DnVjxozRuHHjVKtWLYfTXy1atNDQoUM1fPhwLViwQO3bt1dOTo6SkpIUHh6u6OhovfDCC+rcubNef/119e3bV1u3buV0GVABCEQArpuvr686deqkhQsX6tixY7p48aKCg4P11FNP6d///d9lsVj0xRdf6D/+4z80cuRI5eTkKDAwUF26dLnhsHK5I0eOqEGDBg5j3t7eunDhwg1tt2bNmpoyZYr+/Oc/6+eff9YDDzygd99993frX3jhBeXl5enFF19Udna2QkND9dlnn6l58+YOdUOGDFFsbKyGDBkiHx8fh7nVq1dr9uzZevHFF/Xzzz/r9ttvV0REhHr16iVJioiI0IoVKzRjxgxNnz5dkZGRmjp1ql5++eUb2lfA7Cx2+2X3mAIAJP32rJ/Y2Fjl5uZW+LZ/+uknNW3aVPv27VOHDh0qfPsAnMcRIgCoJBcvXtSZM2c0depURUREEIaAKoQHMwKo0soe/nil5euvv3Z3e07ZtWuXGjRooH379mnZsmXubgfAZThlBqBK+/HHH3937o477lCNGjUqsRsAtyoCEQAAMD1OmQEAANMjEAEAANMjEAEAANMjEAEAANMjEAEAANMjEAEAANMjEAEAANMjEAEAANP7f87rDwEd4cK1AAAAAElFTkSuQmCC",

      "text/plain": [
       "<Figure size 640x480 with 1 Axes>"
      ]
     },
     "metadata": {},
     "output_type": "display_data"
    }
   ],
   "source": [
    "sns.barplot(data=df.sort_values(by='Loan_ID', ascending=True),x='Self_Employed',y='ApplicantIncome');"
   ]
  },
  {
   "cell_type": "code",
   "execution_count": 33,
   "metadata": {},
   "outputs": [
    {
     "data": {
      "text/plain": [
       "<AxesSubplot:xlabel='Loan_Status', ylabel='LoanAmount'>"
      ]
     },
     "execution_count": 9,
     "metadata": {},
     "output_type": "execute_result"
    },
    {
     "data": {
      "image/png": "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",
      "text/plain": [
       "<Figure size 640x480 with 1 Axes>"
      ]
     },
     "metadata": {},
     "output_type": "display_data"
    }
   ],
   "source": [
    "sns.barplot(data=df.sort_values(by='Loan_ID', ascending=True),x='Loan_Status',y='LoanAmount')"
   ]
  },
  {
   "cell_type": "code",
   "execution_count": 34,
   "metadata": {},
   "outputs": [],
   "source": [
    "def pandas_entropy(column, base=None):\n",
    "    vc = pd.Series(column).value_counts(normalize=True, sort=False)\n",
    "    base = np.e if base is None else base\n",
    "    return -(vc * np.log(vc)/np.log(base)).sum()"
   ]
  },
  {
   "cell_type": "code",
   "execution_count": 11,
   "metadata": {},
   "outputs": [
    {
     "name": "stdout",
     "output_type": "stream",
     "text": [
      "Entropy of Loan_ID: 6.41999492814714\n",
      "Entropy of Gender: 0.48089588139333894\n",
      "Entropy of Married: 0.6465811991072521\n",
      "Entropy of Dependents: 1.1291174740741763\n",
      "Entropy of Education: 0.5246726755960811\n",
      "Entropy of Self_Employed: 0.4065820843521172\n",
      "Entropy of ApplicantIncome: 6.107236436206865\n",
      "Entropy of CoapplicantIncome: 3.783511600286371\n",
      "Entropy of LoanAmount: 4.9438862051356125\n",
      "Entropy of Loan_Amount_Term: 0.6441789434605332\n",
      "Entropy of Credit_History: 0.43600607982675565\n",
      "Entropy of Property_Area: 1.092789563649835\n",
      "Entropy of Loan_Status: 0.6212467946739648\n",
      "6.173786103901938\n"
     ]
    }
   ],
   "source": [
    "\n",
    "from scipy.stats import entropy\n",
    "import math as mt\n",
    "\n",
    "# Assuming df is your DataFrame\n",
    "for col in df.columns:\n",
    "    print(f'Entropy of {col}: {entropy(df[col].value_counts(normalize=True), base=mt.e)}')\n",
    "\n",
    "print(entropy(df.value_counts(normalize=True), base=mt.e))\n"
   ]
  },
  {
   "cell_type": "code",
   "execution_count": 12,
   "metadata": {},
   "outputs": [],
   "source": [
    "df = pd.DataFrame(data = bl_csv)"
   ]
  },
  {
   "cell_type": "code",
   "execution_count": 13,
   "metadata": {},
   "outputs": [
    {
     "data": {
      "text/html": [
       "<div>\n",
       "<style scoped>\n",
       "    .dataframe tbody tr th:only-of-type {\n",
       "        vertical-align: middle;\n",
       "    }\n",
       "\n",
       "    .dataframe tbody tr th {\n",
       "        vertical-align: top;\n",
       "    }\n",
       "\n",
       "    .dataframe thead th {\n",
       "        text-align: right;\n",
       "    }\n",
       "</style>\n",
       "<table border=\"1\" class=\"dataframe\">\n",
       "  <thead>\n",
       "    <tr style=\"text-align: right;\">\n",
       "      <th></th>\n",
       "      <th>Loan_ID</th>\n",
       "      <th>Gender</th>\n",
       "      <th>Married</th>\n",
       "      <th>Dependents</th>\n",
       "      <th>Education</th>\n",
       "      <th>Self_Employed</th>\n",
       "      <th>ApplicantIncome</th>\n",
       "      <th>CoapplicantIncome</th>\n",
       "      <th>LoanAmount</th>\n",
       "      <th>Loan_Amount_Term</th>\n",
       "      <th>Credit_History</th>\n",
       "      <th>Property_Area</th>\n",
       "      <th>Loan_Status</th>\n",
       "    </tr>\n",
       "  </thead>\n",
       "  <tbody>\n",
       "    <tr>\n",
       "      <th>1</th>\n",
       "      <td>LP001003</td>\n",
       "      <td>Male</td>\n",
       "      <td>Yes</td>\n",
       "      <td>1</td>\n",
       "      <td>Graduate</td>\n",
       "      <td>No</td>\n",
       "      <td>4583</td>\n",
       "      <td>1508.0</td>\n",
       "      <td>128.0</td>\n",
       "      <td>360.0</td>\n",
       "      <td>1.0</td>\n",
       "      <td>Rural</td>\n",
       "      <td>N</td>\n",
       "    </tr>\n",
       "    <tr>\n",
       "      <th>3</th>\n",
       "      <td>LP001006</td>\n",
       "      <td>Male</td>\n",
       "      <td>Yes</td>\n",
       "      <td>0</td>\n",
       "      <td>Not Graduate</td>\n",
       "      <td>No</td>\n",
       "      <td>2583</td>\n",
       "      <td>2358.0</td>\n",
       "      <td>120.0</td>\n",
       "      <td>360.0</td>\n",
       "      <td>1.0</td>\n",
       "      <td>Urban</td>\n",
       "      <td>Y</td>\n",
       "    </tr>\n",
       "    <tr>\n",
       "      <th>4</th>\n",
       "      <td>LP001008</td>\n",
       "      <td>Male</td>\n",
       "      <td>No</td>\n",
       "      <td>0</td>\n",
       "      <td>Graduate</td>\n",
       "      <td>No</td>\n",
       "      <td>6000</td>\n",
       "      <td>0.0</td>\n",
       "      <td>141.0</td>\n",
       "      <td>360.0</td>\n",
       "      <td>1.0</td>\n",
       "      <td>Urban</td>\n",
       "      <td>Y</td>\n",
       "    </tr>\n",
       "    <tr>\n",
       "      <th>6</th>\n",
       "      <td>LP001013</td>\n",
       "      <td>Male</td>\n",
       "      <td>Yes</td>\n",
       "      <td>0</td>\n",
       "      <td>Not Graduate</td>\n",
       "      <td>No</td>\n",
       "      <td>2333</td>\n",
       "      <td>1516.0</td>\n",
       "      <td>95.0</td>\n",
       "      <td>360.0</td>\n",
       "      <td>1.0</td>\n",
       "      <td>Urban</td>\n",
       "      <td>Y</td>\n",
       "    </tr>\n",
       "    <tr>\n",
       "      <th>7</th>\n",
       "      <td>LP001014</td>\n",
       "      <td>Male</td>\n",
       "      <td>Yes</td>\n",
       "      <td>3+</td>\n",
       "      <td>Graduate</td>\n",
       "      <td>No</td>\n",
       "      <td>3036</td>\n",
       "      <td>2504.0</td>\n",
       "      <td>158.0</td>\n",
       "      <td>360.0</td>\n",
       "      <td>0.0</td>\n",
       "      <td>Semiurban</td>\n",
       "      <td>N</td>\n",
       "    </tr>\n",
       "  </tbody>\n",
       "</table>\n",
       "</div>"
      ],
      "text/plain": [
       "    Loan_ID Gender Married Dependents     Education Self_Employed  \\\n",
       "1  LP001003   Male     Yes          1      Graduate            No   \n",
       "3  LP001006   Male     Yes          0  Not Graduate            No   \n",
       "4  LP001008   Male      No          0      Graduate            No   \n",
       "6  LP001013   Male     Yes          0  Not Graduate            No   \n",
       "7  LP001014   Male     Yes         3+      Graduate            No   \n",
       "\n",
       "   ApplicantIncome  CoapplicantIncome  LoanAmount  Loan_Amount_Term  \\\n",
       "1             4583             1508.0       128.0             360.0   \n",
       "3             2583             2358.0       120.0             360.0   \n",
       "4             6000                0.0       141.0             360.0   \n",
       "6             2333             1516.0        95.0             360.0   \n",
       "7             3036             2504.0       158.0             360.0   \n",
       "\n",
       "   Credit_History Property_Area Loan_Status  \n",
       "1             1.0         Rural           N  \n",
       "3             1.0         Urban           Y  \n",
       "4             1.0         Urban           Y  \n",
       "6             1.0         Urban           Y  \n",
       "7             0.0     Semiurban           N  "
      ]
     },
     "execution_count": 35,
     "metadata": {},
     "output_type": "execute_result"
    }
   ],
   "source": [
    "df.head()"
   ]
  },
  {
   "cell_type": "code",
   "execution_count": 36,
   "metadata": {},
   "outputs": [],
   "source": [
    "df[\"Gender\"] = df[\"Gender\"].apply(lambda x: 1 if x == \"Male\" else 0)\n",
    "df[\"Married\"] = df[\"Married\"].apply(lambda x: 1 if x == \"Yes\" else 0)\n",
    "df[\"Education\"] = df[\"Education\"].apply(lambda x: 1 if x == \"Graduate\" else 0)\n",
    "df[\"Self_Employed\"] = df[\"Self_Employed\"].apply(lambda x: 1 if x == \"Yes\" else 0)\n",
    "df[\"Loan_Status\"] = df[\"Loan_Status\"].apply(lambda x: 1 if x == \"Y\" else 0)\n"
   ]
  },
  {
   "cell_type": "code",
   "execution_count": 37,
   "metadata": {},
   "outputs": [
    {
     "data": {
      "text/html": [
       "<div>\n",
       "<style scoped>\n",
       "    .dataframe tbody tr th:only-of-type {\n",
       "        vertical-align: middle;\n",
       "    }\n",
       "\n",
       "    .dataframe tbody tr th {\n",
       "        vertical-align: top;\n",
       "    }\n",
       "\n",
       "    .dataframe thead th {\n",
       "        text-align: right;\n",
       "    }\n",
       "</style>\n",
       "<table border=\"1\" class=\"dataframe\">\n",
       "  <thead>\n",
       "    <tr style=\"text-align: right;\">\n",
       "      <th></th>\n",
       "      <th>Gender</th>\n",
       "      <th>Married</th>\n",
       "      <th>Education</th>\n",
       "      <th>Self_Employed</th>\n",
       "    </tr>\n",
       "  </thead>\n",
       "  <tbody>\n",
       "    <tr>\n",
       "      <th>1</th>\n",
       "      <td>1</td>\n",
       "      <td>1</td>\n",
       "      <td>1</td>\n",
       "      <td>0</td>\n",
       "    </tr>\n",
       "    <tr>\n",
       "      <th>3</th>\n",
       "      <td>1</td>\n",
       "      <td>1</td>\n",
       "      <td>0</td>\n",
       "      <td>0</td>\n",
       "    </tr>\n",
       "    <tr>\n",
       "      <th>4</th>\n",
       "      <td>1</td>\n",
       "      <td>0</td>\n",
       "      <td>1</td>\n",
       "      <td>0</td>\n",
       "    </tr>\n",
       "    <tr>\n",
       "      <th>6</th>\n",
       "      <td>1</td>\n",
       "      <td>1</td>\n",
       "      <td>0</td>\n",
       "      <td>0</td>\n",
       "    </tr>\n",
       "    <tr>\n",
       "      <th>7</th>\n",
       "      <td>1</td>\n",
       "      <td>1</td>\n",
       "      <td>1</td>\n",
       "      <td>0</td>\n",
       "    </tr>\n",
       "  </tbody>\n",
       "</table>\n",
       "</div>"
      ],
      "text/plain": [
       "   Gender  Married  Education  Self_Employed\n",
       "1       1        1          1              0\n",
       "3       1        1          0              0\n",
       "4       1        0          1              0\n",
       "6       1        1          0              0\n",
       "7       1        1          1              0"
      ]
     },
     "execution_count": 37,
     "metadata": {},
     "output_type": "execute_result"
    }
   ],
   "source": [
    "df[[\"Gender\", \"Married\", \"Education\", \"Self_Employed\"]].head()"
   ]
  },
  {
   "cell_type": "code",
   "execution_count": 17,
   "metadata": {},
   "outputs": [
    {
     "data": {
      "text/plain": [
       "<AxesSubplot:xlabel='Loan_Status', ylabel='LoanAmount'>"
      ]
     },
     "execution_count": 17,
     "metadata": {},
     "output_type": "execute_result"
    },
    {
     "data": {
      "image/png": "iVBORw0KGgoAAAANSUhEUgAAAjsAAAGwCAYAAABPSaTdAAAAOXRFWHRTb2Z0d2FyZQBNYXRwbG90bGliIHZlcnNpb24zLjUuMywgaHR0cHM6Ly9tYXRwbG90bGliLm9yZy/NK7nSAAAACXBIWXMAAA9hAAAPYQGoP6dpAAAtSElEQVR4nO3df1xUdaL/8fcQPySBIVAZuKLSqgv5OzFCvaXJvYRl/qBbtlSUPvRqaiqlxtcfJf2g3H6QSnltTXPLm1u7umU3WsOEWyIVpvkr0o0VVh2wRSBoRWTm+4e3uTsXKRsGZzi+no/HeTyYzznnw3vch/necz5zxmS32+0CAAAwKB9PBwAAAGhPlB0AAGBolB0AAGBolB0AAGBolB0AAGBolB0AAGBolB0AAGBovp4O4A1sNptOnDih4OBgmUwmT8cBAAAXwW6367vvvlNUVJR8fFq/fkPZkXTixAlFR0d7OgYAAHBBRUWFunfv3up+yo6k4OBgSef/sEJCQjycBgAAXIy6ujpFR0c7/h1vDWVHcty6CgkJoewAANDB/NQSFBYoAwAAQ6PsAAAAQ6PsAAAAQ6PsAAAAQ6PsAAAAQ6PsAAAAQ6PsAAAAQ6PsAAAAQ6PsAAAAQ6PsAAAAQ6PsAAAAQ6PsAAAAQ6PsAAAAQ+Nbz3FZmTt3rk6dOiVJ6tq1q1588UUPJwIAtDfKDi4rp06dUmVlpadjAAAuIW5jAQAAQ6PsAAAAQ6PsAAAAQ6PsAAAAQ6PsAAAAQ/No2SksLNS4ceMUFRUlk8mkrVu3tjjm8OHDuu2222Q2m9W5c2cNGzZM5eXljv1nzpzRrFmzFB4erqCgIKWmpvJpGwAA4ODRstPQ0KBBgwYpNzf3gvv//Oc/a+TIkYqNjdXOnTv15ZdfaunSperUqZPjmPnz5+vdd9/VW2+9pYKCAp04cUKTJk26VG8BAAB4OY8+ZyclJUUpKSmt7l+8eLHGjh2rFStWOMZ+8YtfOH6ura3VunXrtGnTJt10002SpPXr1ysuLk67d+/W9ddff8F5Gxsb1djY6HhdV1fX1rcCAAC8lNeu2bHZbHrvvffUt29fJScnq1u3bkpISHC61VVSUqKmpiYlJSU5xmJjY9WjRw8VFRW1Ond2drbMZrNji46Obs+3AgAAPMhry05VVZXq6+v19NNP6+abb9af/vQnTZw4UZMmTVJBQYEkyWq1yt/fX6GhoU7nRkREyGq1tjp3ZmamamtrHVtFRUV7vhUAAOBBXvt1ETabTZI0fvx4zZ8/X5I0ePBg7dq1S2vWrNGNN97o8twBAQEKCAhwS04AAODdvPbKTpcuXeTr66trrrnGaTwuLs7xaSyLxaKzZ8+qpqbG6ZjKykpZLJZLFRUAAHgxry07/v7+GjZsmEpLS53Gv/76a/Xs2VOSNHToUPn5+Sk/P9+xv7S0VOXl5UpMTLykeQEAgHfy6G2s+vp6HT161PG6rKxMe/fuVVhYmHr06KEFCxbozjvv1A033KDRo0crLy9P7777rnbu3ClJMpvNmjp1qjIyMhQWFqaQkBDNmTNHiYmJrX4SCwAAXF48WnY+//xzjR492vE6IyNDkpSenq4NGzZo4sSJWrNmjbKzs/Xggw/ql7/8pX7/+99r5MiRjnNeeOEF+fj4KDU1VY2NjUpOTtZLL710yd8LAADwTia73W73dAhPq6urk9lsVm1trUJCQjwdB+3oV7/6leMJ2xEREdq0aZOHEwEAXHWx/3577ZodAAAAd6DsAAAAQ6PsAAAAQ6PsAAAAQ6PsAAAAQ6PsAAAAQ6PsAAAAQ/PaLwIFAODnmDt3rk6dOiVJ6tq1q1588UUPJ4K3oOwAAAzh1KlTjoeGAv+I21gAAMDQKDsAAMDQuI11CQ1dsNHTES57IafrHQ3/5Ol6/jfxAiW/vtfTEQAYHFd2AACAoVF2AACAoVF2AACAoVF2AACAoVF2AACAoVF2AACAoVF2AACAoVF2AACAoVF2AACAoVF2AACAoVF2AACAoVF2AACAoVF2AACAoVF2AACAofl6OgAAGEF51gBPR7jsnasJl3TF//x8gv9NvECPZfs9HUESV3YAAIDBUXYAAIChUXYAAIChUXYAAIChUXYAAIChebTsFBYWaty4cYqKipLJZNLWrVtbPXbGjBkymUzKyclxGq+urlZaWppCQkIUGhqqqVOnqr6+vn2DAwCADsOjZaehoUGDBg1Sbm7ujx63ZcsW7d69W1FRUS32paWl6eDBg9q+fbu2bdumwsJCTZ8+vb0iAwCADsajz9lJSUlRSkrKjx5z/PhxzZkzRx988IFuueUWp32HDx9WXl6ePvvsM8XHx0uSVq1apbFjx+rZZ5+9YDmSpMbGRjU2Njpe19XVtfGdAAAAb+XVa3ZsNpvuueceLViwQP369Wuxv6ioSKGhoY6iI0lJSUny8fFRcXFxq/NmZ2fLbDY7tujo6HbJDwAAPM+ry84zzzwjX19fPfjggxfcb7Va1a1bN6cxX19fhYWFyWq1tjpvZmamamtrHVtFRYVbc8N72fw6y+b/P5tfZ0/HAQBcAl77dRElJSV68cUXtWfPHplMJrfOHRAQoICAALfOiY6h/pc/ftsUAGA8Xntl57//+79VVVWlHj16yNfXV76+vjp27Jgeeugh9erVS5JksVhUVVXldN65c+dUXV0ti8XigdQAAMDbeO2VnXvuuUdJSUlOY8nJybrnnnt0//33S5ISExNVU1OjkpISDR06VJK0Y8cO2Ww2JSQkXPLMAADA+3i07NTX1+vo0aOO12VlZdq7d6/CwsLUo0cPhYeHOx3v5+cni8WiX/7yl5KkuLg43XzzzZo2bZrWrFmjpqYmzZ49W5MnT271k1gAAODy4tHbWJ9//rmGDBmiIUOGSJIyMjI0ZMgQLVu27KLneOONNxQbG6sxY8Zo7NixGjlypNauXdtekQEAQAfj0Ss7o0aNkt1uv+jj//KXv7QYCwsL06ZNm9yYCgAAGInXLlAGAABwB8oOAAAwNK/9NBYAAD9HWEDzBX8GKDsAAEP4f0NqPB0BXorbWAAAwNAoOwAAwNAoOwAAwNAoOwAAwNAoOwAAwNAoOwAAwNAoOwAAwNAoOwAAwNAoOwAAwNAoOwAAwNAoOwAAwNAoOwAAwNAoOwAAwNAoOwAAwNAoOwAAwNAoOwAAwNAoOwAAwNAoOwAAwNAoOwAAwNAoOwAAwNAoOwAAwNAoOwAAwNAoOwAAwNAoOwAAwNAoOwAAwNAoOwAAwNAoOwAAwNAoOwAAwNA8WnYKCws1btw4RUVFyWQyaevWrY59TU1NWrRokQYMGKDOnTsrKipK9957r06cOOE0R3V1tdLS0hQSEqLQ0FBNnTpV9fX1l/idAAAAb+XRstPQ0KBBgwYpNze3xb7vv/9ee/bs0dKlS7Vnzx794Q9/UGlpqW677Tan49LS0nTw4EFt375d27ZtU2FhoaZPn36p3gIAAPByvp785SkpKUpJSbngPrPZrO3btzuNrV69Wtddd53Ky8vVo0cPHT58WHl5efrss88UHx8vSVq1apXGjh2rZ599VlFRURecu7GxUY2NjY7XdXV1bnpHAADA23SoNTu1tbUymUwKDQ2VJBUVFSk0NNRRdCQpKSlJPj4+Ki4ubnWe7Oxsmc1mxxYdHd3e0QEAgId0mLJz5swZLVq0SHfddZdCQkIkSVarVd26dXM6ztfXV2FhYbJara3OlZmZqdraWsdWUVHRrtkBAIDnePQ21sVqamrSHXfcIbvdrpdffrnN8wUEBCggIMANyQAAgLfz+rLzQ9E5duyYduzY4biqI0kWi0VVVVVOx587d07V1dWyWCyXOioAAPBCXn0b64eic+TIEX344YcKDw932p+YmKiamhqVlJQ4xnbs2CGbzaaEhIRLHRcAAHghj17Zqa+v19GjRx2vy8rKtHfvXoWFhSkyMlK333679uzZo23btqm5udmxDicsLEz+/v6Ki4vTzTffrGnTpmnNmjVqamrS7NmzNXny5FY/iQUAAC4vHi07n3/+uUaPHu14nZGRIUlKT0/XY489pnfeeUeSNHjwYKfzPvroI40aNUqS9MYbb2j27NkaM2aMfHx8lJqaqpUrV16S/AAAwPt5tOyMGjVKdru91f0/tu8HYWFh2rRpkztjAQAAA/HqNTsAAABtRdkBAACGRtkBAACGRtkBAACGRtkBAACGRtkBAACGRtkBAACGRtkBAACGRtkBAACGRtkBAACGRtkBAACGRtkBAACGRtkBAACGRtkBAACGRtkBAACGRtkBAACGRtkBAACGRtkBAACGRtkBAACGRtkBAACGRtkBAACGRtkBAACGRtkBAACGRtkBAACGRtkBAACG5lLZycrK0vfff99i/O9//7uysrLaHAoAAMBdXCo7y5cvV319fYvx77//XsuXL29zKAAAAHdxqezY7XaZTKYW4/v27VNYWFibQwEAALiL7885+KqrrpLJZJLJZFLfvn2dCk9zc7Pq6+s1Y8YMt4cEAABw1c8qOzk5ObLb7ZoyZYqWL18us9ns2Ofv769evXopMTHR7SEBAABc9bPKTnp6uiQpJiZGw4cPl5+fX7uEAgAAcJefVXZ+cOONN8pms+nrr79WVVWVbDab0/4bbrjBLeEAAADayqUFyrt371bv3r0VFxenG264QaNGjXJso0ePvuh5CgsLNW7cOEVFRclkMmnr1q1O++12u5YtW6bIyEgFBgYqKSlJR44ccTqmurpaaWlpCgkJUWhoqKZOnXrBT4oBAIDLk0tlZ8aMGYqPj9eBAwdUXV2t06dPO7bq6uqLnqehoUGDBg1Sbm7uBfevWLFCK1eu1Jo1a1RcXKzOnTsrOTlZZ86ccRyTlpamgwcPavv27dq2bZsKCws1ffp0V94WAAAwIJduYx05ckRvv/22evfu3aZfnpKSopSUlAvus9vtysnJ0ZIlSzR+/HhJ0saNGxUREaGtW7dq8uTJOnz4sPLy8vTZZ58pPj5ekrRq1SqNHTtWzz77rKKioi44d2NjoxobGx2v6+rq2vQ+AACA93Lpyk5CQoKOHj3q7ixOysrKZLValZSU5Bgzm81KSEhQUVGRJKmoqEihoaGOoiNJSUlJ8vHxUXFxcatzZ2dny2w2O7bo6Oj2eyMAAMCjXLqyM2fOHD300EOyWq0aMGBAi09lDRw4sM3BrFarJCkiIsJpPCIiwrHParWqW7duTvt9fX0VFhbmOOZCMjMzlZGR4XhdV1dH4QEAwKBcKjupqamSpClTpjjGTCaT48nKzc3N7knXTgICAhQQEODpGAAA4BJwqeyUlZW5O0cLFotFklRZWanIyEjHeGVlpQYPHuw4pqqqyum8c+fOqbq62nE+AAC4vLlUdnr27OnuHC3ExMTIYrEoPz/fUW7q6upUXFysmTNnSpISExNVU1OjkpISDR06VJK0Y8cO2Ww2JSQktHtGAADg/VwqOxs3bvzR/ffee+9FzVNfX++00LmsrEx79+5VWFiYevTooXnz5umJJ55Qnz59FBMTo6VLlyoqKkoTJkyQJMXFxenmm2/WtGnTtGbNGjU1NWn27NmaPHlyq5/EAgAAlxeXys7cuXOdXjc1Nen777+Xv7+/rrzyyosuO59//rnTQwh/WDScnp6uDRs2aOHChWpoaND06dNVU1OjkSNHKi8vT506dXKc88Ybb2j27NkaM2aMfHx8lJqaqpUrV7rytgAAgAG5VHZOnz7dYuzIkSOaOXOmFixYcNHzjBo1Sna7vdX9JpNJWVlZysrKavWYsLAwbdq06aJ/JwAAuLy49JydC+nTp4+efvrpFld9AAAAPMltZUc6/4ybEydOuHNKAACANnHpNtY777zj9Nput+vkyZNavXq1RowY4ZZgAAAA7uBS2fnh01A/MJlM6tq1q2666SY999xz7sgFAADgFi6VHZvN5u4cAAAA7aLNa3bsdvuPfqIKAADAk1wuOxs3btSAAQMUGBiowMBADRw4UL/97W/dmQ0AAKDNXLqN9fzzz2vp0qWaPXu2Y0Hyxx9/rBkzZujbb7/V/Pnz3RoSAADAVS6VnVWrVunll192elLybbfdpn79+umxxx6j7AAAAK/h0m2skydPavjw4S3Ghw8frpMnT7Y5FAAAgLu4VHZ69+6t3/3udy3GN2/erD59+rQ5FAAAgLu4dBtr+fLluvPOO1VYWOhYs/PJJ58oPz//giUIAADAU1y6spOamqri4mJ16dJFW7du1datW9WlSxd9+umnmjhxorszAgAAuMylKzuSNHToUL3++uvuzAIAAOB2LpcdSaqqqlJVVVWLJyoPHDiwTaEAAADcxaWyU1JSovT0dB0+fLjF05NNJpOam5vdEg4AAKCtXCo7U6ZMUd++fbVu3TpFRETIZDK5OxcAAIBbuFR2vvnmG/3+979X79693Z0HAADArVz6NNaYMWO0b98+d2cBAABwO5eu7PzmN79Renq6Dhw4oP79+8vPz89p/2233eaWcAAAAG3lUtkpKirSJ598ovfff7/FPhYoAwAAb+LSbaw5c+bo7rvv1smTJ2Wz2Zw2ig4AAPAmLpWdv/3tb5o/f74iIiLcnQcAAMCtXCo7kyZN0kcffeTuLAAAAG7n0pqdvn37KjMzUx9//LEGDBjQYoHygw8+6JZwAAAAbeXyp7GCgoJUUFCggoICp30mk4myAwAAvIZLZaesrMzdOQAAANqFS2t2WnP48GE9/PDD7pwSAACgTdpcdhoaGrRu3ToNHz5c/fr1U15enjtyAQAAuIXLZeeTTz7RlClTFBERoenTp2v48OE6dOiQDhw44M58AAAAbfKzyk5VVZVWrFih2NhY3X777QoNDdXOnTvl4+OjKVOmKDY2tr1yAgAAuORnlZ2ePXtq//79evHFF3X8+HE9//zzio+Pb69sam5u1tKlSxUTE6PAwED94he/0OOPPy673e44xm63a9myZYqMjFRgYKCSkpJ05MiRdssEAAA6lp9ddj7++GMVFhbq66+/bq9MDs8884xefvllrV69WocPH9YzzzyjFStWaNWqVY5jVqxYoZUrV2rNmjUqLi5W586dlZycrDNnzrR7PgAA4P1+1kfPv/rqK33yySdat26dhg0bpr59++ruu++WdP75Ou62a9cujR8/XrfccoskqVevXvrP//xPffrpp5LOX9XJycnRkiVLNH78eEnSxo0bFRERoa1bt2ry5MluzwQAADqWn71AecSIEXr11Vd18uRJzZgxQ2+99Zaam5v1wAMP6JVXXtGpU6fcFm748OHKz893XEXat2+fPv74Y6WkpEg6/7wfq9WqpKQkxzlms1kJCQkqKipqdd7GxkbV1dU5bQAAwJhc/jRWUFCQpk2bpl27dungwYO69tprtWTJEkVFRbkt3COPPKLJkycrNjZWfn5+GjJkiObNm6e0tDRJktVqlaQWX0gaERHh2Hch2dnZMpvNji06OtptmQEAgHdxy0MF4+Li9Nxzz+n48ePavHmzO6aUJP3ud7/TG2+8oU2bNmnPnj167bXX9Oyzz+q1115r07yZmZmqra11bBUVFW5KDAAAvI1LXxchSTabTUePHlVVVZVsNptjvEuXLm4JJkkLFixwXN2RpAEDBujYsWPKzs5Wenq6LBaLJKmyslKRkZGO8yorKzV48OBW5w0ICFBAQIDbcgIAAO/lUtnZvXu3fvWrX+nYsWNOHwOXzi9Ubm5udku477//Xj4+zhefrrjiCke5iomJkcViUX5+vqPc1NXVqbi4WDNnznRLBgAA0LG5VHZmzJih+Ph4vffee4qMjGyXT2JJ0rhx4/Tkk0+qR48e6tevn7744gs9//zzmjJliqTzxWrevHl64okn1KdPH8XExGjp0qWKiorShAkT2iUTAADoWFwqO0eOHNHbb7+t3r17uzuPk1WrVmnp0qV64IEHVFVVpaioKP37v/+7li1b5jhm4cKFamho0PTp01VTU6ORI0cqLy9PnTp1atdsAACgY3Cp7CQkJOjo0aPtXnaCg4OVk5OjnJycVo8xmUzKyspSVlZWu2YBAAAdk0tlZ86cOXrooYdktVo1YMAA+fn5Oe0fOHCgW8IBAAC0lUtlJzU1VZIca2ek81dY7Ha7WxcoAwAAtJVLZaesrMzdOQAAANqFS2WnZ8+e7s4BAADQLlx+qKAkHTp0SOXl5Tp79qzT+G233damUAAAAO7iUtn55ptvNHHiRO3fv9+xVkf6328+Z80OAADwFi59N9bcuXMVExOjqqoqXXnllTp48KAKCwsVHx+vnTt3ujkiAACA61y6slNUVKQdO3aoS5cu8vHxkY+Pj0aOHKns7Gw9+OCD+uKLL9ydEwAAwCUuXdlpbm5WcHCwpPNf/HnixAlJ5xcul5aWui8dAABAG7l0Zad///7at2+fYmJilJCQoBUrVsjf319r167V1Vdf7e6MAAAALnOp7CxZskQNDQ2SpKysLN16663653/+Z4WHh2vz5s1uDQgAANAWLpWd5ORkx8+9e/fWV199perqal111VXt9g3oAAAArmjTc3Yk6a9//askqXv37m0OAwAA4G4uLVC22WzKysqS2WxWz5491bNnT4WGhurxxx+XzWZzd0YAAACXuXRlZ/HixVq3bp2efvppjRgxQpL08ccf67HHHtOZM2f05JNPujUkAACAq1wqO6+99pp+85vfOH0txMCBA/VP//RPeuCBByg7AADAa7h0G6u6ulqxsbEtxmNjY1VdXd3mUAAAAO7iUtkZNGiQVq9e3WJ89erVGjhwYJtDAQAAuItLt7FWrFihW265RR9++KESExMlnf8KiYqKCv3Xf/2XWwMCAAC0hUtXdm688UZ9/fXXmjhxompqalRTU6NJkybp4MGD+u1vf+vujAAAAC5z+Tk7UVFRLRYi79u3T+vWrdPatWvbHAwAAMAdXLqyAwAA0FFQdgAAgKFRdgAAgKH9rDU7kyZN+tH9NTU1bckCAADgdj+r7JjN5p/cf++997YpEAAAgDv9rLKzfv369soBAADQLlizAwAADI2yAwAADI2yAwAADI2yAwAADI2yAwAADM3ry87x48d19913Kzw8XIGBgRowYIA+//xzx3673a5ly5YpMjJSgYGBSkpK0pEjRzyYGAAAeBOvLjunT5/WiBEj5Ofnp/fff1+HDh3Sc889p6uuuspxzIoVK7Ry5UqtWbNGxcXF6ty5s5KTk3XmzBkPJgcAAN7C5W89vxSeeeYZRUdHOz3fJyYmxvGz3W5XTk6OlixZovHjx0uSNm7cqIiICG3dulWTJ0++5JkBAIB38eorO++8847i4+P1b//2b+rWrZuGDBmiV155xbG/rKxMVqtVSUlJjjGz2ayEhAQVFRW1Om9jY6Pq6uqcNgAAYExeXXa++eYbvfzyy+rTp48++OADzZw5Uw8++KBee+01SZLVapUkRUREOJ0XERHh2Hch2dnZMpvNji06Orr93gQAAPAory47NptN1157rZ566ikNGTJE06dP17Rp07RmzZo2zZuZmana2lrHVlFR4abEAADA23h12YmMjNQ111zjNBYXF6fy8nJJksVikSRVVlY6HVNZWenYdyEBAQEKCQlx2gAAgDF5ddkZMWKESktLnca+/vpr9ezZU9L5xcoWi0X5+fmO/XV1dSouLlZiYuIlzQoAALyTV38aa/78+Ro+fLieeuop3XHHHfr000+1du1arV27VpJkMpk0b948PfHEE+rTp49iYmK0dOlSRUVFacKECZ4NDwAAvIJXl51hw4Zpy5YtyszMVFZWlmJiYpSTk6O0tDTHMQsXLlRDQ4OmT5+umpoajRw5Unl5eerUqZMHkwMAAG/h1WVHkm699Vbdeuutre43mUzKyspSVlbWJUwFAAA6Cq9eswMAANBWlB0AAGBolB0AAGBolB0AAGBolB0AAGBolB0AAGBolB0AAGBolB0AAGBolB0AAGBolB0AAGBolB0AAGBolB0AAGBolB0AAGBolB0AAGBolB0AAGBolB0AAGBolB0AAGBolB0AAGBolB0AAGBolB0AAGBolB0AAGBolB0AAGBolB0AAGBolB0AAGBolB0AAGBolB0AAGBolB0AAGBolB0AAGBolB0AAGBolB0AAGBolB0AAGBolB0AAGBoHarsPP300zKZTJo3b55j7MyZM5o1a5bCw8MVFBSk1NRUVVZWei4kAADwKh2m7Hz22Wf6j//4Dw0cONBpfP78+Xr33Xf11ltvqaCgQCdOnNCkSZM8lBIAAHibDlF26uvrlZaWpldeeUVXXXWVY7y2tlbr1q3T888/r5tuuklDhw7V+vXrtWvXLu3evduDiQEAgLfoEGVn1qxZuuWWW5SUlOQ0XlJSoqamJqfx2NhY9ejRQ0VFRa3O19jYqLq6OqcNAAAYk6+nA/yUN998U3v27NFnn33WYp/VapW/v79CQ0OdxiMiImS1WludMzs7W8uXL3d3VAAA4IW8+spORUWF5s6dqzfeeEOdOnVy27yZmZmqra11bBUVFW6bGwAAeBevLjslJSWqqqrStddeK19fX/n6+qqgoEArV66Ur6+vIiIidPbsWdXU1DidV1lZKYvF0uq8AQEBCgkJcdoAAIAxefVtrDFjxmj//v1OY/fff79iY2O1aNEiRUdHy8/PT/n5+UpNTZUklZaWqry8XImJiZ6IDAAAvIxXl53g4GD179/faaxz584KDw93jE+dOlUZGRkKCwtTSEiI5syZo8TERF1//fWeiAwAALyMV5edi/HCCy/Ix8dHqampamxsVHJysl566SVPxwIAAF6iw5WdnTt3Or3u1KmTcnNzlZub65lAAADAq3n1AmUAAIC2ouwAAABDo+wAAABDo+wAAABDo+wAAABDo+wAAABDo+wAAABDo+wAAABDo+wAAABDo+wAAABDo+wAAABDo+wAAABDo+wAAABDo+wAAABDo+wAAABDo+wAAABDo+wAAABDo+wAAABDo+wAAABDo+wAAABDo+wAAABDo+wAAABDo+wAAABDo+wAAABDo+wAAABDo+wAAABDo+wAAABDo+wAAABDo+wAAABDo+wAAABDo+wAAABDo+wAAABD8/qyk52drWHDhik4OFjdunXThAkTVFpa6nTMmTNnNGvWLIWHhysoKEipqamqrKz0UGIAAOBNvL7sFBQUaNasWdq9e7e2b9+upqYm/eu//qsaGhocx8yfP1/vvvuu3nrrLRUUFOjEiROaNGmSB1MDAABv4evpAD8lLy/P6fWGDRvUrVs3lZSU6IYbblBtba3WrVunTZs26aabbpIkrV+/XnFxcdq9e7euv/56T8QGAABewuuv7PxftbW1kqSwsDBJUklJiZqampSUlOQ4JjY2Vj169FBRUdEF52hsbFRdXZ3TBgAAjKlDlR2bzaZ58+ZpxIgR6t+/vyTJarXK399foaGhTsdGRETIarVecJ7s7GyZzWbHFh0d3d7RAQCAh3SosjNr1iwdOHBAb775ZpvmyczMVG1trWOrqKhwU0IAAOBtvH7Nzg9mz56tbdu2qbCwUN27d3eMWywWnT17VjU1NU5XdyorK2WxWC44V0BAgAICAto7MgAA8AJef2XHbrdr9uzZ2rJli3bs2KGYmBin/UOHDpWfn5/y8/MdY6WlpSovL1diYuKljgsAALyM11/ZmTVrljZt2qQ//vGPCg4OdqzDMZvNCgwMlNls1tSpU5WRkaGwsDCFhIRozpw5SkxM5JNYAADA+8vOyy+/LEkaNWqU0/j69et13333SZJeeOEF+fj4KDU1VY2NjUpOTtZLL710iZMCAABv5PVlx263/+QxnTp1Um5urnJzcy9BIgAA0JF4/ZodAACAtqDsAAAAQ6PsAAAAQ6PsAAAAQ6PsAAAAQ6PsAAAAQ6PsAAAAQ6PsAAAAQ6PsAAAAQ6PsAAAAQ6PsAAAAQ6PsAAAAQ6PsAAAAQ6PsAAAAQ6PsAAAAQ6PsAAAAQ6PsAAAAQ6PsAAAAQ6PsAAAAQ6PsAAAAQ6PsAAAAQ6PsAAAAQ6PsAAAAQ6PsAAAAQ6PsAAAAQ6PsAAAAQ6PsAAAAQ6PsAAAAQ6PsAAAAQ6PsAAAAQ6PsAAAAQ6PsAAAAQzNM2cnNzVWvXr3UqVMnJSQk6NNPP/V0JAAA4AUMUXY2b96sjIwMPfroo9qzZ48GDRqk5ORkVVVVeToaAADwMEOUneeff17Tpk3T/fffr2uuuUZr1qzRlVdeqVdffdXT0QAAgIf5ejpAW509e1YlJSXKzMx0jPn4+CgpKUlFRUUXPKexsVGNjY2O17W1tZKkurq6ds3a3Pj3dp0f6Ija++/dpfLdmWZPRwC8Tnv//f5hfrvd/qPHdfiy8+2336q5uVkRERFO4xEREfrqq68ueE52draWL1/eYjw6OrpdMgJonXnVDE9HANBess2X5Nd89913Mptb/10dvuy4IjMzUxkZGY7XNptN1dXVCg8Pl8lk8mAyXAp1dXWKjo5WRUWFQkJCPB0HgBvx9/vyYrfb9d133ykqKupHj+vwZadLly664oorVFlZ6TReWVkpi8VywXMCAgIUEBDgNBYaGtpeEeGlQkJC+I8hYFD8/b58/NgVnR90+AXK/v7+Gjp0qPLz8x1jNptN+fn5SkxM9GAyAADgDTr8lR1JysjIUHp6uuLj43XdddcpJydHDQ0Nuv/++z0dDQAAeJghys6dd96pU6dOadmyZbJarRo8eLDy8vJaLFoGpPO3MR999NEWtzIBdHz8/caFmOw/9XktAACADqzDr9kBAAD4MZQdAABgaJQdAABgaJQdAABgaJQdXFZyc3PVq1cvderUSQkJCfr00089HQmAGxQWFmrcuHGKioqSyWTS1q1bPR0JXoSyg8vG5s2blZGRoUcffVR79uzRoEGDlJycrKqqKk9HA9BGDQ0NGjRokHJzcz0dBV6Ij57jspGQkKBhw4Zp9erVks4/aTs6Olpz5szRI4884uF0ANzFZDJpy5YtmjBhgqejwEtwZQeXhbNnz6qkpERJSUmOMR8fHyUlJamoqMiDyQAA7Y2yg8vCt99+q+bm5hZP1Y6IiJDVavVQKgDApUDZAQAAhkbZwWWhS5cuuuKKK1RZWek0XllZKYvF4qFUAIBLgbKDy4K/v7+GDh2q/Px8x5jNZlN+fr4SExM9mAwA0N4M8a3nwMXIyMhQenq64uPjdd111yknJ0cNDQ26//77PR0NQBvV19fr6NGjjtdlZWXau3evwsLC1KNHDw8mgzfgo+e4rKxevVq//vWvZbVaNXjwYK1cuVIJCQmejgWgjXbu3KnRo0e3GE9PT9eGDRsufSB4FcoOAAAwNNbsAAAAQ6PsAAAAQ6PsAAAAQ6PsAAAAQ6PsAAAAQ6PsAAAAQ6PsAAAAQ6PsAAAAQ6PsAAAAQ6PsAGiT++67TxMmTPB0jFa98sorGjRokIKCghQaGqohQ4YoOzvbsd/V/I899pgGDx7svqAA2g1fBArAsF599VXNmzdPK1eu1I033qjGxkZ9+eWXOnDggKejAbiEuLIDoN0UFBTouuuuU0BAgCIjI/XII4/o3Llzjv15eXkaOXKkQkNDFR4erltvvVV//vOfHfv/8pe/yGQy6Q9/+INGjx6tK6+8UoMGDVJRUdFF/f533nlHd9xxh6ZOnarevXurX79+uuuuu/Tkk09KOn915rXXXtMf//hHmUwmmUwm7dy5U5K0aNEi9e3bV1deeaWuvvpqLV26VE1NTZKkDRs2aPny5dq3b5/jvA0bNjjy7t2715GhpqbGad7Tp08rLS1NXbt2VWBgoPr06aP169e34U8ZwE/hyg6AdnH8+HGNHTtW9913nzZu3KivvvpK06ZNU6dOnfTYY49JkhoaGpSRkaGBAweqvr5ey5Yt08SJE7V37175+Pzv/xdbvHixnn32WfXp00eLFy/WXXfdpaNHj8rX98f/E2axWFRQUKBjx46pZ8+eLfY//PDDOnz4sOrq6hyFIywsTJIUHBysDRs2KCoqSvv379e0adMUHByshQsX6s4779SBAweUl5enDz/8UJJkNptVWVn5k38uS5cu1aFDh/T++++rS5cuOnr0qP7+979f1J8pANdQdgC0i5deeknR0dFavXq1TCaTYmNjdeLECS1atEjLli2Tj4+PUlNTnc559dVX1bVrVx06dEj9+/d3jD/88MO65ZZbJEnLly9Xv379dPToUcXGxv5ohkcffVSTJk1Sr1691LdvXyUmJmrs2LG6/fbb5ePjo6CgIAUGBqqxsVEWi8Xp3CVLljh+7tWrlx5++GG9+eabWrhwoQIDAxUUFCRfX98W5/2U8vJyDRkyRPHx8Y65AbQvbmMBaBeHDx9WYmKiTCaTY2zEiBGqr6/XX//6V0nSkSNHdNddd+nqq69WSEiI4x/+8vJyp7kGDhzo+DkyMlKSVFVV9ZMZIiMjVVRUpP3792vu3Lk6d+6c0tPTdfPNN8tms/3ouZs3b9aIESNksVgUFBSkJUuWtMjlipkzZ+rNN9/U4MGDtXDhQu3atavNcwL4cZQdAB4zbtw4VVdX65VXXlFxcbGKi4slSWfPnnU6zs/Pz/HzD+Xpp8rKP+rfv78eeOABvf7669q+fbu2b9+ugoKCVo8vKipSWlqaxo4dq23btumLL77Q4sWLW+T6v3649Wa32x1jP6zz+UFKSoqOHTum+fPn68SJExozZowefvjhi34vAH4+yg6AdhEXF6eioiKnf/g/+eQTBQcHq3v37vrb3/6m0tJSLVmyRGPGjFFcXJxOnz7d7rmuueYaSefXC0mSv7+/mpubnY7ZtWuXevbsqcWLFys+Pl59+vTRsWPHnI650Hldu3aVJJ08edIx9o+Llf/xuPT0dL3++uvKycnR2rVr2/y+ALSONTsA2qy2trbFP+rTp09XTk6O5syZo9mzZ6u0tFSPPvqoMjIy5OPjo6uuukrh4eFau3atIiMjVV5erkceecStuWbOnKmoqCjddNNN6t69u06ePKknnnhCXbt2VWJioqTza2Y++OADlZaWKjw8XGazWX369FF5ebnefPNNDRs2TO+99562bNniNHevXr1UVlamvXv3qnv37goODlZgYKCuv/56Pf3004qJiVFVVZXT2h9JWrZsmYYOHap+/fqpsbFR27ZtU1xcnFvfN4D/ww4AbZCenm6X1GKbOnWqfefOnfZhw4bZ/f397RaLxb5o0SJ7U1OT49zt27fb4+Li7AEBAfaBAwfad+7caZdk37Jli91ut9vLysrskuxffPGF45zTp0/bJdk/+uijn8z29ttv28eOHWuPjIy0+/v726Oiouypqan2L7/80nFMVVWV/V/+5V/sQUFBTvMuWLDAHh4ebg8KCrLfeeed9hdeeMFuNpsd5505c8aemppqDw0NtUuyr1+/3m632+2HDh2yJyYm2gMDA+2DBw+2/+lPf3Ka9/HHH7fHxcXZAwMD7WFhYfbx48fbv/nmG1f+6AFcJJPd/g/XmAEAAAyGNTsAAMDQKDsAOqyUlBQFBQVdcHvqqac8HQ+Al+A2FoAO6/jx460+fTgsLMzxNGQAlzfKDgAAMDRuYwEAAEOj7AAAAEOj7AAAAEOj7AAAAEOj7AAAAEOj7AAAAEOj7AAAAEP7/zLlaki/sfHXAAAAAElFTkSuQmCC",
      "text/plain": [
       "<Figure size 640x480 with 1 Axes>"
      ]
     },
     "metadata": {},
     "output_type": "display_data"
    }
   ],
   "source": [
    "sns.barplot(data=df.sort_values(by='Loan_ID', ascending=True),x='Loan_Status',y='LoanAmount')"
   ]
  },
  {
   "cell_type": "code",
   "execution_count": 18,
   "metadata": {},
   "outputs": [],
   "source": [
    "from sklearn.model_selection import train_test_split\n",
    "from sklearn.tree import DecisionTreeClassifier\n",
    "from sklearn import tree\n",
    "import matplotlib.pyplot as plt\n",
    "\n",
    "# Assuming df is your DataFrame and \"target\" is the target variable\n",
    "# Drop the ID column\n",
    "X = df.drop([\"Loan_Status\", \"Loan_ID\"], axis=1)\n",
    "y = df[\"Loan_Status\"]\n",
    "\n",
    "# Convert the '3+' values to a numerical format"
   ]
  },
  {
   "cell_type": "code",
   "execution_count": 25,
   "metadata": {},
   "outputs": [],
   "source": [
    "# Drop the ID column\n",
    "X = df.drop([\"Loan_Status\", \"Loan_ID\"], axis=1)"
   ]
  },
  {
   "cell_type": "code",
   "execution_count": 26,
   "metadata": {},
   "outputs": [
    {
     "name": "stdout",
     "output_type": "stream",
     "text": [
      "<class 'pandas.core.frame.DataFrame'>\n",
      "Index: 279 entries, 1 to 613\n",
      "Data columns (total 13 columns):\n",
      " #   Column             Non-Null Count  Dtype  \n",
      "---  ------             --------------  -----  \n",
      " 0   Loan_ID            614 non-null    object \n",
      " 1   Gender             614 non-null    int64  \n",
      " 2   Married            614 non-null    int64  \n",
      " 3   Dependents         599 non-null    object \n",
      " 4   Education          614 non-null    int64  \n",
      " 5   Self_Employed      614 non-null    int64  \n",
      " 6   ApplicantIncome    614 non-null    int64  \n",
      " 7   CoapplicantIncome  614 non-null    float64\n",
      " 8   LoanAmount         592 non-null    float64\n",
      " 9   Loan_Amount_Term   600 non-null    float64\n",
      " 10  Credit_History     564 non-null    float64\n",
      " 11  Property_Area      614 non-null    object \n",
      " 12  Loan_Status        614 non-null    int64  \n",
      "dtypes: float64(4), int64(6), object(3)\n",
      "memory usage: 62.5+ KB\n"
     ]
    }
   ],
   "source": [
    "df.info()"
   ]
  },
  {
   "cell_type": "code",
   "execution_count": 40,
   "metadata": {},
   "outputs": [
    {
     "data": {
      "text/plain": [
       "1      N\n",
       "3      Y\n",
       "4      Y\n",
       "6      Y\n",
       "7      N\n",
       "      ..\n",
       "606    Y\n",
       "607    Y\n",
       "608    Y\n",
       "612    Y\n",
       "613    N\n",
       "Name: Loan_Status, Length: 279, dtype: object"
      ]
     },
     "execution_count": 40,
     "metadata": {},
     "output_type": "execute_result"
    }
   ],
   "source": [
    "Ydf =df[\"Loan_Status\"]\n",
    "Ydf"
   ]
  },
  {
   "cell_type": "code",
   "execution_count": 29,
   "metadata": {},
   "outputs": [
    {
     "ename": "ValueError",
     "evalue": "The truth value of a Series is ambiguous. Use a.empty, a.bool(), a.item(), a.any() or a.all().",
     "output_type": "error",
     "traceback": [
      "\u001b[1;31m---------------------------------------------------------------------------\u001b[0m",
      "\u001b[1;31mValueError\u001b[0m                                Traceback (most recent call last)",
      "\u001b[1;32m~\\AppData\\Local\\Temp\\ipykernel_5516\\3878074874.py\u001b[0m in \u001b[0;36m<module>\u001b[1;34m\u001b[0m\n\u001b[0;32m      1\u001b[0m \u001b[0mYdf\u001b[0m \u001b[1;33m=\u001b[0m\u001b[0mdf\u001b[0m\u001b[1;33m[\u001b[0m\u001b[1;34m\"Loan_Status\"\u001b[0m\u001b[1;33m]\u001b[0m\u001b[1;33m\u001b[0m\u001b[1;33m\u001b[0m\u001b[0m\n\u001b[1;32m----> 2\u001b[1;33m \u001b[1;32mif\u001b[0m \u001b[0mYdf\u001b[0m\u001b[1;33m==\u001b[0m\u001b[1;36m1\u001b[0m\u001b[1;33m:\u001b[0m\u001b[1;33m\u001b[0m\u001b[1;33m\u001b[0m\u001b[0m\n\u001b[0m\u001b[0;32m      3\u001b[0m     \u001b[0mYdf\u001b[0m\u001b[1;33m\u001b[0m\u001b[1;33m\u001b[0m\u001b[0m\n",
      "\u001b[1;32m~\\AppData\\Local\\Packages\\PythonSoftwareFoundation.Python.3.7_qbz5n2kfra8p0\\LocalCache\\local-packages\\Python37\\site-packages\\pandas\\core\\generic.py\u001b[0m in \u001b[0;36m__nonzero__\u001b[1;34m(self)\u001b[0m\n\u001b[0;32m   1536\u001b[0m     \u001b[1;32mdef\u001b[0m \u001b[0m__nonzero__\u001b[0m\u001b[1;33m(\u001b[0m\u001b[0mself\u001b[0m\u001b[1;33m)\u001b[0m\u001b[1;33m:\u001b[0m\u001b[1;33m\u001b[0m\u001b[1;33m\u001b[0m\u001b[0m\n\u001b[0;32m   1537\u001b[0m         raise ValueError(\n\u001b[1;32m-> 1538\u001b[1;33m             \u001b[1;34mf\"The truth value of a {type(self).__name__} is ambiguous. \"\u001b[0m\u001b[1;33m\u001b[0m\u001b[1;33m\u001b[0m\u001b[0m\n\u001b[0m\u001b[0;32m   1539\u001b[0m             \u001b[1;34m\"Use a.empty, a.bool(), a.item(), a.any() or a.all().\"\u001b[0m\u001b[1;33m\u001b[0m\u001b[1;33m\u001b[0m\u001b[0m\n\u001b[0;32m   1540\u001b[0m         )\n",
      "\u001b[1;31mValueError\u001b[0m: The truth value of a Series is ambiguous. Use a.empty, a.bool(), a.item(), a.any() or a.all()."
     ]
    }
   ],
   "source": [
    "Ydf =df[\"Loan_Status\"]\n",
    "if Ydf==1:\n",
    "    Ydf\n"
   ]
  },
  {
   "cell_type": "code",
   "execution_count": null,
   "metadata": {},
   "outputs": [],
   "source": []
  }
 ],
 "metadata": {
  "kernelspec": {
   "display_name": "base",
   "language": "python",
   "name": "python3"
  },
  "language_info": {
   "codemirror_mode": {
    "name": "ipython",
    "version": 3
   },
   "file_extension": ".py",
   "mimetype": "text/x-python",
   "name": "python",
   "nbconvert_exporter": "python",
   "pygments_lexer": "ipython3",
   "version": "3.10.12"
  }
 },
 "nbformat": 4,
 "nbformat_minor": 2
}
