{
 "cells": [
  {
   "cell_type": "code",
<<<<<<< HEAD
   "execution_count": 169,
   "metadata": {},
   "outputs": [],
=======
   "execution_count": 20,
   "metadata": {},
   "outputs": [
    {
     "name": "stdout",
     "output_type": "stream",
     "text": [
      "<class 'pandas.core.frame.DataFrame'>\n",
      "RangeIndex: 614 entries, 0 to 613\n",
      "Data columns (total 13 columns):\n",
      " #   Column             Non-Null Count  Dtype  \n",
      "---  ------             --------------  -----  \n",
      " 0   Loan_ID            614 non-null    object \n",
      " 1   Gender             601 non-null    object \n",
      " 2   Married            611 non-null    object \n",
      " 3   Dependents         599 non-null    object \n",
      " 4   Education          614 non-null    object \n",
      " 5   Self_Employed      582 non-null    object \n",
      " 6   ApplicantIncome    614 non-null    int64  \n",
      " 7   CoapplicantIncome  614 non-null    float64\n",
      " 8   LoanAmount         592 non-null    float64\n",
      " 9   Loan_Amount_Term   600 non-null    float64\n",
      " 10  Credit_History     564 non-null    float64\n",
      " 11  Property_Area      614 non-null    object \n",
      " 12  Loan_Status        614 non-null    object \n",
      "dtypes: float64(4), int64(1), object(8)\n",
      "memory usage: 62.5+ KB\n"
     ]
    },
    {
     "data": {
      "text/html": [
       "<div>\n",
       "<style scoped>\n",
       "    .dataframe tbody tr th:only-of-type {\n",
       "        vertical-align: middle;\n",
       "    }\n",
       "\n",
       "    .dataframe tbody tr th {\n",
       "        vertical-align: top;\n",
       "    }\n",
       "\n",
       "    .dataframe thead th {\n",
       "        text-align: right;\n",
       "    }\n",
       "</style>\n",
       "<table border=\"1\" class=\"dataframe\">\n",
       "  <thead>\n",
       "    <tr style=\"text-align: right;\">\n",
       "      <th></th>\n",
       "      <th>Loan_ID</th>\n",
       "      <th>Gender</th>\n",
       "      <th>Married</th>\n",
       "      <th>Dependents</th>\n",
       "      <th>Education</th>\n",
       "      <th>Self_Employed</th>\n",
       "      <th>ApplicantIncome</th>\n",
       "      <th>CoapplicantIncome</th>\n",
       "      <th>LoanAmount</th>\n",
       "      <th>Loan_Amount_Term</th>\n",
       "      <th>Credit_History</th>\n",
       "      <th>Property_Area</th>\n",
       "      <th>Loan_Status</th>\n",
       "    </tr>\n",
       "  </thead>\n",
       "  <tbody>\n",
       "    <tr>\n",
       "      <th>0</th>\n",
       "      <td>LP001002</td>\n",
       "      <td>Male</td>\n",
       "      <td>No</td>\n",
       "      <td>0</td>\n",
       "      <td>Graduate</td>\n",
       "      <td>No</td>\n",
       "      <td>5849</td>\n",
       "      <td>0.0</td>\n",
       "      <td>NaN</td>\n",
       "      <td>360.0</td>\n",
       "      <td>1.0</td>\n",
       "      <td>Urban</td>\n",
       "      <td>Y</td>\n",
       "    </tr>\n",
       "    <tr>\n",
       "      <th>1</th>\n",
       "      <td>LP001003</td>\n",
       "      <td>Male</td>\n",
       "      <td>Yes</td>\n",
       "      <td>1</td>\n",
       "      <td>Graduate</td>\n",
       "      <td>No</td>\n",
       "      <td>4583</td>\n",
       "      <td>1508.0</td>\n",
       "      <td>128.0</td>\n",
       "      <td>360.0</td>\n",
       "      <td>1.0</td>\n",
       "      <td>Rural</td>\n",
       "      <td>N</td>\n",
       "    </tr>\n",
       "    <tr>\n",
       "      <th>2</th>\n",
       "      <td>LP001005</td>\n",
       "      <td>Male</td>\n",
       "      <td>Yes</td>\n",
       "      <td>0</td>\n",
       "      <td>Graduate</td>\n",
       "      <td>Yes</td>\n",
       "      <td>3000</td>\n",
       "      <td>0.0</td>\n",
       "      <td>66.0</td>\n",
       "      <td>360.0</td>\n",
       "      <td>1.0</td>\n",
       "      <td>Urban</td>\n",
       "      <td>Y</td>\n",
       "    </tr>\n",
       "    <tr>\n",
       "      <th>3</th>\n",
       "      <td>LP001006</td>\n",
       "      <td>Male</td>\n",
       "      <td>Yes</td>\n",
       "      <td>0</td>\n",
       "      <td>Not Graduate</td>\n",
       "      <td>No</td>\n",
       "      <td>2583</td>\n",
       "      <td>2358.0</td>\n",
       "      <td>120.0</td>\n",
       "      <td>360.0</td>\n",
       "      <td>1.0</td>\n",
       "      <td>Urban</td>\n",
       "      <td>Y</td>\n",
       "    </tr>\n",
       "    <tr>\n",
       "      <th>4</th>\n",
       "      <td>LP001008</td>\n",
       "      <td>Male</td>\n",
       "      <td>No</td>\n",
       "      <td>0</td>\n",
       "      <td>Graduate</td>\n",
       "      <td>No</td>\n",
       "      <td>6000</td>\n",
       "      <td>0.0</td>\n",
       "      <td>141.0</td>\n",
       "      <td>360.0</td>\n",
       "      <td>1.0</td>\n",
       "      <td>Urban</td>\n",
       "      <td>Y</td>\n",
       "    </tr>\n",
       "  </tbody>\n",
       "</table>\n",
       "</div>"
      ],
      "text/plain": [
       "    Loan_ID Gender Married Dependents     Education Self_Employed  \\\n",
       "0  LP001002   Male      No          0      Graduate            No   \n",
       "1  LP001003   Male     Yes          1      Graduate            No   \n",
       "2  LP001005   Male     Yes          0      Graduate           Yes   \n",
       "3  LP001006   Male     Yes          0  Not Graduate            No   \n",
       "4  LP001008   Male      No          0      Graduate            No   \n",
       "\n",
       "   ApplicantIncome  CoapplicantIncome  LoanAmount  Loan_Amount_Term  \\\n",
       "0             5849                0.0         NaN             360.0   \n",
       "1             4583             1508.0       128.0             360.0   \n",
       "2             3000                0.0        66.0             360.0   \n",
       "3             2583             2358.0       120.0             360.0   \n",
       "4             6000                0.0       141.0             360.0   \n",
       "\n",
       "   Credit_History Property_Area Loan_Status  \n",
       "0             1.0         Urban           Y  \n",
       "1             1.0         Rural           N  \n",
       "2             1.0         Urban           Y  \n",
       "3             1.0         Urban           Y  \n",
       "4             1.0         Urban           Y  "
      ]
     },
     "execution_count": 20,
     "metadata": {},
     "output_type": "execute_result"
    }
   ],
>>>>>>> 2a7c6d2b0cd6ec07fa48869800b909efc828f945
   "source": [
    "import pandas as pd\n",
    "import matplotlib.pyplot as plt\n",
    "import plotly.express as px\n",
    "import seaborn as sns\n",
    "import numpy as np\n",
    "import matplotlib.pyplot as plt\n",
    "from sklearn.linear_model import LinearRegression\n",
    "from sklearn.model_selection import train_test_split\n",
<<<<<<< HEAD
    "from sklearn.metrics import mean_squared_error, r2_score"
=======
    "from sklearn.metrics import mean_squared_error, r2_score\n",
    "bl_csv= pd.read_csv(r\"raw_data.csv\")\n",
    "bl_csv.info()\n",
    "bl_csv.head()\n",
    "\n"
>>>>>>> 2a7c6d2b0cd6ec07fa48869800b909efc828f945
   ]
  },
  {
   "cell_type": "code",
<<<<<<< HEAD
   "execution_count": 170,
=======
   "execution_count": 21,
   "metadata": {},
   "outputs": [
    {
     "name": "stdout",
     "output_type": "stream",
     "text": [
      "<class 'pandas.core.frame.DataFrame'>\n",
      "RangeIndex: 367 entries, 0 to 366\n",
      "Data columns (total 12 columns):\n",
      " #   Column             Non-Null Count  Dtype  \n",
      "---  ------             --------------  -----  \n",
      " 0   Loan_ID            367 non-null    object \n",
      " 1   Gender             356 non-null    object \n",
      " 2   Married            367 non-null    object \n",
      " 3   Dependents         357 non-null    object \n",
      " 4   Education          367 non-null    object \n",
      " 5   Self_Employed      344 non-null    object \n",
      " 6   ApplicantIncome    367 non-null    int64  \n",
      " 7   CoapplicantIncome  367 non-null    int64  \n",
      " 8   LoanAmount         362 non-null    float64\n",
      " 9   Loan_Amount_Term   361 non-null    float64\n",
      " 10  Credit_History     338 non-null    float64\n",
      " 11  Property_Area      367 non-null    object \n",
      "dtypes: float64(3), int64(2), object(7)\n",
      "memory usage: 34.5+ KB\n"
     ]
    },
    {
     "data": {
      "text/html": [
       "<div>\n",
       "<style scoped>\n",
       "    .dataframe tbody tr th:only-of-type {\n",
       "        vertical-align: middle;\n",
       "    }\n",
       "\n",
       "    .dataframe tbody tr th {\n",
       "        vertical-align: top;\n",
       "    }\n",
       "\n",
       "    .dataframe thead th {\n",
       "        text-align: right;\n",
       "    }\n",
       "</style>\n",
       "<table border=\"1\" class=\"dataframe\">\n",
       "  <thead>\n",
       "    <tr style=\"text-align: right;\">\n",
       "      <th></th>\n",
       "      <th>Loan_ID</th>\n",
       "      <th>Gender</th>\n",
       "      <th>Married</th>\n",
       "      <th>Dependents</th>\n",
       "      <th>Education</th>\n",
       "      <th>Self_Employed</th>\n",
       "      <th>ApplicantIncome</th>\n",
       "      <th>CoapplicantIncome</th>\n",
       "      <th>LoanAmount</th>\n",
       "      <th>Loan_Amount_Term</th>\n",
       "      <th>Credit_History</th>\n",
       "      <th>Property_Area</th>\n",
       "    </tr>\n",
       "  </thead>\n",
       "  <tbody>\n",
       "    <tr>\n",
       "      <th>0</th>\n",
       "      <td>LP001015</td>\n",
       "      <td>Male</td>\n",
       "      <td>Yes</td>\n",
       "      <td>0</td>\n",
       "      <td>Graduate</td>\n",
       "      <td>No</td>\n",
       "      <td>5720</td>\n",
       "      <td>0</td>\n",
       "      <td>110.0</td>\n",
       "      <td>360.0</td>\n",
       "      <td>1.0</td>\n",
       "      <td>Urban</td>\n",
       "    </tr>\n",
       "    <tr>\n",
       "      <th>1</th>\n",
       "      <td>LP001022</td>\n",
       "      <td>Male</td>\n",
       "      <td>Yes</td>\n",
       "      <td>1</td>\n",
       "      <td>Graduate</td>\n",
       "      <td>No</td>\n",
       "      <td>3076</td>\n",
       "      <td>1500</td>\n",
       "      <td>126.0</td>\n",
       "      <td>360.0</td>\n",
       "      <td>1.0</td>\n",
       "      <td>Urban</td>\n",
       "    </tr>\n",
       "    <tr>\n",
       "      <th>2</th>\n",
       "      <td>LP001031</td>\n",
       "      <td>Male</td>\n",
       "      <td>Yes</td>\n",
       "      <td>2</td>\n",
       "      <td>Graduate</td>\n",
       "      <td>No</td>\n",
       "      <td>5000</td>\n",
       "      <td>1800</td>\n",
       "      <td>208.0</td>\n",
       "      <td>360.0</td>\n",
       "      <td>1.0</td>\n",
       "      <td>Urban</td>\n",
       "    </tr>\n",
       "    <tr>\n",
       "      <th>3</th>\n",
       "      <td>LP001035</td>\n",
       "      <td>Male</td>\n",
       "      <td>Yes</td>\n",
       "      <td>2</td>\n",
       "      <td>Graduate</td>\n",
       "      <td>No</td>\n",
       "      <td>2340</td>\n",
       "      <td>2546</td>\n",
       "      <td>100.0</td>\n",
       "      <td>360.0</td>\n",
       "      <td>NaN</td>\n",
       "      <td>Urban</td>\n",
       "    </tr>\n",
       "    <tr>\n",
       "      <th>4</th>\n",
       "      <td>LP001051</td>\n",
       "      <td>Male</td>\n",
       "      <td>No</td>\n",
       "      <td>0</td>\n",
       "      <td>Not Graduate</td>\n",
       "      <td>No</td>\n",
       "      <td>3276</td>\n",
       "      <td>0</td>\n",
       "      <td>78.0</td>\n",
       "      <td>360.0</td>\n",
       "      <td>1.0</td>\n",
       "      <td>Urban</td>\n",
       "    </tr>\n",
       "  </tbody>\n",
       "</table>\n",
       "</div>"
      ],
      "text/plain": [
       "    Loan_ID Gender Married Dependents     Education Self_Employed  \\\n",
       "0  LP001015   Male     Yes          0      Graduate            No   \n",
       "1  LP001022   Male     Yes          1      Graduate            No   \n",
       "2  LP001031   Male     Yes          2      Graduate            No   \n",
       "3  LP001035   Male     Yes          2      Graduate            No   \n",
       "4  LP001051   Male      No          0  Not Graduate            No   \n",
       "\n",
       "   ApplicantIncome  CoapplicantIncome  LoanAmount  Loan_Amount_Term  \\\n",
       "0             5720                  0       110.0             360.0   \n",
       "1             3076               1500       126.0             360.0   \n",
       "2             5000               1800       208.0             360.0   \n",
       "3             2340               2546       100.0             360.0   \n",
       "4             3276                  0        78.0             360.0   \n",
       "\n",
       "   Credit_History Property_Area  \n",
       "0             1.0         Urban  \n",
       "1             1.0         Urban  \n",
       "2             1.0         Urban  \n",
       "3             NaN         Urban  \n",
       "4             1.0         Urban  "
      ]
     },
     "execution_count": 21,
     "metadata": {},
     "output_type": "execute_result"
    }
   ],
   "source": [
    "bv_csv= pd.read_csv(r\"validation.csv\")\n",
    "bv_csv.info()\n",
    "bv_csv.head()"
   ]
  },
  {
   "cell_type": "code",
   "execution_count": 22,
>>>>>>> 2a7c6d2b0cd6ec07fa48869800b909efc828f945
   "metadata": {},
   "outputs": [
    {
     "data": {
      "text/html": [
       "<div>\n",
       "<style scoped>\n",
       "    .dataframe tbody tr th:only-of-type {\n",
       "        vertical-align: middle;\n",
       "    }\n",
       "\n",
       "    .dataframe tbody tr th {\n",
       "        vertical-align: top;\n",
       "    }\n",
       "\n",
       "    .dataframe thead th {\n",
       "        text-align: right;\n",
       "    }\n",
       "</style>\n",
       "<table border=\"1\" class=\"dataframe\">\n",
       "  <thead>\n",
       "    <tr style=\"text-align: right;\">\n",
       "      <th></th>\n",
       "      <th>Loan_ID</th>\n",
       "      <th>Gender</th>\n",
       "      <th>Married</th>\n",
       "      <th>Dependents</th>\n",
       "      <th>Education</th>\n",
       "      <th>Self_Employed</th>\n",
       "      <th>ApplicantIncome</th>\n",
       "      <th>CoapplicantIncome</th>\n",
       "      <th>LoanAmount</th>\n",
       "      <th>Loan_Amount_Term</th>\n",
       "      <th>Credit_History</th>\n",
       "      <th>Property_Area</th>\n",
       "      <th>Loan_Status</th>\n",
       "    </tr>\n",
       "  </thead>\n",
       "  <tbody>\n",
       "    <tr>\n",
       "      <th>0</th>\n",
       "      <td>LP001002</td>\n",
       "      <td>Male</td>\n",
       "      <td>No</td>\n",
       "      <td>0</td>\n",
       "      <td>Graduate</td>\n",
       "      <td>No</td>\n",
       "      <td>5849</td>\n",
       "      <td>0.0</td>\n",
       "      <td>NaN</td>\n",
       "      <td>360.0</td>\n",
       "      <td>1.0</td>\n",
       "      <td>Urban</td>\n",
       "      <td>Y</td>\n",
       "    </tr>\n",
       "    <tr>\n",
       "      <th>1</th>\n",
       "      <td>LP001003</td>\n",
       "      <td>Male</td>\n",
       "      <td>Yes</td>\n",
       "      <td>1</td>\n",
       "      <td>Graduate</td>\n",
       "      <td>No</td>\n",
       "      <td>4583</td>\n",
       "      <td>1508.0</td>\n",
       "      <td>128.0</td>\n",
       "      <td>360.0</td>\n",
       "      <td>1.0</td>\n",
       "      <td>Rural</td>\n",
       "      <td>N</td>\n",
       "    </tr>\n",
       "    <tr>\n",
       "      <th>2</th>\n",
       "      <td>LP001005</td>\n",
       "      <td>Male</td>\n",
       "      <td>Yes</td>\n",
       "      <td>0</td>\n",
       "      <td>Graduate</td>\n",
       "      <td>Yes</td>\n",
       "      <td>3000</td>\n",
       "      <td>0.0</td>\n",
       "      <td>66.0</td>\n",
       "      <td>360.0</td>\n",
       "      <td>1.0</td>\n",
       "      <td>Urban</td>\n",
       "      <td>Y</td>\n",
       "    </tr>\n",
       "    <tr>\n",
       "      <th>3</th>\n",
       "      <td>LP001006</td>\n",
       "      <td>Male</td>\n",
       "      <td>Yes</td>\n",
       "      <td>0</td>\n",
       "      <td>Not Graduate</td>\n",
       "      <td>No</td>\n",
       "      <td>2583</td>\n",
       "      <td>2358.0</td>\n",
       "      <td>120.0</td>\n",
       "      <td>360.0</td>\n",
       "      <td>1.0</td>\n",
       "      <td>Urban</td>\n",
       "      <td>Y</td>\n",
       "    </tr>\n",
       "    <tr>\n",
       "      <th>4</th>\n",
       "      <td>LP001008</td>\n",
       "      <td>Male</td>\n",
       "      <td>No</td>\n",
       "      <td>0</td>\n",
       "      <td>Graduate</td>\n",
       "      <td>No</td>\n",
       "      <td>6000</td>\n",
       "      <td>0.0</td>\n",
       "      <td>141.0</td>\n",
       "      <td>360.0</td>\n",
       "      <td>1.0</td>\n",
       "      <td>Urban</td>\n",
       "      <td>Y</td>\n",
       "    </tr>\n",
       "  </tbody>\n",
       "</table>\n",
       "</div>"
      ],
      "text/plain": [
       "    Loan_ID Gender Married Dependents     Education Self_Employed  \\\n",
       "0  LP001002   Male      No          0      Graduate            No   \n",
       "1  LP001003   Male     Yes          1      Graduate            No   \n",
       "2  LP001005   Male     Yes          0      Graduate           Yes   \n",
       "3  LP001006   Male     Yes          0  Not Graduate            No   \n",
       "4  LP001008   Male      No          0      Graduate            No   \n",
       "\n",
       "   ApplicantIncome  CoapplicantIncome  LoanAmount  Loan_Amount_Term  \\\n",
       "0             5849                0.0         NaN             360.0   \n",
       "1             4583             1508.0       128.0             360.0   \n",
       "2             3000                0.0        66.0             360.0   \n",
       "3             2583             2358.0       120.0             360.0   \n",
       "4             6000                0.0       141.0             360.0   \n",
       "\n",
       "   Credit_History Property_Area Loan_Status  \n",
       "0             1.0         Urban           Y  \n",
       "1             1.0         Rural           N  \n",
       "2             1.0         Urban           Y  \n",
       "3             1.0         Urban           Y  \n",
       "4             1.0         Urban           Y  "
      ]
     },
<<<<<<< HEAD
     "execution_count": 170,
=======
     "execution_count": 22,
>>>>>>> 2a7c6d2b0cd6ec07fa48869800b909efc828f945
     "metadata": {},
     "output_type": "execute_result"
    }
   ],
   "source": [
    "#Import raw data \n",
    "bl_csv= pd.read_csv(r\"raw_data.csv\")\n",
    "bl_csv.head()"
   ]
  },
  {
   "cell_type": "code",
<<<<<<< HEAD
   "execution_count": 171,
=======
   "execution_count": 23,
>>>>>>> 2a7c6d2b0cd6ec07fa48869800b909efc828f945
   "metadata": {},
   "outputs": [
    {
     "data": {
<<<<<<< HEAD
      "text/html": [
       "<div>\n",
       "<style scoped>\n",
       "    .dataframe tbody tr th:only-of-type {\n",
       "        vertical-align: middle;\n",
       "    }\n",
       "\n",
       "    .dataframe tbody tr th {\n",
       "        vertical-align: top;\n",
       "    }\n",
       "\n",
       "    .dataframe thead th {\n",
       "        text-align: right;\n",
       "    }\n",
       "</style>\n",
       "<table border=\"1\" class=\"dataframe\">\n",
       "  <thead>\n",
       "    <tr style=\"text-align: right;\">\n",
       "      <th></th>\n",
       "      <th>Loan_ID</th>\n",
       "      <th>Gender</th>\n",
       "      <th>Married</th>\n",
       "      <th>Dependents</th>\n",
       "      <th>Education</th>\n",
       "      <th>Self_Employed</th>\n",
       "      <th>ApplicantIncome</th>\n",
       "      <th>CoapplicantIncome</th>\n",
       "      <th>LoanAmount</th>\n",
       "      <th>Loan_Amount_Term</th>\n",
       "      <th>Credit_History</th>\n",
       "      <th>Property_Area</th>\n",
       "    </tr>\n",
       "  </thead>\n",
       "  <tbody>\n",
       "    <tr>\n",
       "      <th>0</th>\n",
       "      <td>LP001015</td>\n",
       "      <td>Male</td>\n",
       "      <td>Yes</td>\n",
       "      <td>0</td>\n",
       "      <td>Graduate</td>\n",
       "      <td>No</td>\n",
       "      <td>5720</td>\n",
       "      <td>0</td>\n",
       "      <td>110.0</td>\n",
       "      <td>360.0</td>\n",
       "      <td>1.0</td>\n",
       "      <td>Urban</td>\n",
       "    </tr>\n",
       "    <tr>\n",
       "      <th>1</th>\n",
       "      <td>LP001022</td>\n",
       "      <td>Male</td>\n",
       "      <td>Yes</td>\n",
       "      <td>1</td>\n",
       "      <td>Graduate</td>\n",
       "      <td>No</td>\n",
       "      <td>3076</td>\n",
       "      <td>1500</td>\n",
       "      <td>126.0</td>\n",
       "      <td>360.0</td>\n",
       "      <td>1.0</td>\n",
       "      <td>Urban</td>\n",
       "    </tr>\n",
       "    <tr>\n",
       "      <th>2</th>\n",
       "      <td>LP001031</td>\n",
       "      <td>Male</td>\n",
       "      <td>Yes</td>\n",
       "      <td>2</td>\n",
       "      <td>Graduate</td>\n",
       "      <td>No</td>\n",
       "      <td>5000</td>\n",
       "      <td>1800</td>\n",
       "      <td>208.0</td>\n",
       "      <td>360.0</td>\n",
       "      <td>1.0</td>\n",
       "      <td>Urban</td>\n",
       "    </tr>\n",
       "    <tr>\n",
       "      <th>3</th>\n",
       "      <td>LP001035</td>\n",
       "      <td>Male</td>\n",
       "      <td>Yes</td>\n",
       "      <td>2</td>\n",
       "      <td>Graduate</td>\n",
       "      <td>No</td>\n",
       "      <td>2340</td>\n",
       "      <td>2546</td>\n",
       "      <td>100.0</td>\n",
       "      <td>360.0</td>\n",
       "      <td>NaN</td>\n",
       "      <td>Urban</td>\n",
       "    </tr>\n",
       "    <tr>\n",
       "      <th>4</th>\n",
       "      <td>LP001051</td>\n",
       "      <td>Male</td>\n",
       "      <td>No</td>\n",
       "      <td>0</td>\n",
       "      <td>Not Graduate</td>\n",
       "      <td>No</td>\n",
       "      <td>3276</td>\n",
       "      <td>0</td>\n",
       "      <td>78.0</td>\n",
       "      <td>360.0</td>\n",
       "      <td>1.0</td>\n",
       "      <td>Urban</td>\n",
       "    </tr>\n",
       "  </tbody>\n",
       "</table>\n",
       "</div>"
      ],
=======
      "image/png": "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",
>>>>>>> 2a7c6d2b0cd6ec07fa48869800b909efc828f945
      "text/plain": [
       "    Loan_ID Gender Married Dependents     Education Self_Employed  \\\n",
       "0  LP001015   Male     Yes          0      Graduate            No   \n",
       "1  LP001022   Male     Yes          1      Graduate            No   \n",
       "2  LP001031   Male     Yes          2      Graduate            No   \n",
       "3  LP001035   Male     Yes          2      Graduate            No   \n",
       "4  LP001051   Male      No          0  Not Graduate            No   \n",
       "\n",
       "   ApplicantIncome  CoapplicantIncome  LoanAmount  Loan_Amount_Term  \\\n",
       "0             5720                  0       110.0             360.0   \n",
       "1             3076               1500       126.0             360.0   \n",
       "2             5000               1800       208.0             360.0   \n",
       "3             2340               2546       100.0             360.0   \n",
       "4             3276                  0        78.0             360.0   \n",
       "\n",
       "   Credit_History Property_Area  \n",
       "0             1.0         Urban  \n",
       "1             1.0         Urban  \n",
       "2             1.0         Urban  \n",
       "3             NaN         Urban  \n",
       "4             1.0         Urban  "
      ]
     },
     "execution_count": 171,
     "metadata": {},
     "output_type": "execute_result"
    }
   ],
   "source": [
<<<<<<< HEAD
    "#Import validation data\n",
    "bv_csv= pd.read_csv(r\"validation.csv\")\n",
    "bv_csv.head()"
=======
    "(\n",
    "    df.sort_values(by='ApplicantIncome', ascending=True)\n",
    ").plot(\n",
    "    kind='line', \n",
    "    x='ApplicantIncome', \n",
    "    y='CoapplicantIncome'\n",
    ");"
>>>>>>> 2a7c6d2b0cd6ec07fa48869800b909efc828f945
   ]
  },
  {
   "cell_type": "code",
<<<<<<< HEAD
   "execution_count": 172,
=======
   "execution_count": 24,
   "metadata": {},
   "outputs": [
    {
     "data": {
      "image/png": "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",
      "text/plain": [
       "<Figure size 640x480 with 1 Axes>"
      ]
     },
     "metadata": {},
     "output_type": "display_data"
    }
   ],
   "source": [
    "sns.barplot(data=df.sort_values(by='Loan_ID', ascending=True),x='Education',y='ApplicantIncome');"
   ]
  },
  {
   "cell_type": "code",
   "execution_count": 25,
   "metadata": {},
   "outputs": [
    {
     "data": {
      "image/png": "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",
      "text/plain": [
       "<Figure size 640x480 with 1 Axes>"
      ]
     },
     "metadata": {},
     "output_type": "display_data"
    }
   ],
   "source": [
    "sns.barplot(data=df.sort_values(by='Loan_ID', ascending=True),x='Loan_Status',y='ApplicantIncome');"
   ]
  },
  {
   "cell_type": "code",
   "execution_count": 26,
   "metadata": {},
   "outputs": [
    {
     "data": {
      "image/png": "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",
      "text/plain": [
       "<Figure size 640x480 with 1 Axes>"
      ]
     },
     "metadata": {},
     "output_type": "display_data"
    }
   ],
   "source": [
    "sns.barplot(data=df.sort_values(by='Loan_ID', ascending=True),x='Self_Employed',y='ApplicantIncome');"
   ]
  },
  {
   "cell_type": "code",
   "execution_count": 27,
   "metadata": {},
   "outputs": [
    {
     "data": {
      "image/png": "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",
      "text/plain": [
       "<Figure size 640x480 with 1 Axes>"
      ]
     },
     "metadata": {},
     "output_type": "display_data"
    }
   ],
   "source": [
    "sns.barplot(data=df.sort_values(by='Loan_ID', ascending=True),x='Loan_Status',y='LoanAmount');"
   ]
  },
  {
   "cell_type": "code",
   "execution_count": 34,
   "metadata": {},
   "outputs": [],
   "source": [
    "def pandas_entropy(column, base=None):\n",
    "    vc = pd.Series(column).value_counts(normalize=True, sort=False)\n",
    "    base = np.e if base is None else base\n",
    "    return -(vc * np.log(vc)/np.log(base)).sum()"
   ]
  },
  {
   "cell_type": "code",
   "execution_count": 35,
   "metadata": {},
   "outputs": [
    {
     "name": "stdout",
     "output_type": "stream",
     "text": [
      "Entropy of Loan_ID: 6.41999492814714\n",
      "Entropy of Gender: 0.48089588139333894\n",
      "Entropy of Married: 0.6465811991072521\n",
      "Entropy of Dependents: 1.1291174740741763\n",
      "Entropy of Education: 0.5246726755960811\n",
      "Entropy of Self_Employed: 0.4065820843521172\n",
      "Entropy of ApplicantIncome: 6.107236436206865\n",
      "Entropy of CoapplicantIncome: 3.783511600286371\n",
      "Entropy of LoanAmount: 4.9438862051356125\n",
      "Entropy of Loan_Amount_Term: 0.6441789434605332\n",
      "Entropy of Credit_History: 0.43600607982675565\n",
      "Entropy of Property_Area: 1.092789563649835\n",
      "Entropy of Loan_Status: 0.6212467946739648\n",
      "6.173786103901938\n"
     ]
    }
   ],
   "source": [
    "import pandas as pd\n",
    "from scipy.stats import entropy\n",
    "\n",
    "# Assuming df is your DataFrame\n",
    "for col in df.columns:\n",
    "    print(f'Entropy of {col}: {entropy(df[col].value_counts(normalize=True), base=np.e)}')\n",
    "\n",
    "print(entropy(df.value_counts(normalize=True), base=np.e))\n"
   ]
  },
  {
   "cell_type": "code",
   "execution_count": 36,
   "metadata": {},
   "outputs": [
    {
     "name": "stdout",
     "output_type": "stream",
     "text": [
      "Entropy of Loan_ID: 6.41999492814714\n",
      "Entropy of Gender: 0.48089588139333894\n",
      "Entropy of Married: 0.6465811991072521\n",
      "Entropy of Dependents: 1.1291174740741763\n",
      "Entropy of Education: 0.5246726755960811\n",
      "Entropy of Self_Employed: 0.4065820843521172\n",
      "Entropy of ApplicantIncome: 6.107236436206865\n",
      "Entropy of CoapplicantIncome: 3.783511600286371\n",
      "Entropy of LoanAmount: 4.9438862051356125\n",
      "Entropy of Loan_Amount_Term: 0.6441789434605332\n",
      "Entropy of Credit_History: 0.43600607982675565\n",
      "Entropy of Property_Area: 1.092789563649835\n",
      "Entropy of Loan_Status: 0.6212467946739648\n",
      "6.173786103901938\n"
     ]
    }
   ],
   "source": [
    "import pandas as pd\n",
    "from scipy.stats import entropy\n",
    "\n",
    "# Assuming df is your DataFrame\n",
    "for col in df.columns:\n",
    "    print(f'Entropy of {col}: {entropy(df[col].value_counts(normalize=True), base=np.e)}')\n",
    "\n",
    "print(entropy(df.value_counts(normalize=True), base=np.e))\n"
   ]
  },
  {
   "cell_type": "code",
   "execution_count": 38,
>>>>>>> 2a7c6d2b0cd6ec07fa48869800b909efc828f945
   "metadata": {},
   "outputs": [
    {
     "data": {
      "text/html": [
       "<div>\n",
       "<style scoped>\n",
       "    .dataframe tbody tr th:only-of-type {\n",
       "        vertical-align: middle;\n",
       "    }\n",
       "\n",
       "    .dataframe tbody tr th {\n",
       "        vertical-align: top;\n",
       "    }\n",
       "\n",
       "    .dataframe thead th {\n",
       "        text-align: right;\n",
       "    }\n",
       "</style>\n",
       "<table border=\"1\" class=\"dataframe\">\n",
       "  <thead>\n",
       "    <tr style=\"text-align: right;\">\n",
       "      <th></th>\n",
       "      <th>Loan_ID</th>\n",
       "      <th>Gender</th>\n",
       "      <th>Married</th>\n",
       "      <th>Dependents</th>\n",
       "      <th>Education</th>\n",
       "      <th>Self_Employed</th>\n",
       "      <th>ApplicantIncome</th>\n",
       "      <th>CoapplicantIncome</th>\n",
       "      <th>LoanAmount</th>\n",
       "      <th>Loan_Amount_Term</th>\n",
       "      <th>Credit_History</th>\n",
       "      <th>Property_Area</th>\n",
       "      <th>Loan_Status</th>\n",
       "    </tr>\n",
       "  </thead>\n",
       "  <tbody>\n",
       "    <tr>\n",
       "      <th>0</th>\n",
       "      <td>LP001002</td>\n",
       "      <td>Male</td>\n",
       "      <td>No</td>\n",
       "      <td>0</td>\n",
       "      <td>Graduate</td>\n",
       "      <td>No</td>\n",
       "      <td>5849</td>\n",
       "      <td>0.0</td>\n",
       "      <td>NaN</td>\n",
       "      <td>360.0</td>\n",
       "      <td>1.0</td>\n",
       "      <td>Urban</td>\n",
       "      <td>Y</td>\n",
       "    </tr>\n",
       "    <tr>\n",
       "      <th>1</th>\n",
       "      <td>LP001003</td>\n",
       "      <td>Male</td>\n",
       "      <td>Yes</td>\n",
       "      <td>1</td>\n",
       "      <td>Graduate</td>\n",
       "      <td>No</td>\n",
       "      <td>4583</td>\n",
       "      <td>1508.0</td>\n",
       "      <td>128.0</td>\n",
       "      <td>360.0</td>\n",
       "      <td>1.0</td>\n",
       "      <td>Rural</td>\n",
       "      <td>N</td>\n",
       "    </tr>\n",
       "    <tr>\n",
       "      <th>2</th>\n",
       "      <td>LP001005</td>\n",
       "      <td>Male</td>\n",
       "      <td>Yes</td>\n",
       "      <td>0</td>\n",
       "      <td>Graduate</td>\n",
       "      <td>Yes</td>\n",
       "      <td>3000</td>\n",
       "      <td>0.0</td>\n",
       "      <td>66.0</td>\n",
       "      <td>360.0</td>\n",
       "      <td>1.0</td>\n",
       "      <td>Urban</td>\n",
       "      <td>Y</td>\n",
       "    </tr>\n",
       "    <tr>\n",
       "      <th>3</th>\n",
       "      <td>LP001006</td>\n",
       "      <td>Male</td>\n",
       "      <td>Yes</td>\n",
       "      <td>0</td>\n",
       "      <td>Not Graduate</td>\n",
       "      <td>No</td>\n",
       "      <td>2583</td>\n",
       "      <td>2358.0</td>\n",
       "      <td>120.0</td>\n",
       "      <td>360.0</td>\n",
       "      <td>1.0</td>\n",
       "      <td>Urban</td>\n",
       "      <td>Y</td>\n",
       "    </tr>\n",
       "    <tr>\n",
       "      <th>4</th>\n",
       "      <td>LP001008</td>\n",
       "      <td>Male</td>\n",
       "      <td>No</td>\n",
       "      <td>0</td>\n",
       "      <td>Graduate</td>\n",
       "      <td>No</td>\n",
       "      <td>6000</td>\n",
       "      <td>0.0</td>\n",
       "      <td>141.0</td>\n",
       "      <td>360.0</td>\n",
       "      <td>1.0</td>\n",
       "      <td>Urban</td>\n",
       "      <td>Y</td>\n",
       "    </tr>\n",
       "  </tbody>\n",
       "</table>\n",
       "</div>"
      ],
      "text/plain": [
       "    Loan_ID Gender Married Dependents     Education Self_Employed  \\\n",
       "0  LP001002   Male      No          0      Graduate            No   \n",
       "1  LP001003   Male     Yes          1      Graduate            No   \n",
       "2  LP001005   Male     Yes          0      Graduate           Yes   \n",
       "3  LP001006   Male     Yes          0  Not Graduate            No   \n",
       "4  LP001008   Male      No          0      Graduate            No   \n",
       "\n",
       "   ApplicantIncome  CoapplicantIncome  LoanAmount  Loan_Amount_Term  \\\n",
       "0             5849                0.0         NaN             360.0   \n",
       "1             4583             1508.0       128.0             360.0   \n",
       "2             3000                0.0        66.0             360.0   \n",
       "3             2583             2358.0       120.0             360.0   \n",
       "4             6000                0.0       141.0             360.0   \n",
       "\n",
       "   Credit_History Property_Area Loan_Status  \n",
       "0             1.0         Urban           Y  \n",
       "1             1.0         Rural           N  \n",
       "2             1.0         Urban           Y  \n",
       "3             1.0         Urban           Y  \n",
       "4             1.0         Urban           Y  "
      ]
     },
<<<<<<< HEAD
     "execution_count": 172,
=======
     "execution_count": 38,
>>>>>>> 2a7c6d2b0cd6ec07fa48869800b909efc828f945
     "metadata": {},
     "output_type": "execute_result"
    }
   ],
   "source": [
<<<<<<< HEAD
    "# Convert raw data to DataFrame\n",
    "df = pd.DataFrame(data = bl_csv)\n",
=======
>>>>>>> 2a7c6d2b0cd6ec07fa48869800b909efc828f945
    "df.head()"
   ]
  },
  {
   "cell_type": "code",
<<<<<<< HEAD
   "execution_count": 173,
=======
   "execution_count": 39,
>>>>>>> 2a7c6d2b0cd6ec07fa48869800b909efc828f945
   "metadata": {},
   "outputs": [
    {
     "data": {
      "image/png": "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",
      "text/plain": [
       "<Figure size 640x480 with 1 Axes>"
      ]
     },
     "metadata": {},
     "output_type": "display_data"
    }
   ],
   "source": [
    "# Changed to line graph to better display data\n",
    "(\n",
    "    df.sort_values(by='ApplicantIncome', ascending=True)\n",
    ").plot(\n",
    "    kind='line', \n",
    "    x='ApplicantIncome', \n",
    "    y='CoapplicantIncome'\n",
    ");"
   ]
  },
  {
   "cell_type": "code",
<<<<<<< HEAD
   "execution_count": 174,
=======
   "execution_count": 40,
>>>>>>> 2a7c6d2b0cd6ec07fa48869800b909efc828f945
   "metadata": {},
   "outputs": [
    {
     "name": "stdout",
     "output_type": "stream",
     "text": [
      "Entropy of Loan_ID:              6.4199949\n",
      "Entropy of Gender:               0.4808959\n",
      "Entropy of Married:              0.6465812\n",
      "Entropy of Dependents:           1.1291175\n",
      "Entropy of Education:            0.5246727\n",
      "Entropy of Self_Employed:        0.4065821\n",
      "Entropy of ApplicantIncome:      6.1072364\n",
      "Entropy of CoapplicantIncome:    3.7835116\n",
      "Entropy of LoanAmount:           4.9438862\n",
      "Entropy of Loan_Amount_Term:     0.6441789\n",
      "Entropy of Credit_History:       0.4360061\n",
      "Entropy of Property_Area:        1.0927896\n",
      "Entropy of Loan_Status:          0.6212468\n",
      "Entropy of Value_Counts:         6.1737861\n"
     ]
    }
   ],
   "source": [
    "from scipy.stats import entropy\n",
    "\n",
    "# Assuming df is your DataFrame\n",
    "for col in df.columns:\n",
    "    ln = col + ':'\n",
    "    print(f'Entropy of {ln:<20}  {round(entropy(df[col].value_counts(normalize=True), base=np.e),7)}')\n",
    "\n",
    "print(f'Entropy of {\"Value_Counts:\":<21} {round(entropy(df.value_counts(normalize=True), base=np.e),7)}')\n"
   ]
  },
  {
   "cell_type": "code",
<<<<<<< HEAD
   "execution_count": 175,
   "metadata": {},
   "outputs": [
    {
     "data": {
      "image/png": "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",
      "text/plain": [
       "<Figure size 640x480 with 1 Axes>"
      ]
     },
     "metadata": {},
     "output_type": "display_data"
    }
   ],
   "source": [
    "sns.barplot(data=df.sort_values(by='Loan_ID', ascending=True),x='Education',y='ApplicantIncome');"
   ]
  },
  {
   "cell_type": "code",
   "execution_count": 176,
   "metadata": {},
   "outputs": [
    {
     "data": {
      "image/png": "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",
      "text/plain": [
       "<Figure size 640x480 with 1 Axes>"
      ]
     },
     "metadata": {},
     "output_type": "display_data"
    }
   ],
   "source": [
    "sns.barplot(data=df.sort_values(by='Loan_ID', ascending=True),x='Loan_Status',y='ApplicantIncome');"
   ]
  },
  {
   "cell_type": "code",
   "execution_count": 177,
   "metadata": {},
   "outputs": [
    {
     "data": {
      "image/png": "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",
      "text/plain": [
       "<Figure size 640x480 with 1 Axes>"
      ]
     },
     "metadata": {},
     "output_type": "display_data"
    }
   ],
   "source": [
    "sns.barplot(data=df.sort_values(by='Loan_ID', ascending=True),x='Self_Employed',y='ApplicantIncome');"
   ]
  },
  {
   "cell_type": "code",
   "execution_count": 178,
   "metadata": {},
   "outputs": [
    {
     "data": {
      "image/png": "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",
      "text/plain": [
       "<Figure size 640x480 with 1 Axes>"
      ]
     },
     "metadata": {},
     "output_type": "display_data"
    }
   ],
   "source": [
    "sns.barplot(data=df.sort_values(by='Loan_ID', ascending=True),x='Loan_Status',y='LoanAmount');"
   ]
  },
  {
   "cell_type": "code",
   "execution_count": 179,
   "metadata": {},
   "outputs": [],
   "source": [
    "def pandas_entropy(column, base=None):\n",
    "    vc = pd.Series(column).value_counts(normalize=True, sort=False)\n",
    "    base = np.e if base is None else base\n",
    "    return -(vc * np.log(vc)/np.log(base)).sum()"
   ]
  },
  {
   "cell_type": "code",
   "execution_count": 180,
   "metadata": {},
   "outputs": [
    {
     "name": "stdout",
     "output_type": "stream",
     "text": [
      "Entropy of Loan_ID: 6.41999492814714\n",
      "Entropy of Gender: 0.48089588139333894\n",
      "Entropy of Married: 0.6465811991072521\n",
      "Entropy of Dependents: 1.1291174740741763\n",
      "Entropy of Education: 0.5246726755960811\n",
      "Entropy of Self_Employed: 0.4065820843521172\n",
      "Entropy of ApplicantIncome: 6.107236436206865\n",
      "Entropy of CoapplicantIncome: 3.783511600286371\n",
      "Entropy of LoanAmount: 4.9438862051356125\n",
      "Entropy of Loan_Amount_Term: 0.6441789434605332\n",
      "Entropy of Credit_History: 0.43600607982675565\n",
      "Entropy of Property_Area: 1.092789563649835\n",
      "Entropy of Loan_Status: 0.6212467946739648\n",
      "6.173786103901938\n"
     ]
    }
   ],
=======
   "execution_count": 41,
   "metadata": {},
   "outputs": [],
>>>>>>> 2a7c6d2b0cd6ec07fa48869800b909efc828f945
   "source": [
    "import pandas as pd\n",
    "from scipy.stats import entropy\n",
    "\n",
    "# Assuming df is your DataFrame\n",
    "for col in df.columns:\n",
    "    print(f'Entropy of {col}: {entropy(df[col].value_counts(normalize=True), base=np.e)}')\n",
    "\n",
    "print(entropy(df.value_counts(normalize=True), base=np.e))\n"
   ]
  },
  {
   "cell_type": "code",
   "execution_count": 181,
   "metadata": {},
   "outputs": [
    {
     "name": "stdout",
     "output_type": "stream",
     "text": [
      "Entropy of Loan_ID: 6.41999492814714\n",
      "Entropy of Gender: 0.48089588139333894\n",
      "Entropy of Married: 0.6465811991072521\n",
      "Entropy of Dependents: 1.1291174740741763\n",
      "Entropy of Education: 0.5246726755960811\n",
      "Entropy of Self_Employed: 0.4065820843521172\n",
      "Entropy of ApplicantIncome: 6.107236436206865\n",
      "Entropy of CoapplicantIncome: 3.783511600286371\n",
      "Entropy of LoanAmount: 4.9438862051356125\n",
      "Entropy of Loan_Amount_Term: 0.6441789434605332\n",
      "Entropy of Credit_History: 0.43600607982675565\n",
      "Entropy of Property_Area: 1.092789563649835\n",
      "Entropy of Loan_Status: 0.6212467946739648\n",
      "6.173786103901938\n"
     ]
    }
   ],
   "source": [
    "import pandas as pd\n",
    "from scipy.stats import entropy\n",
    "\n",
    "# Assuming df is your DataFrame\n",
    "for col in df.columns:\n",
    "    print(f'Entropy of {col}: {entropy(df[col].value_counts(normalize=True), base=np.e)}')\n",
    "\n",
    "print(entropy(df.value_counts(normalize=True), base=np.e))\n"
   ]
  },
  {
   "cell_type": "code",
   "execution_count": 182,
   "metadata": {},
   "outputs": [
    {
     "data": {
      "text/html": [
       "<div>\n",
       "<style scoped>\n",
       "    .dataframe tbody tr th:only-of-type {\n",
       "        vertical-align: middle;\n",
       "    }\n",
       "\n",
       "    .dataframe tbody tr th {\n",
       "        vertical-align: top;\n",
       "    }\n",
       "\n",
       "    .dataframe thead th {\n",
       "        text-align: right;\n",
       "    }\n",
       "</style>\n",
       "<table border=\"1\" class=\"dataframe\">\n",
       "  <thead>\n",
       "    <tr style=\"text-align: right;\">\n",
       "      <th></th>\n",
       "      <th>Loan_ID</th>\n",
       "      <th>Gender</th>\n",
       "      <th>Married</th>\n",
       "      <th>Dependents</th>\n",
       "      <th>Education</th>\n",
       "      <th>Self_Employed</th>\n",
       "      <th>ApplicantIncome</th>\n",
       "      <th>CoapplicantIncome</th>\n",
       "      <th>LoanAmount</th>\n",
       "      <th>Loan_Amount_Term</th>\n",
       "      <th>Credit_History</th>\n",
       "      <th>Property_Area</th>\n",
       "      <th>Loan_Status</th>\n",
       "    </tr>\n",
       "  </thead>\n",
       "  <tbody>\n",
       "    <tr>\n",
       "      <th>0</th>\n",
       "      <td>LP001002</td>\n",
       "      <td>Male</td>\n",
       "      <td>No</td>\n",
       "      <td>0</td>\n",
       "      <td>Graduate</td>\n",
       "      <td>No</td>\n",
       "      <td>5849</td>\n",
       "      <td>0.0</td>\n",
       "      <td>NaN</td>\n",
       "      <td>360.0</td>\n",
       "      <td>1.0</td>\n",
       "      <td>Urban</td>\n",
       "      <td>Y</td>\n",
       "    </tr>\n",
       "    <tr>\n",
       "      <th>1</th>\n",
       "      <td>LP001003</td>\n",
       "      <td>Male</td>\n",
       "      <td>Yes</td>\n",
       "      <td>1</td>\n",
       "      <td>Graduate</td>\n",
       "      <td>No</td>\n",
       "      <td>4583</td>\n",
       "      <td>1508.0</td>\n",
       "      <td>128.0</td>\n",
       "      <td>360.0</td>\n",
       "      <td>1.0</td>\n",
       "      <td>Rural</td>\n",
       "      <td>N</td>\n",
       "    </tr>\n",
       "    <tr>\n",
       "      <th>2</th>\n",
       "      <td>LP001005</td>\n",
       "      <td>Male</td>\n",
       "      <td>Yes</td>\n",
       "      <td>0</td>\n",
       "      <td>Graduate</td>\n",
       "      <td>Yes</td>\n",
       "      <td>3000</td>\n",
       "      <td>0.0</td>\n",
       "      <td>66.0</td>\n",
       "      <td>360.0</td>\n",
       "      <td>1.0</td>\n",
       "      <td>Urban</td>\n",
       "      <td>Y</td>\n",
       "    </tr>\n",
       "    <tr>\n",
       "      <th>3</th>\n",
       "      <td>LP001006</td>\n",
       "      <td>Male</td>\n",
       "      <td>Yes</td>\n",
       "      <td>0</td>\n",
       "      <td>Not Graduate</td>\n",
       "      <td>No</td>\n",
       "      <td>2583</td>\n",
       "      <td>2358.0</td>\n",
       "      <td>120.0</td>\n",
       "      <td>360.0</td>\n",
       "      <td>1.0</td>\n",
       "      <td>Urban</td>\n",
       "      <td>Y</td>\n",
       "    </tr>\n",
       "    <tr>\n",
       "      <th>4</th>\n",
       "      <td>LP001008</td>\n",
       "      <td>Male</td>\n",
       "      <td>No</td>\n",
       "      <td>0</td>\n",
       "      <td>Graduate</td>\n",
       "      <td>No</td>\n",
       "      <td>6000</td>\n",
       "      <td>0.0</td>\n",
       "      <td>141.0</td>\n",
       "      <td>360.0</td>\n",
       "      <td>1.0</td>\n",
       "      <td>Urban</td>\n",
       "      <td>Y</td>\n",
       "    </tr>\n",
       "  </tbody>\n",
       "</table>\n",
       "</div>"
      ],
      "text/plain": [
       "    Loan_ID Gender Married Dependents     Education Self_Employed  \\\n",
       "0  LP001002   Male      No          0      Graduate            No   \n",
       "1  LP001003   Male     Yes          1      Graduate            No   \n",
       "2  LP001005   Male     Yes          0      Graduate           Yes   \n",
       "3  LP001006   Male     Yes          0  Not Graduate            No   \n",
       "4  LP001008   Male      No          0      Graduate            No   \n",
       "\n",
       "   ApplicantIncome  CoapplicantIncome  LoanAmount  Loan_Amount_Term  \\\n",
       "0             5849                0.0         NaN             360.0   \n",
       "1             4583             1508.0       128.0             360.0   \n",
       "2             3000                0.0        66.0             360.0   \n",
       "3             2583             2358.0       120.0             360.0   \n",
       "4             6000                0.0       141.0             360.0   \n",
       "\n",
       "   Credit_History Property_Area Loan_Status  \n",
       "0             1.0         Urban           Y  \n",
       "1             1.0         Rural           N  \n",
       "2             1.0         Urban           Y  \n",
       "3             1.0         Urban           Y  \n",
       "4             1.0         Urban           Y  "
      ]
     },
     "execution_count": 182,
     "metadata": {},
     "output_type": "execute_result"
    }
   ],
   "source": [
    "df.head()"
   ]
  },
  {
   "cell_type": "code",
   "execution_count": 183,
   "metadata": {},
   "outputs": [],
   "source": [
    "df[\"Gender\"] = df[\"Gender\"].apply(lambda x: 1 if x == \"Male\" else 0)\n",
    "df[\"Married\"] = df[\"Married\"].apply(lambda x: 1 if x == \"Yes\" else 0)\n",
    "df[\"Education\"] = df[\"Education\"].apply(lambda x: 1 if x == \"Graduate\" else 0)\n",
    "df[\"Self_Employed\"] = df[\"Self_Employed\"].apply(lambda x: 1 if x == \"Yes\" else 0)"
   ]
  },
  {
   "cell_type": "code",
   "execution_count": 184,
   "metadata": {},
   "outputs": [
    {
     "data": {
      "text/html": [
       "<div>\n",
       "<style scoped>\n",
       "    .dataframe tbody tr th:only-of-type {\n",
       "        vertical-align: middle;\n",
       "    }\n",
       "\n",
       "    .dataframe tbody tr th {\n",
       "        vertical-align: top;\n",
       "    }\n",
       "\n",
       "    .dataframe thead th {\n",
       "        text-align: right;\n",
       "    }\n",
       "</style>\n",
       "<table border=\"1\" class=\"dataframe\">\n",
       "  <thead>\n",
       "    <tr style=\"text-align: right;\">\n",
       "      <th></th>\n",
       "      <th>Gender</th>\n",
       "      <th>Married</th>\n",
       "      <th>Education</th>\n",
       "      <th>Self_Employed</th>\n",
       "    </tr>\n",
       "  </thead>\n",
       "  <tbody>\n",
       "    <tr>\n",
       "      <th>0</th>\n",
       "      <td>1</td>\n",
       "      <td>0</td>\n",
       "      <td>1</td>\n",
       "      <td>0</td>\n",
       "    </tr>\n",
       "    <tr>\n",
       "      <th>1</th>\n",
       "      <td>1</td>\n",
       "      <td>1</td>\n",
       "      <td>1</td>\n",
       "      <td>0</td>\n",
       "    </tr>\n",
       "    <tr>\n",
       "      <th>2</th>\n",
       "      <td>1</td>\n",
       "      <td>1</td>\n",
       "      <td>1</td>\n",
       "      <td>1</td>\n",
       "    </tr>\n",
       "    <tr>\n",
       "      <th>3</th>\n",
       "      <td>1</td>\n",
       "      <td>1</td>\n",
       "      <td>0</td>\n",
       "      <td>0</td>\n",
       "    </tr>\n",
       "    <tr>\n",
       "      <th>4</th>\n",
       "      <td>1</td>\n",
       "      <td>0</td>\n",
       "      <td>1</td>\n",
       "      <td>0</td>\n",
       "    </tr>\n",
       "  </tbody>\n",
       "</table>\n",
       "</div>"
      ],
      "text/plain": [
       "   Gender  Married  Education  Self_Employed\n",
       "0       1        0          1              0\n",
       "1       1        1          1              0\n",
       "2       1        1          1              1\n",
       "3       1        1          0              0\n",
       "4       1        0          1              0"
      ]
     },
     "execution_count": 184,
     "metadata": {},
     "output_type": "execute_result"
    }
   ],
   "source": [
    "df[[\"Gender\", \"Married\", \"Education\", \"Self_Employed\"]].head()"
   ]
  },
  {
   "cell_type": "code",
   "execution_count": 185,
   "metadata": {},
   "outputs": [],
   "source": [
    "from sklearn.model_selection import train_test_split\n",
    "from sklearn.tree import DecisionTreeClassifier\n",
    "from sklearn import tree\n",
    "import matplotlib.pyplot as plt\n",
    "\n",
    "# Assuming df is your DataFrame and \"target\" is the target variable\n",
    "# Drop the ID column\n",
    "X = df.drop([\"Loan_Status\", \"Loan_ID\"], axis=1)\n",
    "y = df[\"Loan_Status\"]\n",
    "\n",
    "# Convert the '3+' values to a numerical format"
   ]
  },
  {
   "cell_type": "code",
<<<<<<< HEAD
   "execution_count": 186,
=======
   "execution_count": 43,
>>>>>>> 2a7c6d2b0cd6ec07fa48869800b909efc828f945
   "metadata": {},
   "outputs": [],
   "source": [
    "# Drop the ID column\n",
    "X = df.drop([\"Loan_Status\", \"Loan_ID\"], axis=1)"
   ]
  },
  {
   "cell_type": "code",
<<<<<<< HEAD
   "execution_count": 187,
=======
   "execution_count": 44,
>>>>>>> 2a7c6d2b0cd6ec07fa48869800b909efc828f945
   "metadata": {},
   "outputs": [
    {
     "name": "stdout",
     "output_type": "stream",
     "text": [
      "<class 'pandas.core.frame.DataFrame'>\n",
      "RangeIndex: 614 entries, 0 to 613\n",
      "Data columns (total 13 columns):\n",
      " #   Column             Non-Null Count  Dtype  \n",
      "---  ------             --------------  -----  \n",
      " 0   Loan_ID            614 non-null    object \n",
      " 1   Gender             614 non-null    int64  \n",
      " 2   Married            614 non-null    int64  \n",
      " 3   Dependents         599 non-null    object \n",
      " 4   Education          614 non-null    int64  \n",
      " 5   Self_Employed      614 non-null    int64  \n",
      " 6   ApplicantIncome    614 non-null    int64  \n",
      " 7   CoapplicantIncome  614 non-null    float64\n",
      " 8   LoanAmount         592 non-null    float64\n",
      " 9   Loan_Amount_Term   600 non-null    float64\n",
      " 10  Credit_History     564 non-null    float64\n",
      " 11  Property_Area      614 non-null    object \n",
      " 12  Loan_Status        614 non-null    object \n",
      "dtypes: float64(4), int64(5), object(4)\n",
      "memory usage: 62.5+ KB\n"
     ]
    }
   ],
   "source": [
    "df.info()"
   ]
  },
  {
   "cell_type": "code",
<<<<<<< HEAD
   "execution_count": 188,
=======
   "execution_count": 45,
>>>>>>> 2a7c6d2b0cd6ec07fa48869800b909efc828f945
   "metadata": {},
   "outputs": [
    {
     "data": {
      "text/plain": [
       "0      Y\n",
       "1      N\n",
       "2      Y\n",
       "3      Y\n",
       "4      Y\n",
       "      ..\n",
       "609    Y\n",
       "610    Y\n",
       "611    Y\n",
       "612    Y\n",
       "613    N\n",
       "Name: Loan_Status, Length: 614, dtype: object"
      ]
     },
<<<<<<< HEAD
     "execution_count": 188,
=======
     "execution_count": 45,
>>>>>>> 2a7c6d2b0cd6ec07fa48869800b909efc828f945
     "metadata": {},
     "output_type": "execute_result"
    }
   ],
   "source": [
    "Ydf =df[\"Loan_Status\"]\n",
    "Ydf"
   ]
  },
  {
   "cell_type": "code",
<<<<<<< HEAD
   "execution_count": 189,
=======
   "execution_count": 46,
>>>>>>> 2a7c6d2b0cd6ec07fa48869800b909efc828f945
   "metadata": {},
   "outputs": [
    {
     "ename": "ValueError",
     "evalue": "The truth value of a Series is ambiguous. Use a.empty, a.bool(), a.item(), a.any() or a.all().",
     "output_type": "error",
     "traceback": [
      "\u001b[0;31m---------------------------------------------------------------------------\u001b[0m",
      "\u001b[0;31mValueError\u001b[0m                                Traceback (most recent call last)",
<<<<<<< HEAD
      "\u001b[0;32m/tmp/ipykernel_52203/138580756.py\u001b[0m in \u001b[0;36m?\u001b[0;34m()\u001b[0m\n\u001b[1;32m      1\u001b[0m \u001b[0mYdf\u001b[0m \u001b[0;34m=\u001b[0m\u001b[0mdf\u001b[0m\u001b[0;34m[\u001b[0m\u001b[0;34m\"Loan_Status\"\u001b[0m\u001b[0;34m]\u001b[0m\u001b[0;34m\u001b[0m\u001b[0;34m\u001b[0m\u001b[0m\n\u001b[0;32m----> 2\u001b[0;31m \u001b[0;32mif\u001b[0m \u001b[0mYdf\u001b[0m\u001b[0;34m==\u001b[0m\u001b[0;34m\"Y\"\u001b[0m\u001b[0;34m:\u001b[0m\u001b[0;34m\u001b[0m\u001b[0;34m\u001b[0m\u001b[0m\n\u001b[0m\u001b[1;32m      3\u001b[0m     \u001b[0mYdf\u001b[0m\u001b[0;34m\u001b[0m\u001b[0;34m\u001b[0m\u001b[0m\n",
=======
      "\u001b[0;32m/tmp/ipykernel_52203/952595686.py\u001b[0m in \u001b[0;36m?\u001b[0;34m()\u001b[0m\n\u001b[1;32m      1\u001b[0m \u001b[0mYdf\u001b[0m \u001b[0;34m=\u001b[0m\u001b[0mdf\u001b[0m\u001b[0;34m[\u001b[0m\u001b[0;34m\"Loan_Status\"\u001b[0m\u001b[0;34m]\u001b[0m\u001b[0;34m\u001b[0m\u001b[0;34m\u001b[0m\u001b[0m\n\u001b[0;32m----> 2\u001b[0;31m \u001b[0;32mif\u001b[0m \u001b[0mYdf\u001b[0m\u001b[0;34m==\u001b[0m\u001b[0;34m\"Y\"\u001b[0m\u001b[0;34m:\u001b[0m\u001b[0;34m\u001b[0m\u001b[0;34m\u001b[0m\u001b[0m\n\u001b[0m\u001b[1;32m      3\u001b[0m     \u001b[0mYdf\u001b[0m\u001b[0;34m\u001b[0m\u001b[0;34m\u001b[0m\u001b[0m\n",
>>>>>>> 2a7c6d2b0cd6ec07fa48869800b909efc828f945
      "\u001b[0;32m~/.local/lib/python3.10/site-packages/pandas/core/generic.py\u001b[0m in \u001b[0;36m?\u001b[0;34m(self)\u001b[0m\n\u001b[1;32m   1517\u001b[0m     \u001b[0;34m@\u001b[0m\u001b[0mfinal\u001b[0m\u001b[0;34m\u001b[0m\u001b[0;34m\u001b[0m\u001b[0m\n\u001b[1;32m   1518\u001b[0m     \u001b[0;32mdef\u001b[0m \u001b[0m__nonzero__\u001b[0m\u001b[0;34m(\u001b[0m\u001b[0mself\u001b[0m\u001b[0;34m)\u001b[0m \u001b[0;34m->\u001b[0m \u001b[0mNoReturn\u001b[0m\u001b[0;34m:\u001b[0m\u001b[0;34m\u001b[0m\u001b[0;34m\u001b[0m\u001b[0m\n\u001b[0;32m-> 1519\u001b[0;31m         raise ValueError(\n\u001b[0m\u001b[1;32m   1520\u001b[0m             \u001b[0;34mf\"The truth value of a {type(self).__name__} is ambiguous. \"\u001b[0m\u001b[0;34m\u001b[0m\u001b[0;34m\u001b[0m\u001b[0m\n\u001b[1;32m   1521\u001b[0m             \u001b[0;34m\"Use a.empty, a.bool(), a.item(), a.any() or a.all().\"\u001b[0m\u001b[0;34m\u001b[0m\u001b[0;34m\u001b[0m\u001b[0m\n\u001b[1;32m   1522\u001b[0m         )\n",
      "\u001b[0;31mValueError\u001b[0m: The truth value of a Series is ambiguous. Use a.empty, a.bool(), a.item(), a.any() or a.all()."
     ]
    }
   ],
   "source": [
    "Ydf =df[\"Loan_Status\"]\n",
    "if Ydf==\"Y\":\n",
    "    Ydf"
   ]
  },
  {
   "cell_type": "code",
   "execution_count": null,
   "metadata": {},
   "outputs": [],
   "source": []
  }
 ],
 "metadata": {
  "kernelspec": {
   "display_name": "base",
   "language": "python",
   "name": "python3"
  },
  "language_info": {
   "codemirror_mode": {
    "name": "ipython",
    "version": 3
   },
   "file_extension": ".py",
   "mimetype": "text/x-python",
   "name": "python",
   "nbconvert_exporter": "python",
   "pygments_lexer": "ipython3",
   "version": "3.10.12"
  }
 },
 "nbformat": 4,
 "nbformat_minor": 2
}
